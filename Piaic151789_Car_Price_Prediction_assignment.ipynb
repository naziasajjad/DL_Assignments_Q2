{
 "cells": [
  {
   "cell_type": "markdown",
   "metadata": {
    "id": "0_HsWVrWvDNP"
   },
   "source": [
    "# Car Price Prediction::"
   ]
  },
  {
   "cell_type": "markdown",
   "metadata": {
    "id": "Neq61yUOvDNV"
   },
   "source": [
    "Download dataset from this link:\n",
    "\n",
    "https://www.kaggle.com/hellbuoy/car-price-prediction"
   ]
  },
  {
   "cell_type": "markdown",
   "metadata": {
    "id": "errs9eyZvDNW"
   },
   "source": [
    "# Problem Statement::"
   ]
  },
  {
   "cell_type": "code",
   "execution_count": 79,
   "metadata": {
    "colab": {
     "base_uri": "https://localhost:8080/"
    },
    "id": "92PLZp2kwKxv",
    "outputId": "256b59cb-a3bf-4c09-a1f5-6cdb364a18d5"
   },
   "outputs": [
    {
     "ename": "ModuleNotFoundError",
     "evalue": "No module named 'google.colab'",
     "output_type": "error",
     "traceback": [
      "\u001b[1;31m---------------------------------------------------------------------------\u001b[0m",
      "\u001b[1;31mModuleNotFoundError\u001b[0m                       Traceback (most recent call last)",
      "\u001b[1;32m<ipython-input-79-f8945cc1376d>\u001b[0m in \u001b[0;36m<module>\u001b[1;34m\u001b[0m\n\u001b[0;32m      1\u001b[0m \u001b[1;31m# mount google drive in to your Colab enviornment\u001b[0m\u001b[1;33m\u001b[0m\u001b[1;33m\u001b[0m\u001b[1;33m\u001b[0m\u001b[0m\n\u001b[1;32m----> 2\u001b[1;33m \u001b[1;32mfrom\u001b[0m \u001b[0mgoogle\u001b[0m\u001b[1;33m.\u001b[0m\u001b[0mcolab\u001b[0m \u001b[1;32mimport\u001b[0m \u001b[0mdrive\u001b[0m\u001b[1;33m\u001b[0m\u001b[1;33m\u001b[0m\u001b[0m\n\u001b[0m\u001b[0;32m      3\u001b[0m \u001b[0mdrive\u001b[0m\u001b[1;33m.\u001b[0m\u001b[0mmount\u001b[0m\u001b[1;33m(\u001b[0m\u001b[1;34m'/content/drive'\u001b[0m\u001b[1;33m)\u001b[0m\u001b[1;33m\u001b[0m\u001b[1;33m\u001b[0m\u001b[0m\n",
      "\u001b[1;31mModuleNotFoundError\u001b[0m: No module named 'google.colab'"
     ]
    }
   ],
   "source": [
    "# mount google drive in to your Colab enviornment\n",
    "from google.colab import drive\n",
    "drive.mount('/content/drive')"
   ]
  },
  {
   "cell_type": "code",
   "execution_count": null,
   "metadata": {
    "colab": {
     "base_uri": "https://localhost:8080/"
    },
    "id": "yvDEDSF3yS1S",
    "outputId": "e83d5edf-d639-420f-b1bb-a53d87727c34"
   },
   "outputs": [],
   "source": [
    "cd /content/drive/MyDrive/AI_assignment/\n"
   ]
  },
  {
   "cell_type": "markdown",
   "metadata": {
    "id": "zCu6NRLVvDNX"
   },
   "source": [
    "A Chinese automobile company Geely Auto aspires to enter the US market by setting up their manufacturing unit there and producing cars locally to give competition to their US and European counterparts.\n",
    "\n",
    "They have contracted an automobile consulting company to understand the factors on which the pricing of cars depends. Specifically, they want to understand the factors affecting the pricing of cars in the American market, since those may be very different from the Chinese market. The company wants to know:\n",
    "\n",
    "Which variables are significant in predicting the price of a car\n",
    "How well those variables describe the price of a car\n",
    "Based on various market surveys, the consulting firm has gathered a large data set of different types of cars across the America market.\n",
    "\n",
    "# task::\n",
    "We are required to model the price of cars with the available independent variables. It will be used by the management to understand how exactly the prices vary with the independent variables. They can accordingly manipulate the design of the cars, the business strategy etc. to meet certain price levels. Further, the model will be a good way for management to understand the pricing dynamics of a new market."
   ]
  },
  {
   "cell_type": "markdown",
   "metadata": {
    "id": "3-vI6CymvDNX"
   },
   "source": [
    "# WORKFLOW ::"
   ]
  },
  {
   "cell_type": "markdown",
   "metadata": {
    "id": "mRvlK8RBvDNX"
   },
   "source": [
    "1.Load Data\n",
    "\n",
    "2.Check Missing Values ( If Exist ; Fill each record with mean of its feature )\n",
    "\n",
    "3.Split into 50% Training(Samples,Labels) , 30% Test(Samples,Labels) and 20% Validation Data(Samples,Labels).\n",
    "\n",
    "4.Model : input Layer (No. of features ), 3 hidden layers including 10,8,6 unit & Output Layer with activation function relu/tanh (check by experiment).\n",
    "\n",
    "5.Compilation Step (Note : Its a Regression problem , select loss , metrics according to it)\n",
    "6.Train the Model with Epochs (100) and validate it\n",
    "\n",
    "7.If the model gets overfit tune your model by changing the units , No. of layers , activation function , epochs , add dropout layer or add Regularizer according to the need .\n",
    "\n",
    "8.Evaluation Step\n",
    "\n",
    "9.Prediction"
   ]
  },
  {
   "cell_type": "code",
   "execution_count": 5,
   "metadata": {
    "id": "duXMXXhZvDNY"
   },
   "outputs": [],
   "source": [
    "import pandas as pd\n",
    "import numpy as np\n",
    "car_data = pd.read_csv('CarPrice_Assignment.csv')"
   ]
  },
  {
   "cell_type": "code",
   "execution_count": 7,
   "metadata": {
    "id": "vd2sfUEUPRvi"
   },
   "outputs": [],
   "source": [
    "import tensorflow as tf"
   ]
  },
  {
   "cell_type": "code",
   "execution_count": 8,
   "metadata": {
    "colab": {
     "base_uri": "https://localhost:8080/",
     "height": 270
    },
    "id": "hnf-BIvL5-qO",
    "outputId": "b6ad9a61-8203-49bc-fec8-9c7be751d992"
   },
   "outputs": [
    {
     "data": {
      "text/html": [
       "<div>\n",
       "<style scoped>\n",
       "    .dataframe tbody tr th:only-of-type {\n",
       "        vertical-align: middle;\n",
       "    }\n",
       "\n",
       "    .dataframe tbody tr th {\n",
       "        vertical-align: top;\n",
       "    }\n",
       "\n",
       "    .dataframe thead th {\n",
       "        text-align: right;\n",
       "    }\n",
       "</style>\n",
       "<table border=\"1\" class=\"dataframe\">\n",
       "  <thead>\n",
       "    <tr style=\"text-align: right;\">\n",
       "      <th></th>\n",
       "      <th>car_ID</th>\n",
       "      <th>symboling</th>\n",
       "      <th>CarName</th>\n",
       "      <th>fueltype</th>\n",
       "      <th>aspiration</th>\n",
       "      <th>doornumber</th>\n",
       "      <th>carbody</th>\n",
       "      <th>drivewheel</th>\n",
       "      <th>enginelocation</th>\n",
       "      <th>wheelbase</th>\n",
       "      <th>...</th>\n",
       "      <th>enginesize</th>\n",
       "      <th>fuelsystem</th>\n",
       "      <th>boreratio</th>\n",
       "      <th>stroke</th>\n",
       "      <th>compressionratio</th>\n",
       "      <th>horsepower</th>\n",
       "      <th>peakrpm</th>\n",
       "      <th>citympg</th>\n",
       "      <th>highwaympg</th>\n",
       "      <th>price</th>\n",
       "    </tr>\n",
       "  </thead>\n",
       "  <tbody>\n",
       "    <tr>\n",
       "      <th>0</th>\n",
       "      <td>1</td>\n",
       "      <td>3</td>\n",
       "      <td>alfa-romero giulia</td>\n",
       "      <td>gas</td>\n",
       "      <td>std</td>\n",
       "      <td>two</td>\n",
       "      <td>convertible</td>\n",
       "      <td>rwd</td>\n",
       "      <td>front</td>\n",
       "      <td>88.6</td>\n",
       "      <td>...</td>\n",
       "      <td>130</td>\n",
       "      <td>mpfi</td>\n",
       "      <td>3.47</td>\n",
       "      <td>2.68</td>\n",
       "      <td>9.0</td>\n",
       "      <td>111</td>\n",
       "      <td>5000</td>\n",
       "      <td>21</td>\n",
       "      <td>27</td>\n",
       "      <td>13495.0</td>\n",
       "    </tr>\n",
       "    <tr>\n",
       "      <th>1</th>\n",
       "      <td>2</td>\n",
       "      <td>3</td>\n",
       "      <td>alfa-romero stelvio</td>\n",
       "      <td>gas</td>\n",
       "      <td>std</td>\n",
       "      <td>two</td>\n",
       "      <td>convertible</td>\n",
       "      <td>rwd</td>\n",
       "      <td>front</td>\n",
       "      <td>88.6</td>\n",
       "      <td>...</td>\n",
       "      <td>130</td>\n",
       "      <td>mpfi</td>\n",
       "      <td>3.47</td>\n",
       "      <td>2.68</td>\n",
       "      <td>9.0</td>\n",
       "      <td>111</td>\n",
       "      <td>5000</td>\n",
       "      <td>21</td>\n",
       "      <td>27</td>\n",
       "      <td>16500.0</td>\n",
       "    </tr>\n",
       "    <tr>\n",
       "      <th>2</th>\n",
       "      <td>3</td>\n",
       "      <td>1</td>\n",
       "      <td>alfa-romero Quadrifoglio</td>\n",
       "      <td>gas</td>\n",
       "      <td>std</td>\n",
       "      <td>two</td>\n",
       "      <td>hatchback</td>\n",
       "      <td>rwd</td>\n",
       "      <td>front</td>\n",
       "      <td>94.5</td>\n",
       "      <td>...</td>\n",
       "      <td>152</td>\n",
       "      <td>mpfi</td>\n",
       "      <td>2.68</td>\n",
       "      <td>3.47</td>\n",
       "      <td>9.0</td>\n",
       "      <td>154</td>\n",
       "      <td>5000</td>\n",
       "      <td>19</td>\n",
       "      <td>26</td>\n",
       "      <td>16500.0</td>\n",
       "    </tr>\n",
       "    <tr>\n",
       "      <th>3</th>\n",
       "      <td>4</td>\n",
       "      <td>2</td>\n",
       "      <td>audi 100 ls</td>\n",
       "      <td>gas</td>\n",
       "      <td>std</td>\n",
       "      <td>four</td>\n",
       "      <td>sedan</td>\n",
       "      <td>fwd</td>\n",
       "      <td>front</td>\n",
       "      <td>99.8</td>\n",
       "      <td>...</td>\n",
       "      <td>109</td>\n",
       "      <td>mpfi</td>\n",
       "      <td>3.19</td>\n",
       "      <td>3.40</td>\n",
       "      <td>10.0</td>\n",
       "      <td>102</td>\n",
       "      <td>5500</td>\n",
       "      <td>24</td>\n",
       "      <td>30</td>\n",
       "      <td>13950.0</td>\n",
       "    </tr>\n",
       "    <tr>\n",
       "      <th>4</th>\n",
       "      <td>5</td>\n",
       "      <td>2</td>\n",
       "      <td>audi 100ls</td>\n",
       "      <td>gas</td>\n",
       "      <td>std</td>\n",
       "      <td>four</td>\n",
       "      <td>sedan</td>\n",
       "      <td>4wd</td>\n",
       "      <td>front</td>\n",
       "      <td>99.4</td>\n",
       "      <td>...</td>\n",
       "      <td>136</td>\n",
       "      <td>mpfi</td>\n",
       "      <td>3.19</td>\n",
       "      <td>3.40</td>\n",
       "      <td>8.0</td>\n",
       "      <td>115</td>\n",
       "      <td>5500</td>\n",
       "      <td>18</td>\n",
       "      <td>22</td>\n",
       "      <td>17450.0</td>\n",
       "    </tr>\n",
       "  </tbody>\n",
       "</table>\n",
       "<p>5 rows × 26 columns</p>\n",
       "</div>"
      ],
      "text/plain": [
       "   car_ID  symboling                   CarName fueltype aspiration doornumber  \\\n",
       "0       1          3        alfa-romero giulia      gas        std        two   \n",
       "1       2          3       alfa-romero stelvio      gas        std        two   \n",
       "2       3          1  alfa-romero Quadrifoglio      gas        std        two   \n",
       "3       4          2               audi 100 ls      gas        std       four   \n",
       "4       5          2                audi 100ls      gas        std       four   \n",
       "\n",
       "       carbody drivewheel enginelocation  wheelbase  ...  enginesize  \\\n",
       "0  convertible        rwd          front       88.6  ...         130   \n",
       "1  convertible        rwd          front       88.6  ...         130   \n",
       "2    hatchback        rwd          front       94.5  ...         152   \n",
       "3        sedan        fwd          front       99.8  ...         109   \n",
       "4        sedan        4wd          front       99.4  ...         136   \n",
       "\n",
       "   fuelsystem  boreratio  stroke compressionratio horsepower  peakrpm citympg  \\\n",
       "0        mpfi       3.47    2.68              9.0        111     5000      21   \n",
       "1        mpfi       3.47    2.68              9.0        111     5000      21   \n",
       "2        mpfi       2.68    3.47              9.0        154     5000      19   \n",
       "3        mpfi       3.19    3.40             10.0        102     5500      24   \n",
       "4        mpfi       3.19    3.40              8.0        115     5500      18   \n",
       "\n",
       "   highwaympg    price  \n",
       "0          27  13495.0  \n",
       "1          27  16500.0  \n",
       "2          26  16500.0  \n",
       "3          30  13950.0  \n",
       "4          22  17450.0  \n",
       "\n",
       "[5 rows x 26 columns]"
      ]
     },
     "execution_count": 8,
     "metadata": {},
     "output_type": "execute_result"
    }
   ],
   "source": [
    "car_data.head()"
   ]
  },
  {
   "cell_type": "code",
   "execution_count": 9,
   "metadata": {
    "colab": {
     "base_uri": "https://localhost:8080/"
    },
    "id": "-JRgNW0hzOVH",
    "outputId": "aaa30897-3839-4114-f131-5bc215e78773"
   },
   "outputs": [
    {
     "data": {
      "text/plain": [
       "array(['alfa-romero giulia', 'alfa-romero stelvio',\n",
       "       'alfa-romero Quadrifoglio', 'audi 100 ls', 'audi 100ls',\n",
       "       'audi fox', 'audi 5000', 'audi 4000', 'audi 5000s (diesel)',\n",
       "       'bmw 320i', 'bmw x1', 'bmw x3', 'bmw z4', 'bmw x4', 'bmw x5',\n",
       "       'chevrolet impala', 'chevrolet monte carlo', 'chevrolet vega 2300',\n",
       "       'dodge rampage', 'dodge challenger se', 'dodge d200',\n",
       "       'dodge monaco (sw)', 'dodge colt hardtop', 'dodge colt (sw)',\n",
       "       'dodge coronet custom', 'dodge dart custom',\n",
       "       'dodge coronet custom (sw)', 'honda civic', 'honda civic cvcc',\n",
       "       'honda accord cvcc', 'honda accord lx', 'honda civic 1500 gl',\n",
       "       'honda accord', 'honda civic 1300', 'honda prelude',\n",
       "       'honda civic (auto)', 'isuzu MU-X', 'isuzu D-Max ',\n",
       "       'isuzu D-Max V-Cross', 'jaguar xj', 'jaguar xf', 'jaguar xk',\n",
       "       'maxda rx3', 'maxda glc deluxe', 'mazda rx2 coupe', 'mazda rx-4',\n",
       "       'mazda glc deluxe', 'mazda 626', 'mazda glc', 'mazda rx-7 gs',\n",
       "       'mazda glc 4', 'mazda glc custom l', 'mazda glc custom',\n",
       "       'buick electra 225 custom', 'buick century luxus (sw)',\n",
       "       'buick century', 'buick skyhawk', 'buick opel isuzu deluxe',\n",
       "       'buick skylark', 'buick century special',\n",
       "       'buick regal sport coupe (turbo)', 'mercury cougar',\n",
       "       'mitsubishi mirage', 'mitsubishi lancer', 'mitsubishi outlander',\n",
       "       'mitsubishi g4', 'mitsubishi mirage g4', 'mitsubishi montero',\n",
       "       'mitsubishi pajero', 'Nissan versa', 'nissan gt-r', 'nissan rogue',\n",
       "       'nissan latio', 'nissan titan', 'nissan leaf', 'nissan juke',\n",
       "       'nissan note', 'nissan clipper', 'nissan nv200', 'nissan dayz',\n",
       "       'nissan fuga', 'nissan otti', 'nissan teana', 'nissan kicks',\n",
       "       'peugeot 504', 'peugeot 304', 'peugeot 504 (sw)', 'peugeot 604sl',\n",
       "       'peugeot 505s turbo diesel', 'plymouth fury iii',\n",
       "       'plymouth cricket', 'plymouth satellite custom (sw)',\n",
       "       'plymouth fury gran sedan', 'plymouth valiant', 'plymouth duster',\n",
       "       'porsche macan', 'porcshce panamera', 'porsche cayenne',\n",
       "       'porsche boxter', 'renault 12tl', 'renault 5 gtl', 'saab 99e',\n",
       "       'saab 99le', 'saab 99gle', 'subaru', 'subaru dl', 'subaru brz',\n",
       "       'subaru baja', 'subaru r1', 'subaru r2', 'subaru trezia',\n",
       "       'subaru tribeca', 'toyota corona mark ii', 'toyota corona',\n",
       "       'toyota corolla 1200', 'toyota corona hardtop',\n",
       "       'toyota corolla 1600 (sw)', 'toyota carina', 'toyota mark ii',\n",
       "       'toyota corolla', 'toyota corolla liftback',\n",
       "       'toyota celica gt liftback', 'toyota corolla tercel',\n",
       "       'toyota corona liftback', 'toyota starlet', 'toyota tercel',\n",
       "       'toyota cressida', 'toyota celica gt', 'toyouta tercel',\n",
       "       'vokswagen rabbit', 'volkswagen 1131 deluxe sedan',\n",
       "       'volkswagen model 111', 'volkswagen type 3', 'volkswagen 411 (sw)',\n",
       "       'volkswagen super beetle', 'volkswagen dasher', 'vw dasher',\n",
       "       'vw rabbit', 'volkswagen rabbit', 'volkswagen rabbit custom',\n",
       "       'volvo 145e (sw)', 'volvo 144ea', 'volvo 244dl', 'volvo 245',\n",
       "       'volvo 264gl', 'volvo diesel', 'volvo 246'], dtype=object)"
      ]
     },
     "execution_count": 9,
     "metadata": {},
     "output_type": "execute_result"
    }
   ],
   "source": [
    "car_data['CarName'].unique()"
   ]
  },
  {
   "cell_type": "code",
   "execution_count": 10,
   "metadata": {
    "colab": {
     "base_uri": "https://localhost:8080/"
    },
    "id": "H6NTeH-qvDNa",
    "outputId": "22e54046-ac09-4239-a3bc-6e028aef24cd"
   },
   "outputs": [
    {
     "data": {
      "text/plain": [
       "(array([], dtype=int64), array([], dtype=int64))"
      ]
     },
     "execution_count": 10,
     "metadata": {},
     "output_type": "execute_result"
    }
   ],
   "source": [
    "#check if there are empty cells, if there are then row and column indexes will be returned where values are empty or missing\n",
    "np.where(car_data.applymap(lambda x: x ==''))"
   ]
  },
  {
   "cell_type": "code",
   "execution_count": 11,
   "metadata": {
    "colab": {
     "base_uri": "https://localhost:8080/"
    },
    "id": "euCqFI3Y0l6h",
    "outputId": "efbc7a1d-e172-4147-92d3-be20ab65e6a0"
   },
   "outputs": [
    {
     "data": {
      "text/plain": [
       "car_ID              0\n",
       "symboling           0\n",
       "CarName             0\n",
       "fueltype            0\n",
       "aspiration          0\n",
       "doornumber          0\n",
       "carbody             0\n",
       "drivewheel          0\n",
       "enginelocation      0\n",
       "wheelbase           0\n",
       "carlength           0\n",
       "carwidth            0\n",
       "carheight           0\n",
       "curbweight          0\n",
       "enginetype          0\n",
       "cylindernumber      0\n",
       "enginesize          0\n",
       "fuelsystem          0\n",
       "boreratio           0\n",
       "stroke              0\n",
       "compressionratio    0\n",
       "horsepower          0\n",
       "peakrpm             0\n",
       "citympg             0\n",
       "highwaympg          0\n",
       "price               0\n",
       "dtype: int64"
      ]
     },
     "execution_count": 11,
     "metadata": {},
     "output_type": "execute_result"
    }
   ],
   "source": [
    "car_data.isnull().sum()"
   ]
  },
  {
   "cell_type": "code",
   "execution_count": 12,
   "metadata": {
    "id": "UwZgj7IIvXRm"
   },
   "outputs": [],
   "source": [
    "# correct the name error in audi 100 ls\n",
    "car_data.iloc[3,2] = 'audi 100ls'"
   ]
  },
  {
   "cell_type": "code",
   "execution_count": 13,
   "metadata": {
    "colab": {
     "base_uri": "https://localhost:8080/"
    },
    "id": "r1cCvWApvDNZ",
    "outputId": "4d480387-4142-46eb-fff8-6326e0c57795"
   },
   "outputs": [
    {
     "data": {
      "text/plain": [
       "car_ID                int64\n",
       "symboling             int64\n",
       "CarName              object\n",
       "fueltype             object\n",
       "aspiration           object\n",
       "doornumber           object\n",
       "carbody              object\n",
       "drivewheel           object\n",
       "enginelocation       object\n",
       "wheelbase           float64\n",
       "carlength           float64\n",
       "carwidth            float64\n",
       "carheight           float64\n",
       "curbweight            int64\n",
       "enginetype           object\n",
       "cylindernumber       object\n",
       "enginesize            int64\n",
       "fuelsystem           object\n",
       "boreratio           float64\n",
       "stroke              float64\n",
       "compressionratio    float64\n",
       "horsepower            int64\n",
       "peakrpm               int64\n",
       "citympg               int64\n",
       "highwaympg            int64\n",
       "price               float64\n",
       "dtype: object"
      ]
     },
     "execution_count": 13,
     "metadata": {},
     "output_type": "execute_result"
    }
   ],
   "source": [
    "car_data.dtypes"
   ]
  },
  {
   "cell_type": "code",
   "execution_count": 14,
   "metadata": {
    "id": "yCSHog6LFfdp"
   },
   "outputs": [],
   "source": [
    "car_data.drop(columns=['car_ID'], inplace = True)"
   ]
  },
  {
   "cell_type": "code",
   "execution_count": 15,
   "metadata": {
    "colab": {
     "base_uri": "https://localhost:8080/"
    },
    "id": "BN6vZOZr5EpP",
    "outputId": "0a6ce9f1-1def-4f5b-f4b7-d0880a0b914e"
   },
   "outputs": [
    {
     "data": {
      "text/plain": [
       "Index(['symboling', 'CarName', 'fueltype', 'aspiration', 'doornumber',\n",
       "       'carbody', 'drivewheel', 'enginelocation', 'wheelbase', 'carlength',\n",
       "       'carwidth', 'carheight', 'curbweight', 'enginetype', 'cylindernumber',\n",
       "       'enginesize', 'fuelsystem', 'boreratio', 'stroke', 'compressionratio',\n",
       "       'horsepower', 'peakrpm', 'citympg', 'highwaympg', 'price'],\n",
       "      dtype='object')"
      ]
     },
     "execution_count": 15,
     "metadata": {},
     "output_type": "execute_result"
    }
   ],
   "source": [
    "# get columns so that we can use the column names for onehot encoding of catagorical featrues in next cell\n",
    "car_data.columns"
   ]
  },
  {
   "cell_type": "code",
   "execution_count": 16,
   "metadata": {
    "id": "nqvKX-JyvDNa"
   },
   "outputs": [],
   "source": [
    "# onehot encode all catagorical columns\n",
    "f_car = pd.get_dummies(car_data, columns=['CarName','symboling','fueltype',\t'aspiration',\t'doornumber',\t'carbody',\t'drivewheel',\t'enginelocation',\t'enginetype',\t'cylindernumber',\t'fuelsystem'], drop_first = True)\n"
   ]
  },
  {
   "cell_type": "code",
   "execution_count": 17,
   "metadata": {
    "colab": {
     "base_uri": "https://localhost:8080/",
     "height": 282
    },
    "id": "VUW7m4p1C_Iz",
    "outputId": "f93de7f1-94a6-45b2-c548-7423bb04778c"
   },
   "outputs": [
    {
     "data": {
      "text/html": [
       "<div>\n",
       "<style scoped>\n",
       "    .dataframe tbody tr th:only-of-type {\n",
       "        vertical-align: middle;\n",
       "    }\n",
       "\n",
       "    .dataframe tbody tr th {\n",
       "        vertical-align: top;\n",
       "    }\n",
       "\n",
       "    .dataframe thead th {\n",
       "        text-align: right;\n",
       "    }\n",
       "</style>\n",
       "<table border=\"1\" class=\"dataframe\">\n",
       "  <thead>\n",
       "    <tr style=\"text-align: right;\">\n",
       "      <th></th>\n",
       "      <th>wheelbase</th>\n",
       "      <th>carlength</th>\n",
       "      <th>carwidth</th>\n",
       "      <th>carheight</th>\n",
       "      <th>curbweight</th>\n",
       "      <th>enginesize</th>\n",
       "      <th>boreratio</th>\n",
       "      <th>stroke</th>\n",
       "      <th>compressionratio</th>\n",
       "      <th>horsepower</th>\n",
       "      <th>...</th>\n",
       "      <th>cylindernumber_three</th>\n",
       "      <th>cylindernumber_twelve</th>\n",
       "      <th>cylindernumber_two</th>\n",
       "      <th>fuelsystem_2bbl</th>\n",
       "      <th>fuelsystem_4bbl</th>\n",
       "      <th>fuelsystem_idi</th>\n",
       "      <th>fuelsystem_mfi</th>\n",
       "      <th>fuelsystem_mpfi</th>\n",
       "      <th>fuelsystem_spdi</th>\n",
       "      <th>fuelsystem_spfi</th>\n",
       "    </tr>\n",
       "  </thead>\n",
       "  <tbody>\n",
       "    <tr>\n",
       "      <th>0</th>\n",
       "      <td>88.6</td>\n",
       "      <td>168.8</td>\n",
       "      <td>64.1</td>\n",
       "      <td>48.8</td>\n",
       "      <td>2548</td>\n",
       "      <td>130</td>\n",
       "      <td>3.47</td>\n",
       "      <td>2.68</td>\n",
       "      <td>9.0</td>\n",
       "      <td>111</td>\n",
       "      <td>...</td>\n",
       "      <td>0</td>\n",
       "      <td>0</td>\n",
       "      <td>0</td>\n",
       "      <td>0</td>\n",
       "      <td>0</td>\n",
       "      <td>0</td>\n",
       "      <td>0</td>\n",
       "      <td>1</td>\n",
       "      <td>0</td>\n",
       "      <td>0</td>\n",
       "    </tr>\n",
       "    <tr>\n",
       "      <th>1</th>\n",
       "      <td>88.6</td>\n",
       "      <td>168.8</td>\n",
       "      <td>64.1</td>\n",
       "      <td>48.8</td>\n",
       "      <td>2548</td>\n",
       "      <td>130</td>\n",
       "      <td>3.47</td>\n",
       "      <td>2.68</td>\n",
       "      <td>9.0</td>\n",
       "      <td>111</td>\n",
       "      <td>...</td>\n",
       "      <td>0</td>\n",
       "      <td>0</td>\n",
       "      <td>0</td>\n",
       "      <td>0</td>\n",
       "      <td>0</td>\n",
       "      <td>0</td>\n",
       "      <td>0</td>\n",
       "      <td>1</td>\n",
       "      <td>0</td>\n",
       "      <td>0</td>\n",
       "    </tr>\n",
       "    <tr>\n",
       "      <th>2</th>\n",
       "      <td>94.5</td>\n",
       "      <td>171.2</td>\n",
       "      <td>65.5</td>\n",
       "      <td>52.4</td>\n",
       "      <td>2823</td>\n",
       "      <td>152</td>\n",
       "      <td>2.68</td>\n",
       "      <td>3.47</td>\n",
       "      <td>9.0</td>\n",
       "      <td>154</td>\n",
       "      <td>...</td>\n",
       "      <td>0</td>\n",
       "      <td>0</td>\n",
       "      <td>0</td>\n",
       "      <td>0</td>\n",
       "      <td>0</td>\n",
       "      <td>0</td>\n",
       "      <td>0</td>\n",
       "      <td>1</td>\n",
       "      <td>0</td>\n",
       "      <td>0</td>\n",
       "    </tr>\n",
       "    <tr>\n",
       "      <th>3</th>\n",
       "      <td>99.8</td>\n",
       "      <td>176.6</td>\n",
       "      <td>66.2</td>\n",
       "      <td>54.3</td>\n",
       "      <td>2337</td>\n",
       "      <td>109</td>\n",
       "      <td>3.19</td>\n",
       "      <td>3.40</td>\n",
       "      <td>10.0</td>\n",
       "      <td>102</td>\n",
       "      <td>...</td>\n",
       "      <td>0</td>\n",
       "      <td>0</td>\n",
       "      <td>0</td>\n",
       "      <td>0</td>\n",
       "      <td>0</td>\n",
       "      <td>0</td>\n",
       "      <td>0</td>\n",
       "      <td>1</td>\n",
       "      <td>0</td>\n",
       "      <td>0</td>\n",
       "    </tr>\n",
       "    <tr>\n",
       "      <th>4</th>\n",
       "      <td>99.4</td>\n",
       "      <td>176.6</td>\n",
       "      <td>66.4</td>\n",
       "      <td>54.3</td>\n",
       "      <td>2824</td>\n",
       "      <td>136</td>\n",
       "      <td>3.19</td>\n",
       "      <td>3.40</td>\n",
       "      <td>8.0</td>\n",
       "      <td>115</td>\n",
       "      <td>...</td>\n",
       "      <td>0</td>\n",
       "      <td>0</td>\n",
       "      <td>0</td>\n",
       "      <td>0</td>\n",
       "      <td>0</td>\n",
       "      <td>0</td>\n",
       "      <td>0</td>\n",
       "      <td>1</td>\n",
       "      <td>0</td>\n",
       "      <td>0</td>\n",
       "    </tr>\n",
       "  </tbody>\n",
       "</table>\n",
       "<p>5 rows × 193 columns</p>\n",
       "</div>"
      ],
      "text/plain": [
       "   wheelbase  carlength  carwidth  carheight  curbweight  enginesize  \\\n",
       "0       88.6      168.8      64.1       48.8        2548         130   \n",
       "1       88.6      168.8      64.1       48.8        2548         130   \n",
       "2       94.5      171.2      65.5       52.4        2823         152   \n",
       "3       99.8      176.6      66.2       54.3        2337         109   \n",
       "4       99.4      176.6      66.4       54.3        2824         136   \n",
       "\n",
       "   boreratio  stroke  compressionratio  horsepower  ...  cylindernumber_three  \\\n",
       "0       3.47    2.68               9.0         111  ...                     0   \n",
       "1       3.47    2.68               9.0         111  ...                     0   \n",
       "2       2.68    3.47               9.0         154  ...                     0   \n",
       "3       3.19    3.40              10.0         102  ...                     0   \n",
       "4       3.19    3.40               8.0         115  ...                     0   \n",
       "\n",
       "   cylindernumber_twelve  cylindernumber_two  fuelsystem_2bbl  \\\n",
       "0                      0                   0                0   \n",
       "1                      0                   0                0   \n",
       "2                      0                   0                0   \n",
       "3                      0                   0                0   \n",
       "4                      0                   0                0   \n",
       "\n",
       "   fuelsystem_4bbl  fuelsystem_idi  fuelsystem_mfi  fuelsystem_mpfi  \\\n",
       "0                0               0               0                1   \n",
       "1                0               0               0                1   \n",
       "2                0               0               0                1   \n",
       "3                0               0               0                1   \n",
       "4                0               0               0                1   \n",
       "\n",
       "   fuelsystem_spdi  fuelsystem_spfi  \n",
       "0                0                0  \n",
       "1                0                0  \n",
       "2                0                0  \n",
       "3                0                0  \n",
       "4                0                0  \n",
       "\n",
       "[5 rows x 193 columns]"
      ]
     },
     "execution_count": 17,
     "metadata": {},
     "output_type": "execute_result"
    }
   ],
   "source": [
    "f_car.head()"
   ]
  },
  {
   "cell_type": "code",
   "execution_count": 18,
   "metadata": {
    "colab": {
     "base_uri": "https://localhost:8080/",
     "height": 372
    },
    "id": "hgIZc8J6UswW",
    "outputId": "17db7f3d-8ebf-46cf-cbba-b5b5c7557ca0"
   },
   "outputs": [
    {
     "data": {
      "text/html": [
       "<div>\n",
       "<style scoped>\n",
       "    .dataframe tbody tr th:only-of-type {\n",
       "        vertical-align: middle;\n",
       "    }\n",
       "\n",
       "    .dataframe tbody tr th {\n",
       "        vertical-align: top;\n",
       "    }\n",
       "\n",
       "    .dataframe thead th {\n",
       "        text-align: right;\n",
       "    }\n",
       "</style>\n",
       "<table border=\"1\" class=\"dataframe\">\n",
       "  <thead>\n",
       "    <tr style=\"text-align: right;\">\n",
       "      <th></th>\n",
       "      <th>wheelbase</th>\n",
       "      <th>carlength</th>\n",
       "      <th>carwidth</th>\n",
       "      <th>carheight</th>\n",
       "      <th>curbweight</th>\n",
       "      <th>enginesize</th>\n",
       "      <th>boreratio</th>\n",
       "      <th>stroke</th>\n",
       "      <th>compressionratio</th>\n",
       "      <th>horsepower</th>\n",
       "      <th>...</th>\n",
       "      <th>cylindernumber_three</th>\n",
       "      <th>cylindernumber_twelve</th>\n",
       "      <th>cylindernumber_two</th>\n",
       "      <th>fuelsystem_2bbl</th>\n",
       "      <th>fuelsystem_4bbl</th>\n",
       "      <th>fuelsystem_idi</th>\n",
       "      <th>fuelsystem_mfi</th>\n",
       "      <th>fuelsystem_mpfi</th>\n",
       "      <th>fuelsystem_spdi</th>\n",
       "      <th>fuelsystem_spfi</th>\n",
       "    </tr>\n",
       "  </thead>\n",
       "  <tbody>\n",
       "    <tr>\n",
       "      <th>count</th>\n",
       "      <td>205.000000</td>\n",
       "      <td>205.000000</td>\n",
       "      <td>205.000000</td>\n",
       "      <td>205.000000</td>\n",
       "      <td>205.000000</td>\n",
       "      <td>205.000000</td>\n",
       "      <td>205.000000</td>\n",
       "      <td>205.000000</td>\n",
       "      <td>205.000000</td>\n",
       "      <td>205.000000</td>\n",
       "      <td>...</td>\n",
       "      <td>205.000000</td>\n",
       "      <td>205.000000</td>\n",
       "      <td>205.000000</td>\n",
       "      <td>205.000000</td>\n",
       "      <td>205.000000</td>\n",
       "      <td>205.000000</td>\n",
       "      <td>205.000000</td>\n",
       "      <td>205.000000</td>\n",
       "      <td>205.000000</td>\n",
       "      <td>205.000000</td>\n",
       "    </tr>\n",
       "    <tr>\n",
       "      <th>mean</th>\n",
       "      <td>98.756585</td>\n",
       "      <td>174.049268</td>\n",
       "      <td>65.907805</td>\n",
       "      <td>53.724878</td>\n",
       "      <td>2555.565854</td>\n",
       "      <td>126.907317</td>\n",
       "      <td>3.329756</td>\n",
       "      <td>3.255415</td>\n",
       "      <td>10.142537</td>\n",
       "      <td>104.117073</td>\n",
       "      <td>...</td>\n",
       "      <td>0.004878</td>\n",
       "      <td>0.004878</td>\n",
       "      <td>0.019512</td>\n",
       "      <td>0.321951</td>\n",
       "      <td>0.014634</td>\n",
       "      <td>0.097561</td>\n",
       "      <td>0.004878</td>\n",
       "      <td>0.458537</td>\n",
       "      <td>0.043902</td>\n",
       "      <td>0.004878</td>\n",
       "    </tr>\n",
       "    <tr>\n",
       "      <th>std</th>\n",
       "      <td>6.021776</td>\n",
       "      <td>12.337289</td>\n",
       "      <td>2.145204</td>\n",
       "      <td>2.443522</td>\n",
       "      <td>520.680204</td>\n",
       "      <td>41.642693</td>\n",
       "      <td>0.270844</td>\n",
       "      <td>0.313597</td>\n",
       "      <td>3.972040</td>\n",
       "      <td>39.544167</td>\n",
       "      <td>...</td>\n",
       "      <td>0.069843</td>\n",
       "      <td>0.069843</td>\n",
       "      <td>0.138655</td>\n",
       "      <td>0.468368</td>\n",
       "      <td>0.120377</td>\n",
       "      <td>0.297446</td>\n",
       "      <td>0.069843</td>\n",
       "      <td>0.499498</td>\n",
       "      <td>0.205380</td>\n",
       "      <td>0.069843</td>\n",
       "    </tr>\n",
       "    <tr>\n",
       "      <th>min</th>\n",
       "      <td>86.600000</td>\n",
       "      <td>141.100000</td>\n",
       "      <td>60.300000</td>\n",
       "      <td>47.800000</td>\n",
       "      <td>1488.000000</td>\n",
       "      <td>61.000000</td>\n",
       "      <td>2.540000</td>\n",
       "      <td>2.070000</td>\n",
       "      <td>7.000000</td>\n",
       "      <td>48.000000</td>\n",
       "      <td>...</td>\n",
       "      <td>0.000000</td>\n",
       "      <td>0.000000</td>\n",
       "      <td>0.000000</td>\n",
       "      <td>0.000000</td>\n",
       "      <td>0.000000</td>\n",
       "      <td>0.000000</td>\n",
       "      <td>0.000000</td>\n",
       "      <td>0.000000</td>\n",
       "      <td>0.000000</td>\n",
       "      <td>0.000000</td>\n",
       "    </tr>\n",
       "    <tr>\n",
       "      <th>25%</th>\n",
       "      <td>94.500000</td>\n",
       "      <td>166.300000</td>\n",
       "      <td>64.100000</td>\n",
       "      <td>52.000000</td>\n",
       "      <td>2145.000000</td>\n",
       "      <td>97.000000</td>\n",
       "      <td>3.150000</td>\n",
       "      <td>3.110000</td>\n",
       "      <td>8.600000</td>\n",
       "      <td>70.000000</td>\n",
       "      <td>...</td>\n",
       "      <td>0.000000</td>\n",
       "      <td>0.000000</td>\n",
       "      <td>0.000000</td>\n",
       "      <td>0.000000</td>\n",
       "      <td>0.000000</td>\n",
       "      <td>0.000000</td>\n",
       "      <td>0.000000</td>\n",
       "      <td>0.000000</td>\n",
       "      <td>0.000000</td>\n",
       "      <td>0.000000</td>\n",
       "    </tr>\n",
       "    <tr>\n",
       "      <th>50%</th>\n",
       "      <td>97.000000</td>\n",
       "      <td>173.200000</td>\n",
       "      <td>65.500000</td>\n",
       "      <td>54.100000</td>\n",
       "      <td>2414.000000</td>\n",
       "      <td>120.000000</td>\n",
       "      <td>3.310000</td>\n",
       "      <td>3.290000</td>\n",
       "      <td>9.000000</td>\n",
       "      <td>95.000000</td>\n",
       "      <td>...</td>\n",
       "      <td>0.000000</td>\n",
       "      <td>0.000000</td>\n",
       "      <td>0.000000</td>\n",
       "      <td>0.000000</td>\n",
       "      <td>0.000000</td>\n",
       "      <td>0.000000</td>\n",
       "      <td>0.000000</td>\n",
       "      <td>0.000000</td>\n",
       "      <td>0.000000</td>\n",
       "      <td>0.000000</td>\n",
       "    </tr>\n",
       "    <tr>\n",
       "      <th>75%</th>\n",
       "      <td>102.400000</td>\n",
       "      <td>183.100000</td>\n",
       "      <td>66.900000</td>\n",
       "      <td>55.500000</td>\n",
       "      <td>2935.000000</td>\n",
       "      <td>141.000000</td>\n",
       "      <td>3.580000</td>\n",
       "      <td>3.410000</td>\n",
       "      <td>9.400000</td>\n",
       "      <td>116.000000</td>\n",
       "      <td>...</td>\n",
       "      <td>0.000000</td>\n",
       "      <td>0.000000</td>\n",
       "      <td>0.000000</td>\n",
       "      <td>1.000000</td>\n",
       "      <td>0.000000</td>\n",
       "      <td>0.000000</td>\n",
       "      <td>0.000000</td>\n",
       "      <td>1.000000</td>\n",
       "      <td>0.000000</td>\n",
       "      <td>0.000000</td>\n",
       "    </tr>\n",
       "    <tr>\n",
       "      <th>max</th>\n",
       "      <td>120.900000</td>\n",
       "      <td>208.100000</td>\n",
       "      <td>72.300000</td>\n",
       "      <td>59.800000</td>\n",
       "      <td>4066.000000</td>\n",
       "      <td>326.000000</td>\n",
       "      <td>3.940000</td>\n",
       "      <td>4.170000</td>\n",
       "      <td>23.000000</td>\n",
       "      <td>288.000000</td>\n",
       "      <td>...</td>\n",
       "      <td>1.000000</td>\n",
       "      <td>1.000000</td>\n",
       "      <td>1.000000</td>\n",
       "      <td>1.000000</td>\n",
       "      <td>1.000000</td>\n",
       "      <td>1.000000</td>\n",
       "      <td>1.000000</td>\n",
       "      <td>1.000000</td>\n",
       "      <td>1.000000</td>\n",
       "      <td>1.000000</td>\n",
       "    </tr>\n",
       "  </tbody>\n",
       "</table>\n",
       "<p>8 rows × 193 columns</p>\n",
       "</div>"
      ],
      "text/plain": [
       "        wheelbase   carlength    carwidth   carheight   curbweight  \\\n",
       "count  205.000000  205.000000  205.000000  205.000000   205.000000   \n",
       "mean    98.756585  174.049268   65.907805   53.724878  2555.565854   \n",
       "std      6.021776   12.337289    2.145204    2.443522   520.680204   \n",
       "min     86.600000  141.100000   60.300000   47.800000  1488.000000   \n",
       "25%     94.500000  166.300000   64.100000   52.000000  2145.000000   \n",
       "50%     97.000000  173.200000   65.500000   54.100000  2414.000000   \n",
       "75%    102.400000  183.100000   66.900000   55.500000  2935.000000   \n",
       "max    120.900000  208.100000   72.300000   59.800000  4066.000000   \n",
       "\n",
       "       enginesize   boreratio      stroke  compressionratio  horsepower  ...  \\\n",
       "count  205.000000  205.000000  205.000000        205.000000  205.000000  ...   \n",
       "mean   126.907317    3.329756    3.255415         10.142537  104.117073  ...   \n",
       "std     41.642693    0.270844    0.313597          3.972040   39.544167  ...   \n",
       "min     61.000000    2.540000    2.070000          7.000000   48.000000  ...   \n",
       "25%     97.000000    3.150000    3.110000          8.600000   70.000000  ...   \n",
       "50%    120.000000    3.310000    3.290000          9.000000   95.000000  ...   \n",
       "75%    141.000000    3.580000    3.410000          9.400000  116.000000  ...   \n",
       "max    326.000000    3.940000    4.170000         23.000000  288.000000  ...   \n",
       "\n",
       "       cylindernumber_three  cylindernumber_twelve  cylindernumber_two  \\\n",
       "count            205.000000             205.000000          205.000000   \n",
       "mean               0.004878               0.004878            0.019512   \n",
       "std                0.069843               0.069843            0.138655   \n",
       "min                0.000000               0.000000            0.000000   \n",
       "25%                0.000000               0.000000            0.000000   \n",
       "50%                0.000000               0.000000            0.000000   \n",
       "75%                0.000000               0.000000            0.000000   \n",
       "max                1.000000               1.000000            1.000000   \n",
       "\n",
       "       fuelsystem_2bbl  fuelsystem_4bbl  fuelsystem_idi  fuelsystem_mfi  \\\n",
       "count       205.000000       205.000000      205.000000      205.000000   \n",
       "mean          0.321951         0.014634        0.097561        0.004878   \n",
       "std           0.468368         0.120377        0.297446        0.069843   \n",
       "min           0.000000         0.000000        0.000000        0.000000   \n",
       "25%           0.000000         0.000000        0.000000        0.000000   \n",
       "50%           0.000000         0.000000        0.000000        0.000000   \n",
       "75%           1.000000         0.000000        0.000000        0.000000   \n",
       "max           1.000000         1.000000        1.000000        1.000000   \n",
       "\n",
       "       fuelsystem_mpfi  fuelsystem_spdi  fuelsystem_spfi  \n",
       "count       205.000000       205.000000       205.000000  \n",
       "mean          0.458537         0.043902         0.004878  \n",
       "std           0.499498         0.205380         0.069843  \n",
       "min           0.000000         0.000000         0.000000  \n",
       "25%           0.000000         0.000000         0.000000  \n",
       "50%           0.000000         0.000000         0.000000  \n",
       "75%           1.000000         0.000000         0.000000  \n",
       "max           1.000000         1.000000         1.000000  \n",
       "\n",
       "[8 rows x 193 columns]"
      ]
     },
     "execution_count": 18,
     "metadata": {},
     "output_type": "execute_result"
    }
   ],
   "source": [
    "#check statistical data to see abnormal values and outliers\n",
    "f_car.describe()"
   ]
  },
  {
   "cell_type": "code",
   "execution_count": 19,
   "metadata": {
    "id": "q_sikuUQAGD4"
   },
   "outputs": [],
   "source": [
    "#initialize a seed value so that each time we can get the same random number sequence, it will help us  as a team\n",
    "# working on a common project to work on the same random data. Each new seed will generate a particular sequnce\n",
    "#of random number. You can choose any seed value here of your choice\n",
    "# 0.72 means we have taken 72% values for training set as we will make 72/4 = 18 rows of k fold validation data, where\n",
    "# value of k will be 4 when we compile and fit our model for validation\n",
    "np.random.seed(12456)\n",
    "msk = np.random.rand(len(f_car)) < 0.72\n",
    "train_total = f_car[msk]\n",
    "test_total = f_car[~msk]\n"
   ]
  },
  {
   "cell_type": "code",
   "execution_count": 20,
   "metadata": {
    "colab": {
     "base_uri": "https://localhost:8080/"
    },
    "id": "JSjX5UckTu1_",
    "outputId": "178c3bdb-a34e-4502-b1e7-3508270965b2"
   },
   "outputs": [
    {
     "name": "stdout",
     "output_type": "stream",
     "text": [
      "150\n",
      "55\n"
     ]
    }
   ],
   "source": [
    "#check the length of our test and train datasets\n",
    "print(len(train_total))\n",
    "print(len(test_total))\n"
   ]
  },
  {
   "cell_type": "code",
   "execution_count": 21,
   "metadata": {
    "colab": {
     "base_uri": "https://localhost:8080/",
     "height": 432
    },
    "id": "a4njPsfOfLJP",
    "outputId": "e5f50d61-f5c1-4d7d-f40c-a7ee06beddef"
   },
   "outputs": [
    {
     "data": {
      "text/html": [
       "<div>\n",
       "<style scoped>\n",
       "    .dataframe tbody tr th:only-of-type {\n",
       "        vertical-align: middle;\n",
       "    }\n",
       "\n",
       "    .dataframe tbody tr th {\n",
       "        vertical-align: top;\n",
       "    }\n",
       "\n",
       "    .dataframe thead th {\n",
       "        text-align: right;\n",
       "    }\n",
       "</style>\n",
       "<table border=\"1\" class=\"dataframe\">\n",
       "  <thead>\n",
       "    <tr style=\"text-align: right;\">\n",
       "      <th></th>\n",
       "      <th>wheelbase</th>\n",
       "      <th>carlength</th>\n",
       "      <th>carwidth</th>\n",
       "      <th>carheight</th>\n",
       "      <th>curbweight</th>\n",
       "      <th>enginesize</th>\n",
       "      <th>boreratio</th>\n",
       "      <th>stroke</th>\n",
       "      <th>compressionratio</th>\n",
       "      <th>horsepower</th>\n",
       "      <th>...</th>\n",
       "      <th>cylindernumber_three</th>\n",
       "      <th>cylindernumber_twelve</th>\n",
       "      <th>cylindernumber_two</th>\n",
       "      <th>fuelsystem_2bbl</th>\n",
       "      <th>fuelsystem_4bbl</th>\n",
       "      <th>fuelsystem_idi</th>\n",
       "      <th>fuelsystem_mfi</th>\n",
       "      <th>fuelsystem_mpfi</th>\n",
       "      <th>fuelsystem_spdi</th>\n",
       "      <th>fuelsystem_spfi</th>\n",
       "    </tr>\n",
       "  </thead>\n",
       "  <tbody>\n",
       "    <tr>\n",
       "      <th>1</th>\n",
       "      <td>88.6</td>\n",
       "      <td>168.8</td>\n",
       "      <td>64.1</td>\n",
       "      <td>48.8</td>\n",
       "      <td>2548</td>\n",
       "      <td>130</td>\n",
       "      <td>3.47</td>\n",
       "      <td>2.68</td>\n",
       "      <td>9.0</td>\n",
       "      <td>111</td>\n",
       "      <td>...</td>\n",
       "      <td>0</td>\n",
       "      <td>0</td>\n",
       "      <td>0</td>\n",
       "      <td>0</td>\n",
       "      <td>0</td>\n",
       "      <td>0</td>\n",
       "      <td>0</td>\n",
       "      <td>1</td>\n",
       "      <td>0</td>\n",
       "      <td>0</td>\n",
       "    </tr>\n",
       "    <tr>\n",
       "      <th>2</th>\n",
       "      <td>94.5</td>\n",
       "      <td>171.2</td>\n",
       "      <td>65.5</td>\n",
       "      <td>52.4</td>\n",
       "      <td>2823</td>\n",
       "      <td>152</td>\n",
       "      <td>2.68</td>\n",
       "      <td>3.47</td>\n",
       "      <td>9.0</td>\n",
       "      <td>154</td>\n",
       "      <td>...</td>\n",
       "      <td>0</td>\n",
       "      <td>0</td>\n",
       "      <td>0</td>\n",
       "      <td>0</td>\n",
       "      <td>0</td>\n",
       "      <td>0</td>\n",
       "      <td>0</td>\n",
       "      <td>1</td>\n",
       "      <td>0</td>\n",
       "      <td>0</td>\n",
       "    </tr>\n",
       "    <tr>\n",
       "      <th>5</th>\n",
       "      <td>99.8</td>\n",
       "      <td>177.3</td>\n",
       "      <td>66.3</td>\n",
       "      <td>53.1</td>\n",
       "      <td>2507</td>\n",
       "      <td>136</td>\n",
       "      <td>3.19</td>\n",
       "      <td>3.40</td>\n",
       "      <td>8.5</td>\n",
       "      <td>110</td>\n",
       "      <td>...</td>\n",
       "      <td>0</td>\n",
       "      <td>0</td>\n",
       "      <td>0</td>\n",
       "      <td>0</td>\n",
       "      <td>0</td>\n",
       "      <td>0</td>\n",
       "      <td>0</td>\n",
       "      <td>1</td>\n",
       "      <td>0</td>\n",
       "      <td>0</td>\n",
       "    </tr>\n",
       "    <tr>\n",
       "      <th>6</th>\n",
       "      <td>105.8</td>\n",
       "      <td>192.7</td>\n",
       "      <td>71.4</td>\n",
       "      <td>55.7</td>\n",
       "      <td>2844</td>\n",
       "      <td>136</td>\n",
       "      <td>3.19</td>\n",
       "      <td>3.40</td>\n",
       "      <td>8.5</td>\n",
       "      <td>110</td>\n",
       "      <td>...</td>\n",
       "      <td>0</td>\n",
       "      <td>0</td>\n",
       "      <td>0</td>\n",
       "      <td>0</td>\n",
       "      <td>0</td>\n",
       "      <td>0</td>\n",
       "      <td>0</td>\n",
       "      <td>1</td>\n",
       "      <td>0</td>\n",
       "      <td>0</td>\n",
       "    </tr>\n",
       "    <tr>\n",
       "      <th>7</th>\n",
       "      <td>105.8</td>\n",
       "      <td>192.7</td>\n",
       "      <td>71.4</td>\n",
       "      <td>55.7</td>\n",
       "      <td>2954</td>\n",
       "      <td>136</td>\n",
       "      <td>3.19</td>\n",
       "      <td>3.40</td>\n",
       "      <td>8.5</td>\n",
       "      <td>110</td>\n",
       "      <td>...</td>\n",
       "      <td>0</td>\n",
       "      <td>0</td>\n",
       "      <td>0</td>\n",
       "      <td>0</td>\n",
       "      <td>0</td>\n",
       "      <td>0</td>\n",
       "      <td>0</td>\n",
       "      <td>1</td>\n",
       "      <td>0</td>\n",
       "      <td>0</td>\n",
       "    </tr>\n",
       "    <tr>\n",
       "      <th>8</th>\n",
       "      <td>105.8</td>\n",
       "      <td>192.7</td>\n",
       "      <td>71.4</td>\n",
       "      <td>55.9</td>\n",
       "      <td>3086</td>\n",
       "      <td>131</td>\n",
       "      <td>3.13</td>\n",
       "      <td>3.40</td>\n",
       "      <td>8.3</td>\n",
       "      <td>140</td>\n",
       "      <td>...</td>\n",
       "      <td>0</td>\n",
       "      <td>0</td>\n",
       "      <td>0</td>\n",
       "      <td>0</td>\n",
       "      <td>0</td>\n",
       "      <td>0</td>\n",
       "      <td>0</td>\n",
       "      <td>1</td>\n",
       "      <td>0</td>\n",
       "      <td>0</td>\n",
       "    </tr>\n",
       "    <tr>\n",
       "      <th>9</th>\n",
       "      <td>99.5</td>\n",
       "      <td>178.2</td>\n",
       "      <td>67.9</td>\n",
       "      <td>52.0</td>\n",
       "      <td>3053</td>\n",
       "      <td>131</td>\n",
       "      <td>3.13</td>\n",
       "      <td>3.40</td>\n",
       "      <td>7.0</td>\n",
       "      <td>160</td>\n",
       "      <td>...</td>\n",
       "      <td>0</td>\n",
       "      <td>0</td>\n",
       "      <td>0</td>\n",
       "      <td>0</td>\n",
       "      <td>0</td>\n",
       "      <td>0</td>\n",
       "      <td>0</td>\n",
       "      <td>1</td>\n",
       "      <td>0</td>\n",
       "      <td>0</td>\n",
       "    </tr>\n",
       "    <tr>\n",
       "      <th>10</th>\n",
       "      <td>101.2</td>\n",
       "      <td>176.8</td>\n",
       "      <td>64.8</td>\n",
       "      <td>54.3</td>\n",
       "      <td>2395</td>\n",
       "      <td>108</td>\n",
       "      <td>3.50</td>\n",
       "      <td>2.80</td>\n",
       "      <td>8.8</td>\n",
       "      <td>101</td>\n",
       "      <td>...</td>\n",
       "      <td>0</td>\n",
       "      <td>0</td>\n",
       "      <td>0</td>\n",
       "      <td>0</td>\n",
       "      <td>0</td>\n",
       "      <td>0</td>\n",
       "      <td>0</td>\n",
       "      <td>1</td>\n",
       "      <td>0</td>\n",
       "      <td>0</td>\n",
       "    </tr>\n",
       "    <tr>\n",
       "      <th>14</th>\n",
       "      <td>103.5</td>\n",
       "      <td>189.0</td>\n",
       "      <td>66.9</td>\n",
       "      <td>55.7</td>\n",
       "      <td>3055</td>\n",
       "      <td>164</td>\n",
       "      <td>3.31</td>\n",
       "      <td>3.19</td>\n",
       "      <td>9.0</td>\n",
       "      <td>121</td>\n",
       "      <td>...</td>\n",
       "      <td>0</td>\n",
       "      <td>0</td>\n",
       "      <td>0</td>\n",
       "      <td>0</td>\n",
       "      <td>0</td>\n",
       "      <td>0</td>\n",
       "      <td>0</td>\n",
       "      <td>1</td>\n",
       "      <td>0</td>\n",
       "      <td>0</td>\n",
       "    </tr>\n",
       "    <tr>\n",
       "      <th>15</th>\n",
       "      <td>103.5</td>\n",
       "      <td>189.0</td>\n",
       "      <td>66.9</td>\n",
       "      <td>55.7</td>\n",
       "      <td>3230</td>\n",
       "      <td>209</td>\n",
       "      <td>3.62</td>\n",
       "      <td>3.39</td>\n",
       "      <td>8.0</td>\n",
       "      <td>182</td>\n",
       "      <td>...</td>\n",
       "      <td>0</td>\n",
       "      <td>0</td>\n",
       "      <td>0</td>\n",
       "      <td>0</td>\n",
       "      <td>0</td>\n",
       "      <td>0</td>\n",
       "      <td>0</td>\n",
       "      <td>1</td>\n",
       "      <td>0</td>\n",
       "      <td>0</td>\n",
       "    </tr>\n",
       "  </tbody>\n",
       "</table>\n",
       "<p>10 rows × 193 columns</p>\n",
       "</div>"
      ],
      "text/plain": [
       "    wheelbase  carlength  carwidth  carheight  curbweight  enginesize  \\\n",
       "1        88.6      168.8      64.1       48.8        2548         130   \n",
       "2        94.5      171.2      65.5       52.4        2823         152   \n",
       "5        99.8      177.3      66.3       53.1        2507         136   \n",
       "6       105.8      192.7      71.4       55.7        2844         136   \n",
       "7       105.8      192.7      71.4       55.7        2954         136   \n",
       "8       105.8      192.7      71.4       55.9        3086         131   \n",
       "9        99.5      178.2      67.9       52.0        3053         131   \n",
       "10      101.2      176.8      64.8       54.3        2395         108   \n",
       "14      103.5      189.0      66.9       55.7        3055         164   \n",
       "15      103.5      189.0      66.9       55.7        3230         209   \n",
       "\n",
       "    boreratio  stroke  compressionratio  horsepower  ...  \\\n",
       "1        3.47    2.68               9.0         111  ...   \n",
       "2        2.68    3.47               9.0         154  ...   \n",
       "5        3.19    3.40               8.5         110  ...   \n",
       "6        3.19    3.40               8.5         110  ...   \n",
       "7        3.19    3.40               8.5         110  ...   \n",
       "8        3.13    3.40               8.3         140  ...   \n",
       "9        3.13    3.40               7.0         160  ...   \n",
       "10       3.50    2.80               8.8         101  ...   \n",
       "14       3.31    3.19               9.0         121  ...   \n",
       "15       3.62    3.39               8.0         182  ...   \n",
       "\n",
       "    cylindernumber_three  cylindernumber_twelve  cylindernumber_two  \\\n",
       "1                      0                      0                   0   \n",
       "2                      0                      0                   0   \n",
       "5                      0                      0                   0   \n",
       "6                      0                      0                   0   \n",
       "7                      0                      0                   0   \n",
       "8                      0                      0                   0   \n",
       "9                      0                      0                   0   \n",
       "10                     0                      0                   0   \n",
       "14                     0                      0                   0   \n",
       "15                     0                      0                   0   \n",
       "\n",
       "    fuelsystem_2bbl  fuelsystem_4bbl  fuelsystem_idi  fuelsystem_mfi  \\\n",
       "1                 0                0               0               0   \n",
       "2                 0                0               0               0   \n",
       "5                 0                0               0               0   \n",
       "6                 0                0               0               0   \n",
       "7                 0                0               0               0   \n",
       "8                 0                0               0               0   \n",
       "9                 0                0               0               0   \n",
       "10                0                0               0               0   \n",
       "14                0                0               0               0   \n",
       "15                0                0               0               0   \n",
       "\n",
       "    fuelsystem_mpfi  fuelsystem_spdi  fuelsystem_spfi  \n",
       "1                 1                0                0  \n",
       "2                 1                0                0  \n",
       "5                 1                0                0  \n",
       "6                 1                0                0  \n",
       "7                 1                0                0  \n",
       "8                 1                0                0  \n",
       "9                 1                0                0  \n",
       "10                1                0                0  \n",
       "14                1                0                0  \n",
       "15                1                0                0  \n",
       "\n",
       "[10 rows x 193 columns]"
      ]
     },
     "execution_count": 21,
     "metadata": {},
     "output_type": "execute_result"
    }
   ],
   "source": [
    "train_total.head(10)"
   ]
  },
  {
   "cell_type": "code",
   "execution_count": 22,
   "metadata": {
    "colab": {
     "base_uri": "https://localhost:8080/",
     "height": 372
    },
    "id": "BeYOhn1Eiams",
    "outputId": "692801ab-7caa-487d-970a-ce41e76e3563"
   },
   "outputs": [
    {
     "data": {
      "text/html": [
       "<div>\n",
       "<style scoped>\n",
       "    .dataframe tbody tr th:only-of-type {\n",
       "        vertical-align: middle;\n",
       "    }\n",
       "\n",
       "    .dataframe tbody tr th {\n",
       "        vertical-align: top;\n",
       "    }\n",
       "\n",
       "    .dataframe thead th {\n",
       "        text-align: right;\n",
       "    }\n",
       "</style>\n",
       "<table border=\"1\" class=\"dataframe\">\n",
       "  <thead>\n",
       "    <tr style=\"text-align: right;\">\n",
       "      <th></th>\n",
       "      <th>wheelbase</th>\n",
       "      <th>carlength</th>\n",
       "      <th>carwidth</th>\n",
       "      <th>carheight</th>\n",
       "      <th>curbweight</th>\n",
       "      <th>enginesize</th>\n",
       "      <th>boreratio</th>\n",
       "      <th>stroke</th>\n",
       "      <th>compressionratio</th>\n",
       "      <th>horsepower</th>\n",
       "      <th>...</th>\n",
       "      <th>cylindernumber_three</th>\n",
       "      <th>cylindernumber_twelve</th>\n",
       "      <th>cylindernumber_two</th>\n",
       "      <th>fuelsystem_2bbl</th>\n",
       "      <th>fuelsystem_4bbl</th>\n",
       "      <th>fuelsystem_idi</th>\n",
       "      <th>fuelsystem_mfi</th>\n",
       "      <th>fuelsystem_mpfi</th>\n",
       "      <th>fuelsystem_spdi</th>\n",
       "      <th>fuelsystem_spfi</th>\n",
       "    </tr>\n",
       "  </thead>\n",
       "  <tbody>\n",
       "    <tr>\n",
       "      <th>count</th>\n",
       "      <td>150.000000</td>\n",
       "      <td>150.000000</td>\n",
       "      <td>150.000000</td>\n",
       "      <td>150.000000</td>\n",
       "      <td>150.000000</td>\n",
       "      <td>150.000000</td>\n",
       "      <td>150.000000</td>\n",
       "      <td>150.000000</td>\n",
       "      <td>150.00000</td>\n",
       "      <td>150.000000</td>\n",
       "      <td>...</td>\n",
       "      <td>150.000000</td>\n",
       "      <td>150.000000</td>\n",
       "      <td>150.000000</td>\n",
       "      <td>150.000000</td>\n",
       "      <td>150.000000</td>\n",
       "      <td>150.000000</td>\n",
       "      <td>150.000000</td>\n",
       "      <td>150.000000</td>\n",
       "      <td>150.000000</td>\n",
       "      <td>150.000000</td>\n",
       "    </tr>\n",
       "    <tr>\n",
       "      <th>mean</th>\n",
       "      <td>99.012667</td>\n",
       "      <td>174.210667</td>\n",
       "      <td>65.954667</td>\n",
       "      <td>53.799333</td>\n",
       "      <td>2562.740000</td>\n",
       "      <td>126.326667</td>\n",
       "      <td>3.322800</td>\n",
       "      <td>3.244033</td>\n",
       "      <td>10.24880</td>\n",
       "      <td>103.173333</td>\n",
       "      <td>...</td>\n",
       "      <td>0.006667</td>\n",
       "      <td>0.006667</td>\n",
       "      <td>0.020000</td>\n",
       "      <td>0.333333</td>\n",
       "      <td>0.013333</td>\n",
       "      <td>0.106667</td>\n",
       "      <td>0.006667</td>\n",
       "      <td>0.446667</td>\n",
       "      <td>0.046667</td>\n",
       "      <td>0.006667</td>\n",
       "    </tr>\n",
       "    <tr>\n",
       "      <th>std</th>\n",
       "      <td>6.144964</td>\n",
       "      <td>12.855303</td>\n",
       "      <td>2.287127</td>\n",
       "      <td>2.469070</td>\n",
       "      <td>542.836614</td>\n",
       "      <td>44.248459</td>\n",
       "      <td>0.272766</td>\n",
       "      <td>0.318708</td>\n",
       "      <td>4.12509</td>\n",
       "      <td>40.173908</td>\n",
       "      <td>...</td>\n",
       "      <td>0.081650</td>\n",
       "      <td>0.081650</td>\n",
       "      <td>0.140469</td>\n",
       "      <td>0.472984</td>\n",
       "      <td>0.115082</td>\n",
       "      <td>0.309723</td>\n",
       "      <td>0.081650</td>\n",
       "      <td>0.498813</td>\n",
       "      <td>0.211631</td>\n",
       "      <td>0.081650</td>\n",
       "    </tr>\n",
       "    <tr>\n",
       "      <th>min</th>\n",
       "      <td>86.600000</td>\n",
       "      <td>141.100000</td>\n",
       "      <td>60.300000</td>\n",
       "      <td>47.800000</td>\n",
       "      <td>1488.000000</td>\n",
       "      <td>61.000000</td>\n",
       "      <td>2.540000</td>\n",
       "      <td>2.070000</td>\n",
       "      <td>7.00000</td>\n",
       "      <td>48.000000</td>\n",
       "      <td>...</td>\n",
       "      <td>0.000000</td>\n",
       "      <td>0.000000</td>\n",
       "      <td>0.000000</td>\n",
       "      <td>0.000000</td>\n",
       "      <td>0.000000</td>\n",
       "      <td>0.000000</td>\n",
       "      <td>0.000000</td>\n",
       "      <td>0.000000</td>\n",
       "      <td>0.000000</td>\n",
       "      <td>0.000000</td>\n",
       "    </tr>\n",
       "    <tr>\n",
       "      <th>25%</th>\n",
       "      <td>94.500000</td>\n",
       "      <td>166.300000</td>\n",
       "      <td>64.000000</td>\n",
       "      <td>52.000000</td>\n",
       "      <td>2156.500000</td>\n",
       "      <td>97.000000</td>\n",
       "      <td>3.135000</td>\n",
       "      <td>3.110000</td>\n",
       "      <td>8.50000</td>\n",
       "      <td>70.000000</td>\n",
       "      <td>...</td>\n",
       "      <td>0.000000</td>\n",
       "      <td>0.000000</td>\n",
       "      <td>0.000000</td>\n",
       "      <td>0.000000</td>\n",
       "      <td>0.000000</td>\n",
       "      <td>0.000000</td>\n",
       "      <td>0.000000</td>\n",
       "      <td>0.000000</td>\n",
       "      <td>0.000000</td>\n",
       "      <td>0.000000</td>\n",
       "    </tr>\n",
       "    <tr>\n",
       "      <th>50%</th>\n",
       "      <td>97.000000</td>\n",
       "      <td>173.100000</td>\n",
       "      <td>65.500000</td>\n",
       "      <td>54.100000</td>\n",
       "      <td>2412.000000</td>\n",
       "      <td>110.500000</td>\n",
       "      <td>3.310000</td>\n",
       "      <td>3.270000</td>\n",
       "      <td>9.00000</td>\n",
       "      <td>94.500000</td>\n",
       "      <td>...</td>\n",
       "      <td>0.000000</td>\n",
       "      <td>0.000000</td>\n",
       "      <td>0.000000</td>\n",
       "      <td>0.000000</td>\n",
       "      <td>0.000000</td>\n",
       "      <td>0.000000</td>\n",
       "      <td>0.000000</td>\n",
       "      <td>0.000000</td>\n",
       "      <td>0.000000</td>\n",
       "      <td>0.000000</td>\n",
       "    </tr>\n",
       "    <tr>\n",
       "      <th>75%</th>\n",
       "      <td>102.400000</td>\n",
       "      <td>184.325000</td>\n",
       "      <td>66.900000</td>\n",
       "      <td>55.700000</td>\n",
       "      <td>2947.750000</td>\n",
       "      <td>140.000000</td>\n",
       "      <td>3.580000</td>\n",
       "      <td>3.400000</td>\n",
       "      <td>9.40000</td>\n",
       "      <td>116.000000</td>\n",
       "      <td>...</td>\n",
       "      <td>0.000000</td>\n",
       "      <td>0.000000</td>\n",
       "      <td>0.000000</td>\n",
       "      <td>1.000000</td>\n",
       "      <td>0.000000</td>\n",
       "      <td>0.000000</td>\n",
       "      <td>0.000000</td>\n",
       "      <td>1.000000</td>\n",
       "      <td>0.000000</td>\n",
       "      <td>0.000000</td>\n",
       "    </tr>\n",
       "    <tr>\n",
       "      <th>max</th>\n",
       "      <td>120.900000</td>\n",
       "      <td>208.100000</td>\n",
       "      <td>72.300000</td>\n",
       "      <td>59.800000</td>\n",
       "      <td>4066.000000</td>\n",
       "      <td>326.000000</td>\n",
       "      <td>3.940000</td>\n",
       "      <td>4.170000</td>\n",
       "      <td>23.00000</td>\n",
       "      <td>288.000000</td>\n",
       "      <td>...</td>\n",
       "      <td>1.000000</td>\n",
       "      <td>1.000000</td>\n",
       "      <td>1.000000</td>\n",
       "      <td>1.000000</td>\n",
       "      <td>1.000000</td>\n",
       "      <td>1.000000</td>\n",
       "      <td>1.000000</td>\n",
       "      <td>1.000000</td>\n",
       "      <td>1.000000</td>\n",
       "      <td>1.000000</td>\n",
       "    </tr>\n",
       "  </tbody>\n",
       "</table>\n",
       "<p>8 rows × 193 columns</p>\n",
       "</div>"
      ],
      "text/plain": [
       "        wheelbase   carlength    carwidth   carheight   curbweight  \\\n",
       "count  150.000000  150.000000  150.000000  150.000000   150.000000   \n",
       "mean    99.012667  174.210667   65.954667   53.799333  2562.740000   \n",
       "std      6.144964   12.855303    2.287127    2.469070   542.836614   \n",
       "min     86.600000  141.100000   60.300000   47.800000  1488.000000   \n",
       "25%     94.500000  166.300000   64.000000   52.000000  2156.500000   \n",
       "50%     97.000000  173.100000   65.500000   54.100000  2412.000000   \n",
       "75%    102.400000  184.325000   66.900000   55.700000  2947.750000   \n",
       "max    120.900000  208.100000   72.300000   59.800000  4066.000000   \n",
       "\n",
       "       enginesize   boreratio      stroke  compressionratio  horsepower  ...  \\\n",
       "count  150.000000  150.000000  150.000000         150.00000  150.000000  ...   \n",
       "mean   126.326667    3.322800    3.244033          10.24880  103.173333  ...   \n",
       "std     44.248459    0.272766    0.318708           4.12509   40.173908  ...   \n",
       "min     61.000000    2.540000    2.070000           7.00000   48.000000  ...   \n",
       "25%     97.000000    3.135000    3.110000           8.50000   70.000000  ...   \n",
       "50%    110.500000    3.310000    3.270000           9.00000   94.500000  ...   \n",
       "75%    140.000000    3.580000    3.400000           9.40000  116.000000  ...   \n",
       "max    326.000000    3.940000    4.170000          23.00000  288.000000  ...   \n",
       "\n",
       "       cylindernumber_three  cylindernumber_twelve  cylindernumber_two  \\\n",
       "count            150.000000             150.000000          150.000000   \n",
       "mean               0.006667               0.006667            0.020000   \n",
       "std                0.081650               0.081650            0.140469   \n",
       "min                0.000000               0.000000            0.000000   \n",
       "25%                0.000000               0.000000            0.000000   \n",
       "50%                0.000000               0.000000            0.000000   \n",
       "75%                0.000000               0.000000            0.000000   \n",
       "max                1.000000               1.000000            1.000000   \n",
       "\n",
       "       fuelsystem_2bbl  fuelsystem_4bbl  fuelsystem_idi  fuelsystem_mfi  \\\n",
       "count       150.000000       150.000000      150.000000      150.000000   \n",
       "mean          0.333333         0.013333        0.106667        0.006667   \n",
       "std           0.472984         0.115082        0.309723        0.081650   \n",
       "min           0.000000         0.000000        0.000000        0.000000   \n",
       "25%           0.000000         0.000000        0.000000        0.000000   \n",
       "50%           0.000000         0.000000        0.000000        0.000000   \n",
       "75%           1.000000         0.000000        0.000000        0.000000   \n",
       "max           1.000000         1.000000        1.000000        1.000000   \n",
       "\n",
       "       fuelsystem_mpfi  fuelsystem_spdi  fuelsystem_spfi  \n",
       "count       150.000000       150.000000       150.000000  \n",
       "mean          0.446667         0.046667         0.006667  \n",
       "std           0.498813         0.211631         0.081650  \n",
       "min           0.000000         0.000000         0.000000  \n",
       "25%           0.000000         0.000000         0.000000  \n",
       "50%           0.000000         0.000000         0.000000  \n",
       "75%           1.000000         0.000000         0.000000  \n",
       "max           1.000000         1.000000         1.000000  \n",
       "\n",
       "[8 rows x 193 columns]"
      ]
     },
     "execution_count": 22,
     "metadata": {},
     "output_type": "execute_result"
    }
   ],
   "source": [
    "# check statistical overview if there are some outliers and abnormal values\n",
    "train_total.describe()"
   ]
  },
  {
   "cell_type": "code",
   "execution_count": 23,
   "metadata": {
    "colab": {
     "base_uri": "https://localhost:8080/"
    },
    "id": "Iwv0k5MXkjiU",
    "outputId": "88cc1ac0-d8d8-480c-cb7c-87e3eae13574"
   },
   "outputs": [
    {
     "name": "stdout",
     "output_type": "stream",
     "text": [
      "wheelbase          float64\n",
      "carlength          float64\n",
      "carwidth           float64\n",
      "carheight          float64\n",
      "curbweight           int64\n",
      "                    ...   \n",
      "fuelsystem_idi       uint8\n",
      "fuelsystem_mfi       uint8\n",
      "fuelsystem_mpfi      uint8\n",
      "fuelsystem_spdi      uint8\n",
      "fuelsystem_spfi      uint8\n",
      "Length: 193, dtype: object\n"
     ]
    }
   ],
   "source": [
    "print(train_total.dtypes)"
   ]
  },
  {
   "cell_type": "code",
   "execution_count": 24,
   "metadata": {
    "id": "UMVbWuxTzEUh"
   },
   "outputs": [],
   "source": [
    "# get our price labels and store in another dataframe\n",
    "train_label = train_total.loc[:,'price']\n",
    "test_label = test_total.loc[:,'price']"
   ]
  },
  {
   "cell_type": "code",
   "execution_count": 25,
   "metadata": {
    "colab": {
     "base_uri": "https://localhost:8080/"
    },
    "id": "ok93gWC0V7RC",
    "outputId": "97581347-076b-4283-b1e3-61786533265c"
   },
   "outputs": [
    {
     "data": {
      "text/plain": [
       "1      16500.0\n",
       "2      16500.0\n",
       "5      15250.0\n",
       "6      17710.0\n",
       "7      18920.0\n",
       "        ...   \n",
       "196    15985.0\n",
       "198    18420.0\n",
       "199    18950.0\n",
       "200    16845.0\n",
       "204    22625.0\n",
       "Name: price, Length: 150, dtype: float64"
      ]
     },
     "execution_count": 25,
     "metadata": {},
     "output_type": "execute_result"
    }
   ],
   "source": [
    "train_label"
   ]
  },
  {
   "cell_type": "code",
   "execution_count": 26,
   "metadata": {
    "id": "0pj0hGliz6ld"
   },
   "outputs": [],
   "source": [
    "# drop price from oroginal training and test dataset\n",
    "test_data= test_total.drop(columns = ['price'])\n",
    "train_data= train_total.drop(columns = ['price'])"
   ]
  },
  {
   "cell_type": "code",
   "execution_count": 27,
   "metadata": {
    "colab": {
     "base_uri": "https://localhost:8080/"
    },
    "id": "7uw8yz0e1RjS",
    "outputId": "98132e77-f91e-454e-d555-07d8c2c546a2"
   },
   "outputs": [
    {
     "data": {
      "text/plain": [
       "(150, 192)"
      ]
     },
     "execution_count": 27,
     "metadata": {},
     "output_type": "execute_result"
    }
   ],
   "source": [
    "train_data.shape"
   ]
  },
  {
   "cell_type": "code",
   "execution_count": 28,
   "metadata": {
    "colab": {
     "base_uri": "https://localhost:8080/",
     "height": 462
    },
    "id": "ic0-eZgDZjsV",
    "outputId": "637fe0ec-53e7-4298-96d8-33417af3e19e"
   },
   "outputs": [
    {
     "data": {
      "text/html": [
       "<div>\n",
       "<style scoped>\n",
       "    .dataframe tbody tr th:only-of-type {\n",
       "        vertical-align: middle;\n",
       "    }\n",
       "\n",
       "    .dataframe tbody tr th {\n",
       "        vertical-align: top;\n",
       "    }\n",
       "\n",
       "    .dataframe thead th {\n",
       "        text-align: right;\n",
       "    }\n",
       "</style>\n",
       "<table border=\"1\" class=\"dataframe\">\n",
       "  <thead>\n",
       "    <tr style=\"text-align: right;\">\n",
       "      <th></th>\n",
       "      <th>wheelbase</th>\n",
       "      <th>carlength</th>\n",
       "      <th>carwidth</th>\n",
       "      <th>carheight</th>\n",
       "      <th>curbweight</th>\n",
       "      <th>enginesize</th>\n",
       "      <th>boreratio</th>\n",
       "      <th>stroke</th>\n",
       "      <th>compressionratio</th>\n",
       "      <th>horsepower</th>\n",
       "      <th>...</th>\n",
       "      <th>cylindernumber_three</th>\n",
       "      <th>cylindernumber_twelve</th>\n",
       "      <th>cylindernumber_two</th>\n",
       "      <th>fuelsystem_2bbl</th>\n",
       "      <th>fuelsystem_4bbl</th>\n",
       "      <th>fuelsystem_idi</th>\n",
       "      <th>fuelsystem_mfi</th>\n",
       "      <th>fuelsystem_mpfi</th>\n",
       "      <th>fuelsystem_spdi</th>\n",
       "      <th>fuelsystem_spfi</th>\n",
       "    </tr>\n",
       "  </thead>\n",
       "  <tbody>\n",
       "    <tr>\n",
       "      <th>1</th>\n",
       "      <td>88.6</td>\n",
       "      <td>168.8</td>\n",
       "      <td>64.1</td>\n",
       "      <td>48.8</td>\n",
       "      <td>2548</td>\n",
       "      <td>130</td>\n",
       "      <td>3.47</td>\n",
       "      <td>2.68</td>\n",
       "      <td>9.0</td>\n",
       "      <td>111</td>\n",
       "      <td>...</td>\n",
       "      <td>0</td>\n",
       "      <td>0</td>\n",
       "      <td>0</td>\n",
       "      <td>0</td>\n",
       "      <td>0</td>\n",
       "      <td>0</td>\n",
       "      <td>0</td>\n",
       "      <td>1</td>\n",
       "      <td>0</td>\n",
       "      <td>0</td>\n",
       "    </tr>\n",
       "    <tr>\n",
       "      <th>2</th>\n",
       "      <td>94.5</td>\n",
       "      <td>171.2</td>\n",
       "      <td>65.5</td>\n",
       "      <td>52.4</td>\n",
       "      <td>2823</td>\n",
       "      <td>152</td>\n",
       "      <td>2.68</td>\n",
       "      <td>3.47</td>\n",
       "      <td>9.0</td>\n",
       "      <td>154</td>\n",
       "      <td>...</td>\n",
       "      <td>0</td>\n",
       "      <td>0</td>\n",
       "      <td>0</td>\n",
       "      <td>0</td>\n",
       "      <td>0</td>\n",
       "      <td>0</td>\n",
       "      <td>0</td>\n",
       "      <td>1</td>\n",
       "      <td>0</td>\n",
       "      <td>0</td>\n",
       "    </tr>\n",
       "    <tr>\n",
       "      <th>5</th>\n",
       "      <td>99.8</td>\n",
       "      <td>177.3</td>\n",
       "      <td>66.3</td>\n",
       "      <td>53.1</td>\n",
       "      <td>2507</td>\n",
       "      <td>136</td>\n",
       "      <td>3.19</td>\n",
       "      <td>3.40</td>\n",
       "      <td>8.5</td>\n",
       "      <td>110</td>\n",
       "      <td>...</td>\n",
       "      <td>0</td>\n",
       "      <td>0</td>\n",
       "      <td>0</td>\n",
       "      <td>0</td>\n",
       "      <td>0</td>\n",
       "      <td>0</td>\n",
       "      <td>0</td>\n",
       "      <td>1</td>\n",
       "      <td>0</td>\n",
       "      <td>0</td>\n",
       "    </tr>\n",
       "    <tr>\n",
       "      <th>6</th>\n",
       "      <td>105.8</td>\n",
       "      <td>192.7</td>\n",
       "      <td>71.4</td>\n",
       "      <td>55.7</td>\n",
       "      <td>2844</td>\n",
       "      <td>136</td>\n",
       "      <td>3.19</td>\n",
       "      <td>3.40</td>\n",
       "      <td>8.5</td>\n",
       "      <td>110</td>\n",
       "      <td>...</td>\n",
       "      <td>0</td>\n",
       "      <td>0</td>\n",
       "      <td>0</td>\n",
       "      <td>0</td>\n",
       "      <td>0</td>\n",
       "      <td>0</td>\n",
       "      <td>0</td>\n",
       "      <td>1</td>\n",
       "      <td>0</td>\n",
       "      <td>0</td>\n",
       "    </tr>\n",
       "    <tr>\n",
       "      <th>7</th>\n",
       "      <td>105.8</td>\n",
       "      <td>192.7</td>\n",
       "      <td>71.4</td>\n",
       "      <td>55.7</td>\n",
       "      <td>2954</td>\n",
       "      <td>136</td>\n",
       "      <td>3.19</td>\n",
       "      <td>3.40</td>\n",
       "      <td>8.5</td>\n",
       "      <td>110</td>\n",
       "      <td>...</td>\n",
       "      <td>0</td>\n",
       "      <td>0</td>\n",
       "      <td>0</td>\n",
       "      <td>0</td>\n",
       "      <td>0</td>\n",
       "      <td>0</td>\n",
       "      <td>0</td>\n",
       "      <td>1</td>\n",
       "      <td>0</td>\n",
       "      <td>0</td>\n",
       "    </tr>\n",
       "    <tr>\n",
       "      <th>...</th>\n",
       "      <td>...</td>\n",
       "      <td>...</td>\n",
       "      <td>...</td>\n",
       "      <td>...</td>\n",
       "      <td>...</td>\n",
       "      <td>...</td>\n",
       "      <td>...</td>\n",
       "      <td>...</td>\n",
       "      <td>...</td>\n",
       "      <td>...</td>\n",
       "      <td>...</td>\n",
       "      <td>...</td>\n",
       "      <td>...</td>\n",
       "      <td>...</td>\n",
       "      <td>...</td>\n",
       "      <td>...</td>\n",
       "      <td>...</td>\n",
       "      <td>...</td>\n",
       "      <td>...</td>\n",
       "      <td>...</td>\n",
       "      <td>...</td>\n",
       "    </tr>\n",
       "    <tr>\n",
       "      <th>196</th>\n",
       "      <td>104.3</td>\n",
       "      <td>188.8</td>\n",
       "      <td>67.2</td>\n",
       "      <td>56.2</td>\n",
       "      <td>2935</td>\n",
       "      <td>141</td>\n",
       "      <td>3.78</td>\n",
       "      <td>3.15</td>\n",
       "      <td>9.5</td>\n",
       "      <td>114</td>\n",
       "      <td>...</td>\n",
       "      <td>0</td>\n",
       "      <td>0</td>\n",
       "      <td>0</td>\n",
       "      <td>0</td>\n",
       "      <td>0</td>\n",
       "      <td>0</td>\n",
       "      <td>0</td>\n",
       "      <td>1</td>\n",
       "      <td>0</td>\n",
       "      <td>0</td>\n",
       "    </tr>\n",
       "    <tr>\n",
       "      <th>198</th>\n",
       "      <td>104.3</td>\n",
       "      <td>188.8</td>\n",
       "      <td>67.2</td>\n",
       "      <td>56.2</td>\n",
       "      <td>3045</td>\n",
       "      <td>130</td>\n",
       "      <td>3.62</td>\n",
       "      <td>3.15</td>\n",
       "      <td>7.5</td>\n",
       "      <td>162</td>\n",
       "      <td>...</td>\n",
       "      <td>0</td>\n",
       "      <td>0</td>\n",
       "      <td>0</td>\n",
       "      <td>0</td>\n",
       "      <td>0</td>\n",
       "      <td>0</td>\n",
       "      <td>0</td>\n",
       "      <td>1</td>\n",
       "      <td>0</td>\n",
       "      <td>0</td>\n",
       "    </tr>\n",
       "    <tr>\n",
       "      <th>199</th>\n",
       "      <td>104.3</td>\n",
       "      <td>188.8</td>\n",
       "      <td>67.2</td>\n",
       "      <td>57.5</td>\n",
       "      <td>3157</td>\n",
       "      <td>130</td>\n",
       "      <td>3.62</td>\n",
       "      <td>3.15</td>\n",
       "      <td>7.5</td>\n",
       "      <td>162</td>\n",
       "      <td>...</td>\n",
       "      <td>0</td>\n",
       "      <td>0</td>\n",
       "      <td>0</td>\n",
       "      <td>0</td>\n",
       "      <td>0</td>\n",
       "      <td>0</td>\n",
       "      <td>0</td>\n",
       "      <td>1</td>\n",
       "      <td>0</td>\n",
       "      <td>0</td>\n",
       "    </tr>\n",
       "    <tr>\n",
       "      <th>200</th>\n",
       "      <td>109.1</td>\n",
       "      <td>188.8</td>\n",
       "      <td>68.9</td>\n",
       "      <td>55.5</td>\n",
       "      <td>2952</td>\n",
       "      <td>141</td>\n",
       "      <td>3.78</td>\n",
       "      <td>3.15</td>\n",
       "      <td>9.5</td>\n",
       "      <td>114</td>\n",
       "      <td>...</td>\n",
       "      <td>0</td>\n",
       "      <td>0</td>\n",
       "      <td>0</td>\n",
       "      <td>0</td>\n",
       "      <td>0</td>\n",
       "      <td>0</td>\n",
       "      <td>0</td>\n",
       "      <td>1</td>\n",
       "      <td>0</td>\n",
       "      <td>0</td>\n",
       "    </tr>\n",
       "    <tr>\n",
       "      <th>204</th>\n",
       "      <td>109.1</td>\n",
       "      <td>188.8</td>\n",
       "      <td>68.9</td>\n",
       "      <td>55.5</td>\n",
       "      <td>3062</td>\n",
       "      <td>141</td>\n",
       "      <td>3.78</td>\n",
       "      <td>3.15</td>\n",
       "      <td>9.5</td>\n",
       "      <td>114</td>\n",
       "      <td>...</td>\n",
       "      <td>0</td>\n",
       "      <td>0</td>\n",
       "      <td>0</td>\n",
       "      <td>0</td>\n",
       "      <td>0</td>\n",
       "      <td>0</td>\n",
       "      <td>0</td>\n",
       "      <td>1</td>\n",
       "      <td>0</td>\n",
       "      <td>0</td>\n",
       "    </tr>\n",
       "  </tbody>\n",
       "</table>\n",
       "<p>150 rows × 192 columns</p>\n",
       "</div>"
      ],
      "text/plain": [
       "     wheelbase  carlength  carwidth  carheight  curbweight  enginesize  \\\n",
       "1         88.6      168.8      64.1       48.8        2548         130   \n",
       "2         94.5      171.2      65.5       52.4        2823         152   \n",
       "5         99.8      177.3      66.3       53.1        2507         136   \n",
       "6        105.8      192.7      71.4       55.7        2844         136   \n",
       "7        105.8      192.7      71.4       55.7        2954         136   \n",
       "..         ...        ...       ...        ...         ...         ...   \n",
       "196      104.3      188.8      67.2       56.2        2935         141   \n",
       "198      104.3      188.8      67.2       56.2        3045         130   \n",
       "199      104.3      188.8      67.2       57.5        3157         130   \n",
       "200      109.1      188.8      68.9       55.5        2952         141   \n",
       "204      109.1      188.8      68.9       55.5        3062         141   \n",
       "\n",
       "     boreratio  stroke  compressionratio  horsepower  ...  \\\n",
       "1         3.47    2.68               9.0         111  ...   \n",
       "2         2.68    3.47               9.0         154  ...   \n",
       "5         3.19    3.40               8.5         110  ...   \n",
       "6         3.19    3.40               8.5         110  ...   \n",
       "7         3.19    3.40               8.5         110  ...   \n",
       "..         ...     ...               ...         ...  ...   \n",
       "196       3.78    3.15               9.5         114  ...   \n",
       "198       3.62    3.15               7.5         162  ...   \n",
       "199       3.62    3.15               7.5         162  ...   \n",
       "200       3.78    3.15               9.5         114  ...   \n",
       "204       3.78    3.15               9.5         114  ...   \n",
       "\n",
       "     cylindernumber_three  cylindernumber_twelve  cylindernumber_two  \\\n",
       "1                       0                      0                   0   \n",
       "2                       0                      0                   0   \n",
       "5                       0                      0                   0   \n",
       "6                       0                      0                   0   \n",
       "7                       0                      0                   0   \n",
       "..                    ...                    ...                 ...   \n",
       "196                     0                      0                   0   \n",
       "198                     0                      0                   0   \n",
       "199                     0                      0                   0   \n",
       "200                     0                      0                   0   \n",
       "204                     0                      0                   0   \n",
       "\n",
       "     fuelsystem_2bbl  fuelsystem_4bbl  fuelsystem_idi  fuelsystem_mfi  \\\n",
       "1                  0                0               0               0   \n",
       "2                  0                0               0               0   \n",
       "5                  0                0               0               0   \n",
       "6                  0                0               0               0   \n",
       "7                  0                0               0               0   \n",
       "..               ...              ...             ...             ...   \n",
       "196                0                0               0               0   \n",
       "198                0                0               0               0   \n",
       "199                0                0               0               0   \n",
       "200                0                0               0               0   \n",
       "204                0                0               0               0   \n",
       "\n",
       "     fuelsystem_mpfi  fuelsystem_spdi  fuelsystem_spfi  \n",
       "1                  1                0                0  \n",
       "2                  1                0                0  \n",
       "5                  1                0                0  \n",
       "6                  1                0                0  \n",
       "7                  1                0                0  \n",
       "..               ...              ...              ...  \n",
       "196                1                0                0  \n",
       "198                1                0                0  \n",
       "199                1                0                0  \n",
       "200                1                0                0  \n",
       "204                1                0                0  \n",
       "\n",
       "[150 rows x 192 columns]"
      ]
     },
     "execution_count": 28,
     "metadata": {},
     "output_type": "execute_result"
    }
   ],
   "source": [
    "train_data"
   ]
  },
  {
   "cell_type": "code",
   "execution_count": 29,
   "metadata": {
    "colab": {
     "base_uri": "https://localhost:8080/"
    },
    "id": "jTXSdXZs5InD",
    "outputId": "8a478a65-7b1b-4202-b516-581f968b5507"
   },
   "outputs": [
    {
     "data": {
      "text/plain": [
       "{0: 'wheelbase',\n",
       " 1: 'carlength',\n",
       " 2: 'carwidth',\n",
       " 3: 'carheight',\n",
       " 4: 'curbweight',\n",
       " 5: 'enginesize',\n",
       " 6: 'boreratio',\n",
       " 7: 'stroke',\n",
       " 8: 'compressionratio',\n",
       " 9: 'horsepower',\n",
       " 10: 'peakrpm',\n",
       " 11: 'citympg',\n",
       " 12: 'highwaympg',\n",
       " 13: 'CarName_alfa-romero Quadrifoglio',\n",
       " 14: 'CarName_alfa-romero giulia',\n",
       " 15: 'CarName_alfa-romero stelvio',\n",
       " 16: 'CarName_audi 100ls',\n",
       " 17: 'CarName_audi 4000',\n",
       " 18: 'CarName_audi 5000',\n",
       " 19: 'CarName_audi 5000s (diesel)',\n",
       " 20: 'CarName_audi fox',\n",
       " 21: 'CarName_bmw 320i',\n",
       " 22: 'CarName_bmw x1',\n",
       " 23: 'CarName_bmw x3',\n",
       " 24: 'CarName_bmw x4',\n",
       " 25: 'CarName_bmw x5',\n",
       " 26: 'CarName_bmw z4',\n",
       " 27: 'CarName_buick century',\n",
       " 28: 'CarName_buick century luxus (sw)',\n",
       " 29: 'CarName_buick century special',\n",
       " 30: 'CarName_buick electra 225 custom',\n",
       " 31: 'CarName_buick opel isuzu deluxe',\n",
       " 32: 'CarName_buick regal sport coupe (turbo)',\n",
       " 33: 'CarName_buick skyhawk',\n",
       " 34: 'CarName_buick skylark',\n",
       " 35: 'CarName_chevrolet impala',\n",
       " 36: 'CarName_chevrolet monte carlo',\n",
       " 37: 'CarName_chevrolet vega 2300',\n",
       " 38: 'CarName_dodge challenger se',\n",
       " 39: 'CarName_dodge colt (sw)',\n",
       " 40: 'CarName_dodge colt hardtop',\n",
       " 41: 'CarName_dodge coronet custom',\n",
       " 42: 'CarName_dodge coronet custom (sw)',\n",
       " 43: 'CarName_dodge d200',\n",
       " 44: 'CarName_dodge dart custom',\n",
       " 45: 'CarName_dodge monaco (sw)',\n",
       " 46: 'CarName_dodge rampage',\n",
       " 47: 'CarName_honda accord',\n",
       " 48: 'CarName_honda accord cvcc',\n",
       " 49: 'CarName_honda accord lx',\n",
       " 50: 'CarName_honda civic',\n",
       " 51: 'CarName_honda civic (auto)',\n",
       " 52: 'CarName_honda civic 1300',\n",
       " 53: 'CarName_honda civic 1500 gl',\n",
       " 54: 'CarName_honda civic cvcc',\n",
       " 55: 'CarName_honda prelude',\n",
       " 56: 'CarName_isuzu D-Max ',\n",
       " 57: 'CarName_isuzu D-Max V-Cross',\n",
       " 58: 'CarName_isuzu MU-X',\n",
       " 59: 'CarName_jaguar xf',\n",
       " 60: 'CarName_jaguar xj',\n",
       " 61: 'CarName_jaguar xk',\n",
       " 62: 'CarName_maxda glc deluxe',\n",
       " 63: 'CarName_maxda rx3',\n",
       " 64: 'CarName_mazda 626',\n",
       " 65: 'CarName_mazda glc',\n",
       " 66: 'CarName_mazda glc 4',\n",
       " 67: 'CarName_mazda glc custom',\n",
       " 68: 'CarName_mazda glc custom l',\n",
       " 69: 'CarName_mazda glc deluxe',\n",
       " 70: 'CarName_mazda rx-4',\n",
       " 71: 'CarName_mazda rx-7 gs',\n",
       " 72: 'CarName_mazda rx2 coupe',\n",
       " 73: 'CarName_mercury cougar',\n",
       " 74: 'CarName_mitsubishi g4',\n",
       " 75: 'CarName_mitsubishi lancer',\n",
       " 76: 'CarName_mitsubishi mirage',\n",
       " 77: 'CarName_mitsubishi mirage g4',\n",
       " 78: 'CarName_mitsubishi montero',\n",
       " 79: 'CarName_mitsubishi outlander',\n",
       " 80: 'CarName_mitsubishi pajero',\n",
       " 81: 'CarName_nissan clipper',\n",
       " 82: 'CarName_nissan dayz',\n",
       " 83: 'CarName_nissan fuga',\n",
       " 84: 'CarName_nissan gt-r',\n",
       " 85: 'CarName_nissan juke',\n",
       " 86: 'CarName_nissan kicks',\n",
       " 87: 'CarName_nissan latio',\n",
       " 88: 'CarName_nissan leaf',\n",
       " 89: 'CarName_nissan note',\n",
       " 90: 'CarName_nissan nv200',\n",
       " 91: 'CarName_nissan otti',\n",
       " 92: 'CarName_nissan rogue',\n",
       " 93: 'CarName_nissan teana',\n",
       " 94: 'CarName_nissan titan',\n",
       " 95: 'CarName_peugeot 304',\n",
       " 96: 'CarName_peugeot 504',\n",
       " 97: 'CarName_peugeot 504 (sw)',\n",
       " 98: 'CarName_peugeot 505s turbo diesel',\n",
       " 99: 'CarName_peugeot 604sl',\n",
       " 100: 'CarName_plymouth cricket',\n",
       " 101: 'CarName_plymouth duster',\n",
       " 102: 'CarName_plymouth fury gran sedan',\n",
       " 103: 'CarName_plymouth fury iii',\n",
       " 104: 'CarName_plymouth satellite custom (sw)',\n",
       " 105: 'CarName_plymouth valiant',\n",
       " 106: 'CarName_porcshce panamera',\n",
       " 107: 'CarName_porsche boxter',\n",
       " 108: 'CarName_porsche cayenne',\n",
       " 109: 'CarName_porsche macan',\n",
       " 110: 'CarName_renault 12tl',\n",
       " 111: 'CarName_renault 5 gtl',\n",
       " 112: 'CarName_saab 99e',\n",
       " 113: 'CarName_saab 99gle',\n",
       " 114: 'CarName_saab 99le',\n",
       " 115: 'CarName_subaru',\n",
       " 116: 'CarName_subaru baja',\n",
       " 117: 'CarName_subaru brz',\n",
       " 118: 'CarName_subaru dl',\n",
       " 119: 'CarName_subaru r1',\n",
       " 120: 'CarName_subaru r2',\n",
       " 121: 'CarName_subaru trezia',\n",
       " 122: 'CarName_subaru tribeca',\n",
       " 123: 'CarName_toyota carina',\n",
       " 124: 'CarName_toyota celica gt',\n",
       " 125: 'CarName_toyota celica gt liftback',\n",
       " 126: 'CarName_toyota corolla',\n",
       " 127: 'CarName_toyota corolla 1200',\n",
       " 128: 'CarName_toyota corolla 1600 (sw)',\n",
       " 129: 'CarName_toyota corolla liftback',\n",
       " 130: 'CarName_toyota corolla tercel',\n",
       " 131: 'CarName_toyota corona',\n",
       " 132: 'CarName_toyota corona hardtop',\n",
       " 133: 'CarName_toyota corona liftback',\n",
       " 134: 'CarName_toyota corona mark ii',\n",
       " 135: 'CarName_toyota cressida',\n",
       " 136: 'CarName_toyota mark ii',\n",
       " 137: 'CarName_toyota starlet',\n",
       " 138: 'CarName_toyota tercel',\n",
       " 139: 'CarName_toyouta tercel',\n",
       " 140: 'CarName_vokswagen rabbit',\n",
       " 141: 'CarName_volkswagen 1131 deluxe sedan',\n",
       " 142: 'CarName_volkswagen 411 (sw)',\n",
       " 143: 'CarName_volkswagen dasher',\n",
       " 144: 'CarName_volkswagen model 111',\n",
       " 145: 'CarName_volkswagen rabbit',\n",
       " 146: 'CarName_volkswagen rabbit custom',\n",
       " 147: 'CarName_volkswagen super beetle',\n",
       " 148: 'CarName_volkswagen type 3',\n",
       " 149: 'CarName_volvo 144ea',\n",
       " 150: 'CarName_volvo 145e (sw)',\n",
       " 151: 'CarName_volvo 244dl',\n",
       " 152: 'CarName_volvo 245',\n",
       " 153: 'CarName_volvo 246',\n",
       " 154: 'CarName_volvo 264gl',\n",
       " 155: 'CarName_volvo diesel',\n",
       " 156: 'CarName_vw dasher',\n",
       " 157: 'CarName_vw rabbit',\n",
       " 158: 'symboling_-1',\n",
       " 159: 'symboling_0',\n",
       " 160: 'symboling_1',\n",
       " 161: 'symboling_2',\n",
       " 162: 'symboling_3',\n",
       " 163: 'fueltype_gas',\n",
       " 164: 'aspiration_turbo',\n",
       " 165: 'doornumber_two',\n",
       " 166: 'carbody_hardtop',\n",
       " 167: 'carbody_hatchback',\n",
       " 168: 'carbody_sedan',\n",
       " 169: 'carbody_wagon',\n",
       " 170: 'drivewheel_fwd',\n",
       " 171: 'drivewheel_rwd',\n",
       " 172: 'enginelocation_rear',\n",
       " 173: 'enginetype_dohcv',\n",
       " 174: 'enginetype_l',\n",
       " 175: 'enginetype_ohc',\n",
       " 176: 'enginetype_ohcf',\n",
       " 177: 'enginetype_ohcv',\n",
       " 178: 'enginetype_rotor',\n",
       " 179: 'cylindernumber_five',\n",
       " 180: 'cylindernumber_four',\n",
       " 181: 'cylindernumber_six',\n",
       " 182: 'cylindernumber_three',\n",
       " 183: 'cylindernumber_twelve',\n",
       " 184: 'cylindernumber_two',\n",
       " 185: 'fuelsystem_2bbl',\n",
       " 186: 'fuelsystem_4bbl',\n",
       " 187: 'fuelsystem_idi',\n",
       " 188: 'fuelsystem_mfi',\n",
       " 189: 'fuelsystem_mpfi',\n",
       " 190: 'fuelsystem_spdi',\n",
       " 191: 'fuelsystem_spfi'}"
      ]
     },
     "execution_count": 29,
     "metadata": {},
     "output_type": "execute_result"
    }
   ],
   "source": [
    "#get indices of the columns so that we can know how many columns we have to normalize, as catagorical columns which we\n",
    "# have added with onehot encoding, do not need to be normalized.. normalizing will be done in next cell\n",
    "{train_data.columns.get_loc(c): c for idx, c in enumerate(train_data.columns)}"
   ]
  },
  {
   "cell_type": "code",
   "execution_count": 30,
   "metadata": {
    "id": "1h5vhggTyRyw"
   },
   "outputs": [],
   "source": [
    "## we normalize data because data has big vlaues in decimal and it will worsen performance of our model, may overfit \n",
    "## or  we may face hardware resource high usage\n",
    "# we will apply the formula normalized_train_data = (train_data - mean)/ stadrad_deviation\n",
    "## firt take mean of training, then subtract mean from each value of the array slice train_data.iloc[:,0:13]\n",
    "mean = train_data.iloc[:,0:13].mean(axis=0) # taking the mean of \n",
    "train_data.iloc[:,0:13] -= mean\n",
    "std = train_data.iloc[:,0:13].std(axis=0)\n",
    "train_data.iloc[:,0:13] /= std\n",
    "test_data.iloc[:,0:13] -= mean\n",
    "test_data.iloc[:,0:13] /= std\n",
    "\n"
   ]
  },
  {
   "cell_type": "code",
   "execution_count": 31,
   "metadata": {
    "colab": {
     "base_uri": "https://localhost:8080/"
    },
    "id": "XdXge3xhAyiN",
    "outputId": "e3e1a79a-2b05-495c-91a2-4d94e2329518"
   },
   "outputs": [
    {
     "data": {
      "text/plain": [
       "wheelbase             99.012667\n",
       "carlength            174.210667\n",
       "carwidth              65.954667\n",
       "carheight             53.799333\n",
       "curbweight          2562.740000\n",
       "enginesize           126.326667\n",
       "boreratio              3.322800\n",
       "stroke                 3.244033\n",
       "compressionratio      10.248800\n",
       "horsepower           103.173333\n",
       "peakrpm             5115.333333\n",
       "citympg               25.280000\n",
       "highwaympg            30.746667\n",
       "dtype: float64"
      ]
     },
     "execution_count": 31,
     "metadata": {},
     "output_type": "execute_result"
    }
   ],
   "source": [
    "mean"
   ]
  },
  {
   "cell_type": "code",
   "execution_count": 32,
   "metadata": {
    "colab": {
     "base_uri": "https://localhost:8080/"
    },
    "id": "1dKIOrdXIEDr",
    "outputId": "09c7d66a-5ab9-426f-9bbf-f5ca8c31e199"
   },
   "outputs": [
    {
     "data": {
      "text/plain": [
       "wheelbase             6.144964\n",
       "carlength            12.855303\n",
       "carwidth              2.287127\n",
       "carheight             2.469070\n",
       "curbweight          542.836614\n",
       "enginesize           44.248459\n",
       "boreratio             0.272766\n",
       "stroke                0.318708\n",
       "compressionratio      4.125090\n",
       "horsepower           40.173908\n",
       "peakrpm             474.622657\n",
       "citympg               6.734784\n",
       "highwaympg            7.117600\n",
       "dtype: float64"
      ]
     },
     "execution_count": 32,
     "metadata": {},
     "output_type": "execute_result"
    }
   ],
   "source": [
    "std"
   ]
  },
  {
   "cell_type": "code",
   "execution_count": 33,
   "metadata": {
    "id": "CZYfOs0cfaGE"
   },
   "outputs": [],
   "source": [
    "mean_label = train_label.mean()\n",
    "train_label -= mean_label\n",
    "std_label = train_label.std()\n",
    "train_label /= std_label\n",
    "test_label -= mean_label\n",
    "test_label /= std_label\n"
   ]
  },
  {
   "cell_type": "code",
   "execution_count": 34,
   "metadata": {
    "colab": {
     "base_uri": "https://localhost:8080/"
    },
    "id": "0UwH-6fJG4RB",
    "outputId": "f37b4cdd-5c0a-4102-acdf-c710b6679aec"
   },
   "outputs": [
    {
     "data": {
      "text/plain": [
       "13221.891113333333"
      ]
     },
     "execution_count": 34,
     "metadata": {},
     "output_type": "execute_result"
    }
   ],
   "source": [
    "mean_label"
   ]
  },
  {
   "cell_type": "code",
   "execution_count": 35,
   "metadata": {
    "colab": {
     "base_uri": "https://localhost:8080/"
    },
    "id": "J0HkwMimH-9W",
    "outputId": "93cf8400-5552-46d4-c5ec-dfb9476a02be"
   },
   "outputs": [
    {
     "data": {
      "text/plain": [
       "8115.866216327447"
      ]
     },
     "execution_count": 35,
     "metadata": {},
     "output_type": "execute_result"
    }
   ],
   "source": [
    "std_label"
   ]
  },
  {
   "cell_type": "code",
   "execution_count": 38,
   "metadata": {
    "colab": {
     "base_uri": "https://localhost:8080/"
    },
    "id": "g8uIRUHEw7g4",
    "outputId": "4abdb45d-c6ca-446c-d674-43b868d0e9ef"
   },
   "outputs": [
    {
     "data": {
      "text/plain": [
       "0      0.033651\n",
       "3      0.089714\n",
       "4      0.520968\n",
       "11     0.456280\n",
       "12     0.954687\n",
       "13     0.971321\n",
       "16     3.461505\n",
       "23    -0.648716\n",
       "25    -0.804583\n",
       "30    -0.830828\n",
       "33    -0.824668\n",
       "35    -0.730284\n",
       "36    -0.730284\n",
       "39    -0.539301\n",
       "42    -0.354477\n",
       "55    -0.280548\n",
       "60    -0.582426\n",
       "64    -0.243584\n",
       "70     2.264467\n",
       "77    -0.866561\n",
       "83     0.202949\n",
       "92    -0.785239\n",
       "96    -0.705149\n",
       "98    -0.612737\n",
       "100   -0.452557\n",
       "103    0.034144\n",
       "104    0.490041\n",
       "105    0.798080\n",
       "108   -0.002697\n",
       "117    0.607219\n",
       "121   -0.804583\n",
       "124   -0.056419\n",
       "126    2.378811\n",
       "127    2.563634\n",
       "130   -0.483854\n",
       "131   -0.409924\n",
       "141   -0.751108\n",
       "142   -0.671141\n",
       "149   -0.188260\n",
       "153   -0.776737\n",
       "156   -0.774272\n",
       "157   -0.742236\n",
       "163   -0.636271\n",
       "168   -0.441467\n",
       "171   -0.206126\n",
       "172    0.547952\n",
       "176   -0.286339\n",
       "180    0.304109\n",
       "182   -0.671141\n",
       "183   -0.646498\n",
       "194   -0.034733\n",
       "197    0.405762\n",
       "201    0.717497\n",
       "202    1.018143\n",
       "203    1.139510\n",
       "Name: price, dtype: float64"
      ]
     },
     "execution_count": 38,
     "metadata": {},
     "output_type": "execute_result"
    }
   ],
   "source": [
    "test_label"
   ]
  },
  {
   "cell_type": "code",
   "execution_count": 39,
   "metadata": {
    "colab": {
     "base_uri": "https://localhost:8080/"
    },
    "id": "ZwYKROqCyWwi",
    "outputId": "d9f2017a-1793-4d72-b22d-22e059810a1a"
   },
   "outputs": [
    {
     "data": {
      "text/plain": [
       "(150, 192)"
      ]
     },
     "execution_count": 39,
     "metadata": {},
     "output_type": "execute_result"
    }
   ],
   "source": [
    "train_data.shape"
   ]
  },
  {
   "cell_type": "code",
   "execution_count": null,
   "metadata": {
    "id": "ejyRo91P9Klh"
   },
   "outputs": [],
   "source": [
    "#store in numpy array"
   ]
  },
  {
   "cell_type": "code",
   "execution_count": 40,
   "metadata": {
    "id": "eLTpt0qn-R5y"
   },
   "outputs": [],
   "source": [
    "test = np.array(test_data.iloc[:]).astype('float32')"
   ]
  },
  {
   "cell_type": "code",
   "execution_count": 41,
   "metadata": {
    "id": "6ym52Tun-vhn"
   },
   "outputs": [],
   "source": [
    "train = np.array(train_data.iloc[:]).astype('float32')"
   ]
  },
  {
   "cell_type": "code",
   "execution_count": 42,
   "metadata": {
    "id": "TnFGfxGn_d1b"
   },
   "outputs": [],
   "source": [
    "test_l= np.array(test_label.astype('float32'))"
   ]
  },
  {
   "cell_type": "code",
   "execution_count": 43,
   "metadata": {
    "id": "kklQZ0za_qZb"
   },
   "outputs": [],
   "source": [
    "train_l= np.array(train_label.astype('float32'))"
   ]
  },
  {
   "cell_type": "code",
   "execution_count": 44,
   "metadata": {
    "colab": {
     "base_uri": "https://localhost:8080/"
    },
    "id": "mVbXDcGe5cY2",
    "outputId": "79f6cf2c-a5ae-44bf-e8cd-57e3a8fd811f"
   },
   "outputs": [
    {
     "data": {
      "text/plain": [
       "192"
      ]
     },
     "execution_count": 44,
     "metadata": {},
     "output_type": "execute_result"
    }
   ],
   "source": [
    "train.shape[1]\n"
   ]
  },
  {
   "cell_type": "code",
   "execution_count": 45,
   "metadata": {
    "colab": {
     "base_uri": "https://localhost:8080/"
    },
    "id": "ArLkQAzx9W0f",
    "outputId": "13d9d83f-fe2f-4250-ba53-53cfb235036a"
   },
   "outputs": [
    {
     "data": {
      "text/plain": [
       "192"
      ]
     },
     "execution_count": 45,
     "metadata": {},
     "output_type": "execute_result"
    }
   ],
   "source": [
    "(141,192)[1]"
   ]
  },
  {
   "cell_type": "code",
   "execution_count": 46,
   "metadata": {
    "colab": {
     "base_uri": "https://localhost:8080/"
    },
    "id": "MS0mDY0d9y3Q",
    "outputId": "a49598a3-7696-4847-bc0a-90dcd664efb6"
   },
   "outputs": [
    {
     "data": {
      "text/plain": [
       "dtype('float32')"
      ]
     },
     "execution_count": 46,
     "metadata": {},
     "output_type": "execute_result"
    }
   ],
   "source": [
    "train.dtype"
   ]
  },
  {
   "cell_type": "markdown",
   "metadata": {
    "id": "Mm416iVz953_"
   },
   "source": [
    "\n",
    "# Models section\n",
    "```\n",
    "#WE will configure different models here according to relu, tanh , regularization, dropout etc..\n",
    "```\n",
    "\n"
   ]
  },
  {
   "cell_type": "code",
   "execution_count": 47,
   "metadata": {
    "id": "EqOJjh8n8fMU"
   },
   "outputs": [],
   "source": [
    "# we are passing activation function as a parameter here so that we can call this function with tanh or relu while\n",
    "# fitting and training the model\n",
    "from tensorflow.keras import models\n",
    "from tensorflow.keras import layers\n",
    "def build_model(act):\n",
    "    model = models.Sequential()\n",
    "    model.add(layers.Dense(128, activation= act,input_shape=(train.shape[1],)))\n",
    "    model.add(layers.Dense(64, activation= act))\n",
    "    model.add(layers.Dense(32, activation= act))\n",
    "    model.add(layers.Dense(1))\n",
    "    model.compile(optimizer='rmsprop', loss='mse', metrics=['mae'])\n",
    "    return model"
   ]
  },
  {
   "cell_type": "code",
   "execution_count": 48,
   "metadata": {
    "colab": {
     "base_uri": "https://localhost:8080/"
    },
    "id": "ZKs2Axd19Rsx",
    "outputId": "8cdb4563-3513-4d70-be95-cab84b1d663b"
   },
   "outputs": [
    {
     "name": "stdout",
     "output_type": "stream",
     "text": [
      "WARNING:tensorflow:From C:\\Users\\USER\\anaconda3\\lib\\site-packages\\tensorflow\\python\\ops\\init_ops.py:1251: calling VarianceScaling.__init__ (from tensorflow.python.ops.init_ops) with dtype is deprecated and will be removed in a future version.\n",
      "Instructions for updating:\n",
      "Call initializer instance with the dtype argument instead of passing it to the constructor\n",
      "Model: \"sequential\"\n",
      "_________________________________________________________________\n",
      "Layer (type)                 Output Shape              Param #   \n",
      "=================================================================\n",
      "dense (Dense)                (None, 128)               24704     \n",
      "_________________________________________________________________\n",
      "dense_1 (Dense)              (None, 64)                8256      \n",
      "_________________________________________________________________\n",
      "dense_2 (Dense)              (None, 32)                2080      \n",
      "_________________________________________________________________\n",
      "dense_3 (Dense)              (None, 1)                 33        \n",
      "=================================================================\n",
      "Total params: 35,073\n",
      "Trainable params: 35,073\n",
      "Non-trainable params: 0\n",
      "_________________________________________________________________\n"
     ]
    }
   ],
   "source": [
    "build_model('relu').summary()"
   ]
  },
  {
   "cell_type": "code",
   "execution_count": 49,
   "metadata": {
    "colab": {
     "base_uri": "https://localhost:8080/"
    },
    "id": "ShTLMMUPWE2E",
    "outputId": "2ecfba3b-9b92-446f-8754-6835b089f62f"
   },
   "outputs": [
    {
     "name": "stdout",
     "output_type": "stream",
     "text": [
      "Model: \"sequential_1\"\n",
      "_________________________________________________________________\n",
      "Layer (type)                 Output Shape              Param #   \n",
      "=================================================================\n",
      "dense_4 (Dense)              (None, 128)               24704     \n",
      "_________________________________________________________________\n",
      "dense_5 (Dense)              (None, 64)                8256      \n",
      "_________________________________________________________________\n",
      "dense_6 (Dense)              (None, 32)                2080      \n",
      "_________________________________________________________________\n",
      "dense_7 (Dense)              (None, 1)                 33        \n",
      "=================================================================\n",
      "Total params: 35,073\n",
      "Trainable params: 35,073\n",
      "Non-trainable params: 0\n",
      "_________________________________________________________________\n"
     ]
    }
   ],
   "source": [
    "build_model('tanh').summary()"
   ]
  },
  {
   "cell_type": "code",
   "execution_count": 51,
   "metadata": {
    "id": "iLNbzXjKqGSw"
   },
   "outputs": [],
   "source": [
    "# Regularized model\n",
    "from tensorflow.keras import regularizers\n",
    "def build_model_regular(act):\n",
    "    model = models.Sequential()\n",
    "    model.add(layers.Dense(10, activation= act,kernel_regularizer= regularizers.l1_l2(l1=0.001, l2=0.001),input_shape=(train.shape[1],)))\n",
    "    model.add(layers.Dense(8, activation= act,kernel_regularizer= regularizers.l1_l2(l1=0.001, l2=0.001)))\n",
    "    model.add(layers.Dense(6, activation= act,kernel_regularizer= regularizers.l1_l2(l1=0.001, l2=0.001)))\n",
    "    model.add(layers.Dense(1))\n",
    "    model.compile(optimizer='rmsprop', loss='mse', metrics=['mae'])\n",
    "    return model"
   ]
  },
  {
   "cell_type": "code",
   "execution_count": 52,
   "metadata": {
    "colab": {
     "base_uri": "https://localhost:8080/"
    },
    "id": "afnNh94NrncJ",
    "outputId": "bebc621d-155c-47ae-d1d4-6f7def305f1a"
   },
   "outputs": [
    {
     "name": "stdout",
     "output_type": "stream",
     "text": [
      "Model: \"sequential_2\"\n",
      "_________________________________________________________________\n",
      "Layer (type)                 Output Shape              Param #   \n",
      "=================================================================\n",
      "dense_8 (Dense)              (None, 10)                1930      \n",
      "_________________________________________________________________\n",
      "dense_9 (Dense)              (None, 8)                 88        \n",
      "_________________________________________________________________\n",
      "dense_10 (Dense)             (None, 6)                 54        \n",
      "_________________________________________________________________\n",
      "dense_11 (Dense)             (None, 1)                 7         \n",
      "=================================================================\n",
      "Total params: 2,079\n",
      "Trainable params: 2,079\n",
      "Non-trainable params: 0\n",
      "_________________________________________________________________\n"
     ]
    }
   ],
   "source": [
    "build_model_regular('tanh').summary()"
   ]
  },
  {
   "cell_type": "code",
   "execution_count": 53,
   "metadata": {
    "id": "hKOI8TLD1SHd"
   },
   "outputs": [],
   "source": [
    "# dropout model\n",
    "from tensorflow.keras import regularizers\n",
    "def build_model_drop(act):\n",
    "    model = models.Sequential()\n",
    "    model.add(layers.Dense(10, activation= act,input_shape=(train.shape[1],)))\n",
    "    model.add(layers.Dropout(0.2))\n",
    "    model.add(layers.Dense(8, activation= act))\n",
    "    model.add(layers.Dropout(0.2))\n",
    "    model.add(layers.Dense(6, activation= act))\n",
    "    model.add(layers.Dropout(0.2))\n",
    "    model.add(layers.Dense(1))\n",
    "    model.compile(optimizer='rmsprop', loss='mse', metrics=['mae'])\n",
    "    return model"
   ]
  },
  {
   "cell_type": "code",
   "execution_count": 54,
   "metadata": {
    "colab": {
     "base_uri": "https://localhost:8080/"
    },
    "id": "r_3icFwvKuGy",
    "outputId": "d656902f-2070-49fb-8e13-54edbcdf2da5"
   },
   "outputs": [
    {
     "name": "stdout",
     "output_type": "stream",
     "text": [
      "Model: \"sequential_3\"\n",
      "_________________________________________________________________\n",
      "Layer (type)                 Output Shape              Param #   \n",
      "=================================================================\n",
      "dense_12 (Dense)             (None, 10)                1930      \n",
      "_________________________________________________________________\n",
      "dropout (Dropout)            (None, 10)                0         \n",
      "_________________________________________________________________\n",
      "dense_13 (Dense)             (None, 8)                 88        \n",
      "_________________________________________________________________\n",
      "dropout_1 (Dropout)          (None, 8)                 0         \n",
      "_________________________________________________________________\n",
      "dense_14 (Dense)             (None, 6)                 54        \n",
      "_________________________________________________________________\n",
      "dropout_2 (Dropout)          (None, 6)                 0         \n",
      "_________________________________________________________________\n",
      "dense_15 (Dense)             (None, 1)                 7         \n",
      "=================================================================\n",
      "Total params: 2,079\n",
      "Trainable params: 2,079\n",
      "Non-trainable params: 0\n",
      "_________________________________________________________________\n"
     ]
    }
   ],
   "source": [
    "build_model_drop('relu').summary()"
   ]
  },
  {
   "cell_type": "markdown",
   "metadata": {
    "id": "YwAm7RMr_eMa"
   },
   "source": [
    "# K Fold validation section\n",
    "## here we will use len(train)//k to make 141//4 = 36 rows for validation in each validation test and collect the validation scores for relu , tanh , regularization , and dropout"
   ]
  },
  {
   "cell_type": "code",
   "execution_count": 55,
   "metadata": {
    "colab": {
     "base_uri": "https://localhost:8080/"
    },
    "id": "hTizsf6znpb7",
    "outputId": "261835b1-9c40-46ac-a474-0d48fac97940"
   },
   "outputs": [
    {
     "name": "stdout",
     "output_type": "stream",
     "text": [
      "processing fold # 0\n",
      "processing fold # 1\n",
      "processing fold # 2\n",
      "processing fold # 3\n"
     ]
    }
   ],
   "source": [
    "#k fold validation with relu\n",
    "# 141/4\n",
    "import numpy as np\n",
    "k =  4\n",
    "num_val_samples = len(train) // k\n",
    "num_epochs = 100\n",
    "all_scores_relu = []\n",
    "for i in range(k):\n",
    "    print('processing fold #', i)\n",
    "    val_data = train[i * num_val_samples: (i + 1) * num_val_samples]\n",
    "    val_targets = train_l[i * num_val_samples: (i + 1) * num_val_samples]\n",
    "    partial_train_data = np.concatenate([train[:i * num_val_samples],train[(i + 1) * num_val_samples:]],  axis=0)\n",
    "  # print(partial_train_data)\n",
    "    partial_train_targets = np.concatenate([train_l[:i * num_val_samples],train_l[(i + 1) * num_val_samples:]],axis=0)\n",
    "    model = build_model('relu')\n",
    "    model.fit(partial_train_data, partial_train_targets,epochs=num_epochs, batch_size=1, verbose=0)\n",
    "    val_mse, val_mae = model.evaluate(val_data, val_targets, verbose=0)\n",
    "    all_scores_relu.append(val_mae)\n"
   ]
  },
  {
   "cell_type": "code",
   "execution_count": 56,
   "metadata": {
    "colab": {
     "base_uri": "https://localhost:8080/"
    },
    "id": "HaXgBohaz4WI",
    "outputId": "8857bde4-60de-45f9-a826-116725f0a32b"
   },
   "outputs": [
    {
     "name": "stdout",
     "output_type": "stream",
     "text": [
      "processing fold # 0\n",
      "processing fold # 1\n",
      "processing fold # 2\n",
      "processing fold # 3\n"
     ]
    }
   ],
   "source": [
    "# 141/4\n",
    "#k fold validation with tanh\n",
    "import numpy as np\n",
    "k =  4\n",
    "num_val_samples = len(train) // k\n",
    "num_epochs = 100\n",
    "all_scores_tanh = []\n",
    "for i in range(k):\n",
    "    print('processing fold #', i)\n",
    "    val_data = train[i * num_val_samples: (i + 1) * num_val_samples]\n",
    "    val_targets = train_l[i * num_val_samples: (i + 1) * num_val_samples]\n",
    "    partial_train_data = np.concatenate([train[:i * num_val_samples],train[(i + 1) * num_val_samples:]],  axis=0)\n",
    "  # print(partial_train_data)\n",
    "    partial_train_targets = np.concatenate([train_l[:i * num_val_samples],train_l[(i + 1) * num_val_samples:]],axis=0)\n",
    "    model = build_model('tanh')\n",
    "    model.fit(partial_train_data, partial_train_targets,epochs=num_epochs, batch_size=1, verbose=0)\n",
    "    val_mse, val_mae = model.evaluate(val_data, val_targets, verbose=0)\n",
    "    all_scores_tanh.append(val_mae)"
   ]
  },
  {
   "cell_type": "code",
   "execution_count": 57,
   "metadata": {
    "colab": {
     "base_uri": "https://localhost:8080/"
    },
    "id": "SD6TuagJb54U",
    "outputId": "550972d4-a37d-4875-c384-ad21aa82413c"
   },
   "outputs": [
    {
     "name": "stdout",
     "output_type": "stream",
     "text": [
      "processing fold # 0\n",
      "processing fold # 1\n",
      "processing fold # 2\n",
      "processing fold # 3\n"
     ]
    }
   ],
   "source": [
    "#k-fold validtion with regularization\n",
    "import numpy as np\n",
    "k =  4\n",
    "num_val_samples = len(train) // k\n",
    "num_epochs = 100\n",
    "all_scores_regular = []\n",
    "for i in range(k):\n",
    "    print('processing fold #', i)\n",
    "    val_data = train[i * num_val_samples: (i + 1) * num_val_samples]\n",
    "    val_targets = train_l[i * num_val_samples: (i + 1) * num_val_samples]\n",
    "    partial_train_data = np.concatenate([train[:i * num_val_samples],train[(i + 1) * num_val_samples:]],  axis=0)\n",
    "  # print(partial_train_data)\n",
    "    partial_train_targets = np.concatenate([train_l[:i * num_val_samples],train_l[(i + 1) * num_val_samples:]],axis=0)\n",
    "    model = build_model_regular('relu')\n",
    "    model.fit(partial_train_data, partial_train_targets,epochs=num_epochs, batch_size=1, verbose=0)\n",
    "    val_mse, val_mae = model.evaluate(val_data, val_targets, verbose=0)\n",
    "    all_scores_regular.append(val_mae)"
   ]
  },
  {
   "cell_type": "code",
   "execution_count": 61,
   "metadata": {
    "colab": {
     "base_uri": "https://localhost:8080/"
    },
    "id": "B3ENBDAMrHtb",
    "outputId": "721753a6-a2ff-4f04-be56-2d8ad89f5d52"
   },
   "outputs": [
    {
     "name": "stdout",
     "output_type": "stream",
     "text": [
      "processing fold # 0\n",
      "Epoch 1/100\n",
      "113/113 [==============================] - 1s 12ms/sample - loss: 0.8862 - mean_absolute_error: 0.7255\n",
      "Epoch 2/100\n",
      "113/113 [==============================] - 1s 6ms/sample - loss: 0.6696 - mean_absolute_error: 0.5749\n",
      "Epoch 3/100\n",
      "113/113 [==============================] - 1s 6ms/sample - loss: 0.4788 - mean_absolute_error: 0.4689\n",
      "Epoch 4/100\n",
      "113/113 [==============================] - 1s 6ms/sample - loss: 0.5235 - mean_absolute_error: 0.4679\n",
      "Epoch 5/100\n",
      "113/113 [==============================] - 1s 6ms/sample - loss: 0.3480 - mean_absolute_error: 0.4104\n",
      "Epoch 6/100\n",
      "113/113 [==============================] - 1s 7ms/sample - loss: 0.5178 - mean_absolute_error: 0.4491\n",
      "Epoch 7/100\n",
      "113/113 [==============================] - 1s 6ms/sample - loss: 0.4923 - mean_absolute_error: 0.4387\n",
      "Epoch 8/100\n",
      "113/113 [==============================] - 1s 6ms/sample - loss: 0.5754 - mean_absolute_error: 0.4520\n",
      "Epoch 9/100\n",
      "113/113 [==============================] - 1s 8ms/sample - loss: 0.4842 - mean_absolute_error: 0.4141\n",
      "Epoch 10/100\n",
      "113/113 [==============================] - 1s 6ms/sample - loss: 0.2877 - mean_absolute_error: 0.3472\n",
      "Epoch 11/100\n",
      "113/113 [==============================] - 1s 5ms/sample - loss: 0.2936 - mean_absolute_error: 0.3576\n",
      "Epoch 12/100\n",
      "113/113 [==============================] - 1s 6ms/sample - loss: 0.2454 - mean_absolute_error: 0.3601\n",
      "Epoch 13/100\n",
      "113/113 [==============================] - 1s 5ms/sample - loss: 0.1979 - mean_absolute_error: 0.3169\n",
      "Epoch 14/100\n",
      "113/113 [==============================] - 1s 6ms/sample - loss: 0.3505 - mean_absolute_error: 0.3738\n",
      "Epoch 15/100\n",
      "113/113 [==============================] - 1s 5ms/sample - loss: 0.2558 - mean_absolute_error: 0.3435\n",
      "Epoch 16/100\n",
      "113/113 [==============================] - 1s 6ms/sample - loss: 0.4495 - mean_absolute_error: 0.3687\n",
      "Epoch 17/100\n",
      "113/113 [==============================] - 1s 6ms/sample - loss: 0.3010 - mean_absolute_error: 0.3330\n",
      "Epoch 18/100\n",
      "113/113 [==============================] - 1s 5ms/sample - loss: 0.2345 - mean_absolute_error: 0.3311 0s - loss: 0.1344 - mean_absolute_er\n",
      "Epoch 19/100\n",
      "113/113 [==============================] - 1s 6ms/sample - loss: 0.3202 - mean_absolute_error: 0.3210\n",
      "Epoch 20/100\n",
      "113/113 [==============================] - 1s 6ms/sample - loss: 0.2651 - mean_absolute_error: 0.3092\n",
      "Epoch 21/100\n",
      "113/113 [==============================] - 1s 6ms/sample - loss: 0.4492 - mean_absolute_error: 0.3645\n",
      "Epoch 22/100\n",
      "113/113 [==============================] - 1s 5ms/sample - loss: 0.2822 - mean_absolute_error: 0.3286\n",
      "Epoch 23/100\n",
      "113/113 [==============================] - 1s 6ms/sample - loss: 0.3117 - mean_absolute_error: 0.3293\n",
      "Epoch 24/100\n",
      "113/113 [==============================] - 1s 7ms/sample - loss: 0.2913 - mean_absolute_error: 0.3224\n",
      "Epoch 25/100\n",
      "113/113 [==============================] - 0s 4ms/sample - loss: 0.1461 - mean_absolute_error: 0.2747\n",
      "Epoch 26/100\n",
      "113/113 [==============================] - 1s 5ms/sample - loss: 0.2995 - mean_absolute_error: 0.3526\n",
      "Epoch 27/100\n",
      "113/113 [==============================] - 1s 7ms/sample - loss: 0.1578 - mean_absolute_error: 0.2825\n",
      "Epoch 28/100\n",
      "113/113 [==============================] - 1s 5ms/sample - loss: 0.1509 - mean_absolute_error: 0.2798\n",
      "Epoch 29/100\n",
      "113/113 [==============================] - 1s 5ms/sample - loss: 0.2885 - mean_absolute_error: 0.3208\n",
      "Epoch 30/100\n",
      "113/113 [==============================] - 1s 6ms/sample - loss: 0.2326 - mean_absolute_error: 0.3036\n",
      "Epoch 31/100\n",
      "113/113 [==============================] - 1s 6ms/sample - loss: 0.3473 - mean_absolute_error: 0.3220\n",
      "Epoch 32/100\n",
      "113/113 [==============================] - 1s 5ms/sample - loss: 0.3973 - mean_absolute_error: 0.3581\n",
      "Epoch 33/100\n",
      "113/113 [==============================] - 0s 4ms/sample - loss: 0.2528 - mean_absolute_error: 0.3250\n",
      "Epoch 34/100\n",
      "113/113 [==============================] - 0s 4ms/sample - loss: 0.2576 - mean_absolute_error: 0.3054\n",
      "Epoch 35/100\n",
      "113/113 [==============================] - 0s 4ms/sample - loss: 0.2167 - mean_absolute_error: 0.3068\n",
      "Epoch 36/100\n",
      "113/113 [==============================] - 1s 4ms/sample - loss: 0.3315 - mean_absolute_error: 0.3391\n",
      "Epoch 37/100\n",
      "113/113 [==============================] - 0s 4ms/sample - loss: 0.3012 - mean_absolute_error: 0.3357\n",
      "Epoch 38/100\n",
      "113/113 [==============================] - 0s 4ms/sample - loss: 0.2501 - mean_absolute_error: 0.3065\n",
      "Epoch 39/100\n",
      "113/113 [==============================] - 0s 4ms/sample - loss: 0.2061 - mean_absolute_error: 0.2752\n",
      "Epoch 40/100\n",
      "113/113 [==============================] - 1s 5ms/sample - loss: 0.2179 - mean_absolute_error: 0.3031\n",
      "Epoch 41/100\n",
      "113/113 [==============================] - 0s 4ms/sample - loss: 0.1669 - mean_absolute_error: 0.2479\n",
      "Epoch 42/100\n",
      "113/113 [==============================] - 0s 4ms/sample - loss: 0.2670 - mean_absolute_error: 0.3109\n",
      "Epoch 43/100\n",
      "113/113 [==============================] - 1s 5ms/sample - loss: 0.2329 - mean_absolute_error: 0.2907\n",
      "Epoch 44/100\n",
      "113/113 [==============================] - 0s 4ms/sample - loss: 0.3679 - mean_absolute_error: 0.3589\n",
      "Epoch 45/100\n",
      "113/113 [==============================] - 0s 4ms/sample - loss: 0.1747 - mean_absolute_error: 0.2724\n",
      "Epoch 46/100\n",
      "113/113 [==============================] - 0s 4ms/sample - loss: 0.2983 - mean_absolute_error: 0.3242\n",
      "Epoch 47/100\n",
      "113/113 [==============================] - 1s 5ms/sample - loss: 0.2978 - mean_absolute_error: 0.2816 0s - loss: 0.5575 - mean_absolute_error:\n",
      "Epoch 48/100\n",
      "113/113 [==============================] - 0s 4ms/sample - loss: 0.1771 - mean_absolute_error: 0.2931\n",
      "Epoch 49/100\n",
      "113/113 [==============================] - 0s 4ms/sample - loss: 0.2054 - mean_absolute_error: 0.2779\n",
      "Epoch 50/100\n",
      "113/113 [==============================] - 0s 4ms/sample - loss: 0.1686 - mean_absolute_error: 0.2515\n",
      "Epoch 51/100\n",
      "113/113 [==============================] - 0s 4ms/sample - loss: 0.1923 - mean_absolute_error: 0.3052\n",
      "Epoch 52/100\n",
      "113/113 [==============================] - 1s 4ms/sample - loss: 0.3191 - mean_absolute_error: 0.2860\n",
      "Epoch 53/100\n",
      "113/113 [==============================] - 1s 6ms/sample - loss: 0.2130 - mean_absolute_error: 0.2789\n",
      "Epoch 54/100\n",
      "113/113 [==============================] - 1s 7ms/sample - loss: 0.3744 - mean_absolute_error: 0.3218\n",
      "Epoch 55/100\n",
      "113/113 [==============================] - 1s 7ms/sample - loss: 0.1197 - mean_absolute_error: 0.2210\n",
      "Epoch 56/100\n",
      "113/113 [==============================] - 1s 7ms/sample - loss: 0.2111 - mean_absolute_error: 0.2770\n",
      "Epoch 57/100\n",
      "113/113 [==============================] - 1s 6ms/sample - loss: 0.2477 - mean_absolute_error: 0.2793\n",
      "Epoch 58/100\n",
      "113/113 [==============================] - 0s 4ms/sample - loss: 0.2017 - mean_absolute_error: 0.2746\n",
      "Epoch 59/100\n",
      "113/113 [==============================] - 0s 4ms/sample - loss: 0.1570 - mean_absolute_error: 0.2657\n",
      "Epoch 60/100\n",
      "113/113 [==============================] - 0s 4ms/sample - loss: 0.2404 - mean_absolute_error: 0.2474\n",
      "Epoch 61/100\n",
      "113/113 [==============================] - 0s 4ms/sample - loss: 0.2729 - mean_absolute_error: 0.2782\n",
      "Epoch 62/100\n",
      "113/113 [==============================] - 0s 4ms/sample - loss: 0.1588 - mean_absolute_error: 0.2559\n",
      "Epoch 63/100\n",
      "113/113 [==============================] - 0s 4ms/sample - loss: 0.2869 - mean_absolute_error: 0.2861\n",
      "Epoch 64/100\n",
      "113/113 [==============================] - 0s 4ms/sample - loss: 0.3048 - mean_absolute_error: 0.3100\n",
      "Epoch 65/100\n",
      "113/113 [==============================] - 0s 4ms/sample - loss: 0.2072 - mean_absolute_error: 0.2926\n",
      "Epoch 66/100\n",
      "113/113 [==============================] - 0s 4ms/sample - loss: 0.2622 - mean_absolute_error: 0.2941\n",
      "Epoch 67/100\n",
      "113/113 [==============================] - 0s 4ms/sample - loss: 0.1863 - mean_absolute_error: 0.2788\n",
      "Epoch 68/100\n",
      "113/113 [==============================] - 0s 4ms/sample - loss: 0.2008 - mean_absolute_error: 0.2925\n",
      "Epoch 69/100\n",
      "113/113 [==============================] - 0s 4ms/sample - loss: 0.2865 - mean_absolute_error: 0.3090\n",
      "Epoch 70/100\n",
      "113/113 [==============================] - 0s 4ms/sample - loss: 0.1427 - mean_absolute_error: 0.2223\n",
      "Epoch 71/100\n"
     ]
    },
    {
     "name": "stdout",
     "output_type": "stream",
     "text": [
      "113/113 [==============================] - 0s 4ms/sample - loss: 0.1138 - mean_absolute_error: 0.2272\n",
      "Epoch 72/100\n",
      "113/113 [==============================] - 0s 4ms/sample - loss: 0.2469 - mean_absolute_error: 0.2906\n",
      "Epoch 73/100\n",
      "113/113 [==============================] - 0s 4ms/sample - loss: 0.2092 - mean_absolute_error: 0.2924\n",
      "Epoch 74/100\n",
      "113/113 [==============================] - 0s 4ms/sample - loss: 0.1418 - mean_absolute_error: 0.2429\n",
      "Epoch 75/100\n",
      "113/113 [==============================] - 0s 4ms/sample - loss: 0.2486 - mean_absolute_error: 0.2669\n",
      "Epoch 76/100\n",
      "113/113 [==============================] - 0s 4ms/sample - loss: 0.2164 - mean_absolute_error: 0.2576\n",
      "Epoch 77/100\n",
      "113/113 [==============================] - 0s 4ms/sample - loss: 0.2046 - mean_absolute_error: 0.2907\n",
      "Epoch 78/100\n",
      "113/113 [==============================] - 0s 4ms/sample - loss: 0.3695 - mean_absolute_error: 0.3153\n",
      "Epoch 79/100\n",
      "113/113 [==============================] - 1s 9ms/sample - loss: 0.1180 - mean_absolute_error: 0.2509\n",
      "Epoch 80/100\n",
      "113/113 [==============================] - 1s 6ms/sample - loss: 0.2439 - mean_absolute_error: 0.2757\n",
      "Epoch 81/100\n",
      "113/113 [==============================] - 0s 4ms/sample - loss: 0.2764 - mean_absolute_error: 0.3268\n",
      "Epoch 82/100\n",
      "113/113 [==============================] - 0s 4ms/sample - loss: 0.2687 - mean_absolute_error: 0.2999\n",
      "Epoch 83/100\n",
      "113/113 [==============================] - 0s 4ms/sample - loss: 0.1926 - mean_absolute_error: 0.2662\n",
      "Epoch 84/100\n",
      "113/113 [==============================] - 0s 4ms/sample - loss: 0.1698 - mean_absolute_error: 0.2450\n",
      "Epoch 85/100\n",
      "113/113 [==============================] - 0s 4ms/sample - loss: 0.1732 - mean_absolute_error: 0.2588\n",
      "Epoch 86/100\n",
      "113/113 [==============================] - 0s 4ms/sample - loss: 0.2804 - mean_absolute_error: 0.2717\n",
      "Epoch 87/100\n",
      "113/113 [==============================] - 0s 4ms/sample - loss: 0.2537 - mean_absolute_error: 0.2655\n",
      "Epoch 88/100\n",
      "113/113 [==============================] - 1s 6ms/sample - loss: 0.1789 - mean_absolute_error: 0.2716\n",
      "Epoch 89/100\n",
      "113/113 [==============================] - 0s 4ms/sample - loss: 0.2802 - mean_absolute_error: 0.2958\n",
      "Epoch 90/100\n",
      "113/113 [==============================] - 1s 7ms/sample - loss: 0.1688 - mean_absolute_error: 0.2750\n",
      "Epoch 91/100\n",
      "113/113 [==============================] - 1s 5ms/sample - loss: 0.1642 - mean_absolute_error: 0.2626\n",
      "Epoch 92/100\n",
      "113/113 [==============================] - 1s 5ms/sample - loss: 0.2184 - mean_absolute_error: 0.2632\n",
      "Epoch 93/100\n",
      "113/113 [==============================] - 1s 6ms/sample - loss: 0.0835 - mean_absolute_error: 0.2089\n",
      "Epoch 94/100\n",
      "113/113 [==============================] - 0s 4ms/sample - loss: 0.3203 - mean_absolute_error: 0.2876\n",
      "Epoch 95/100\n",
      "113/113 [==============================] - 1s 5ms/sample - loss: 0.2046 - mean_absolute_error: 0.2861\n",
      "Epoch 96/100\n",
      "113/113 [==============================] - 1s 7ms/sample - loss: 0.1717 - mean_absolute_error: 0.2424 0s - loss: 0.3064 - mean_absolute_er\n",
      "Epoch 97/100\n",
      "113/113 [==============================] - 0s 4ms/sample - loss: 0.3594 - mean_absolute_error: 0.2985\n",
      "Epoch 98/100\n",
      "113/113 [==============================] - 1s 5ms/sample - loss: 0.1843 - mean_absolute_error: 0.2659\n",
      "Epoch 99/100\n",
      "113/113 [==============================] - 0s 4ms/sample - loss: 0.1368 - mean_absolute_error: 0.2214\n",
      "Epoch 100/100\n",
      "113/113 [==============================] - 0s 4ms/sample - loss: 0.1764 - mean_absolute_error: 0.2519\n",
      "37/37 [==============================] - 0s 10ms/sample - loss: 0.3904 - mean_absolute_error: 0.4057\n",
      "processing fold # 1\n",
      "Epoch 1/100\n",
      "113/113 [==============================] - 1s 11ms/sample - loss: 0.7744 - mean_absolute_error: 0.5983\n",
      "Epoch 2/100\n",
      "113/113 [==============================] - 1s 5ms/sample - loss: 0.6621 - mean_absolute_error: 0.5522\n",
      "Epoch 3/100\n",
      "113/113 [==============================] - 0s 4ms/sample - loss: 0.6575 - mean_absolute_error: 0.5473\n",
      "Epoch 4/100\n",
      "113/113 [==============================] - 1s 5ms/sample - loss: 0.6647 - mean_absolute_error: 0.5565\n",
      "Epoch 5/100\n",
      "113/113 [==============================] - 1s 4ms/sample - loss: 0.6285 - mean_absolute_error: 0.5277\n",
      "Epoch 6/100\n",
      "113/113 [==============================] - 1s 5ms/sample - loss: 0.6068 - mean_absolute_error: 0.5043\n",
      "Epoch 7/100\n",
      "113/113 [==============================] - 1s 4ms/sample - loss: 0.6284 - mean_absolute_error: 0.5370\n",
      "Epoch 8/100\n",
      "113/113 [==============================] - 0s 4ms/sample - loss: 0.5834 - mean_absolute_error: 0.5009\n",
      "Epoch 9/100\n",
      "113/113 [==============================] - 1s 4ms/sample - loss: 0.5756 - mean_absolute_error: 0.4923\n",
      "Epoch 10/100\n",
      "113/113 [==============================] - 1s 5ms/sample - loss: 0.5677 - mean_absolute_error: 0.4820\n",
      "Epoch 11/100\n",
      "113/113 [==============================] - 1s 5ms/sample - loss: 0.5596 - mean_absolute_error: 0.4791\n",
      "Epoch 12/100\n",
      "113/113 [==============================] - 1s 5ms/sample - loss: 0.5279 - mean_absolute_error: 0.4583\n",
      "Epoch 13/100\n",
      "113/113 [==============================] - 1s 5ms/sample - loss: 0.5381 - mean_absolute_error: 0.4631\n",
      "Epoch 14/100\n",
      "113/113 [==============================] - 1s 5ms/sample - loss: 0.5149 - mean_absolute_error: 0.4368\n",
      "Epoch 15/100\n",
      "113/113 [==============================] - 1s 5ms/sample - loss: 0.5168 - mean_absolute_error: 0.4460\n",
      "Epoch 16/100\n",
      "113/113 [==============================] - 0s 4ms/sample - loss: 0.5500 - mean_absolute_error: 0.4766\n",
      "Epoch 17/100\n",
      "113/113 [==============================] - 1s 5ms/sample - loss: 0.4790 - mean_absolute_error: 0.4175\n",
      "Epoch 18/100\n",
      "113/113 [==============================] - 0s 4ms/sample - loss: 0.4973 - mean_absolute_error: 0.4132\n",
      "Epoch 19/100\n",
      "113/113 [==============================] - 0s 4ms/sample - loss: 0.4830 - mean_absolute_error: 0.4285\n",
      "Epoch 20/100\n",
      "113/113 [==============================] - 1s 5ms/sample - loss: 0.4904 - mean_absolute_error: 0.4411\n",
      "Epoch 21/100\n",
      "113/113 [==============================] - 0s 4ms/sample - loss: 0.5117 - mean_absolute_error: 0.4572\n",
      "Epoch 22/100\n",
      "113/113 [==============================] - 1s 4ms/sample - loss: 0.4548 - mean_absolute_error: 0.4001\n",
      "Epoch 23/100\n",
      "113/113 [==============================] - 1s 5ms/sample - loss: 0.5050 - mean_absolute_error: 0.4485\n",
      "Epoch 24/100\n",
      "113/113 [==============================] - 0s 4ms/sample - loss: 0.4544 - mean_absolute_error: 0.4116\n",
      "Epoch 25/100\n",
      "113/113 [==============================] - 1s 5ms/sample - loss: 0.4684 - mean_absolute_error: 0.4147\n",
      "Epoch 26/100\n",
      "113/113 [==============================] - 1s 5ms/sample - loss: 0.5137 - mean_absolute_error: 0.4579\n",
      "Epoch 27/100\n",
      "113/113 [==============================] - 0s 4ms/sample - loss: 0.4711 - mean_absolute_error: 0.4424\n",
      "Epoch 28/100\n",
      "113/113 [==============================] - 1s 4ms/sample - loss: 0.4731 - mean_absolute_error: 0.4263\n",
      "Epoch 29/100\n",
      "113/113 [==============================] - 0s 4ms/sample - loss: 0.4665 - mean_absolute_error: 0.4352\n",
      "Epoch 30/100\n",
      "113/113 [==============================] - 1s 4ms/sample - loss: 0.4566 - mean_absolute_error: 0.4043\n",
      "Epoch 31/100\n",
      "113/113 [==============================] - 0s 4ms/sample - loss: 0.4468 - mean_absolute_error: 0.4160\n",
      "Epoch 32/100\n",
      "113/113 [==============================] - 0s 4ms/sample - loss: 0.4184 - mean_absolute_error: 0.3874\n",
      "Epoch 33/100\n",
      "113/113 [==============================] - 0s 4ms/sample - loss: 0.5000 - mean_absolute_error: 0.4545\n",
      "Epoch 34/100\n",
      "113/113 [==============================] - 0s 4ms/sample - loss: 0.4482 - mean_absolute_error: 0.4248\n",
      "Epoch 35/100\n",
      "113/113 [==============================] - 0s 4ms/sample - loss: 0.4328 - mean_absolute_error: 0.4031\n",
      "Epoch 36/100\n",
      "113/113 [==============================] - 1s 4ms/sample - loss: 0.4499 - mean_absolute_error: 0.4209\n",
      "Epoch 37/100\n",
      "113/113 [==============================] - 1s 5ms/sample - loss: 0.4559 - mean_absolute_error: 0.4082\n",
      "Epoch 38/100\n",
      "113/113 [==============================] - 0s 4ms/sample - loss: 0.4486 - mean_absolute_error: 0.4122\n",
      "Epoch 39/100\n",
      "113/113 [==============================] - 1s 5ms/sample - loss: 0.4196 - mean_absolute_error: 0.3946\n",
      "Epoch 40/100\n",
      "113/113 [==============================] - 1s 4ms/sample - loss: 0.4365 - mean_absolute_error: 0.4080\n",
      "Epoch 41/100\n"
     ]
    },
    {
     "name": "stdout",
     "output_type": "stream",
     "text": [
      "113/113 [==============================] - 0s 4ms/sample - loss: 0.4463 - mean_absolute_error: 0.4263\n",
      "Epoch 42/100\n",
      "113/113 [==============================] - 0s 4ms/sample - loss: 0.4535 - mean_absolute_error: 0.4317\n",
      "Epoch 43/100\n",
      "113/113 [==============================] - 1s 5ms/sample - loss: 0.4636 - mean_absolute_error: 0.4221\n",
      "Epoch 44/100\n",
      "113/113 [==============================] - 0s 4ms/sample - loss: 0.4614 - mean_absolute_error: 0.4202\n",
      "Epoch 45/100\n",
      "113/113 [==============================] - 0s 4ms/sample - loss: 0.4424 - mean_absolute_error: 0.4200\n",
      "Epoch 46/100\n",
      "113/113 [==============================] - 1s 5ms/sample - loss: 0.4801 - mean_absolute_error: 0.4564\n",
      "Epoch 47/100\n",
      "113/113 [==============================] - 1s 5ms/sample - loss: 0.4197 - mean_absolute_error: 0.3907\n",
      "Epoch 48/100\n",
      "113/113 [==============================] - 0s 4ms/sample - loss: 0.4086 - mean_absolute_error: 0.3842\n",
      "Epoch 49/100\n",
      "113/113 [==============================] - 1s 4ms/sample - loss: 0.4231 - mean_absolute_error: 0.4094 0s - loss: 0.3536 - mean_absolute_erro\n",
      "Epoch 50/100\n",
      "113/113 [==============================] - 0s 4ms/sample - loss: 0.4342 - mean_absolute_error: 0.4115\n",
      "Epoch 51/100\n",
      "113/113 [==============================] - 0s 4ms/sample - loss: 0.4509 - mean_absolute_error: 0.4282\n",
      "Epoch 52/100\n",
      "113/113 [==============================] - 0s 4ms/sample - loss: 0.4320 - mean_absolute_error: 0.4112\n",
      "Epoch 53/100\n",
      "113/113 [==============================] - 0s 4ms/sample - loss: 0.4514 - mean_absolute_error: 0.4246\n",
      "Epoch 54/100\n",
      "113/113 [==============================] - 0s 4ms/sample - loss: 0.4501 - mean_absolute_error: 0.4206\n",
      "Epoch 55/100\n",
      "113/113 [==============================] - 0s 4ms/sample - loss: 0.4501 - mean_absolute_error: 0.4319\n",
      "Epoch 56/100\n",
      "113/113 [==============================] - 0s 4ms/sample - loss: 0.4192 - mean_absolute_error: 0.4053\n",
      "Epoch 57/100\n",
      "113/113 [==============================] - 0s 4ms/sample - loss: 0.4729 - mean_absolute_error: 0.4627\n",
      "Epoch 58/100\n",
      "113/113 [==============================] - 0s 4ms/sample - loss: 0.4330 - mean_absolute_error: 0.4097\n",
      "Epoch 59/100\n",
      "113/113 [==============================] - 0s 4ms/sample - loss: 0.3999 - mean_absolute_error: 0.4082\n",
      "Epoch 60/100\n",
      "113/113 [==============================] - 1s 5ms/sample - loss: 0.4364 - mean_absolute_error: 0.4210\n",
      "Epoch 61/100\n",
      "113/113 [==============================] - 1s 5ms/sample - loss: 0.4163 - mean_absolute_error: 0.3960\n",
      "Epoch 62/100\n",
      "113/113 [==============================] - 1s 5ms/sample - loss: 0.4617 - mean_absolute_error: 0.4372\n",
      "Epoch 63/100\n",
      "113/113 [==============================] - 0s 4ms/sample - loss: 0.4066 - mean_absolute_error: 0.4001\n",
      "Epoch 64/100\n",
      "113/113 [==============================] - 0s 4ms/sample - loss: 0.4085 - mean_absolute_error: 0.3958\n",
      "Epoch 65/100\n",
      "113/113 [==============================] - 0s 4ms/sample - loss: 0.4145 - mean_absolute_error: 0.4131\n",
      "Epoch 66/100\n",
      "113/113 [==============================] - 1s 5ms/sample - loss: 0.4084 - mean_absolute_error: 0.3791\n",
      "Epoch 67/100\n",
      "113/113 [==============================] - 0s 4ms/sample - loss: 0.3995 - mean_absolute_error: 0.3950\n",
      "Epoch 68/100\n",
      "113/113 [==============================] - 0s 4ms/sample - loss: 0.4083 - mean_absolute_error: 0.4051\n",
      "Epoch 69/100\n",
      "113/113 [==============================] - 0s 4ms/sample - loss: 0.3980 - mean_absolute_error: 0.3998\n",
      "Epoch 70/100\n",
      "113/113 [==============================] - 0s 4ms/sample - loss: 0.4115 - mean_absolute_error: 0.4102\n",
      "Epoch 71/100\n",
      "113/113 [==============================] - 0s 4ms/sample - loss: 0.3940 - mean_absolute_error: 0.3918\n",
      "Epoch 72/100\n",
      "113/113 [==============================] - 1s 5ms/sample - loss: 0.4356 - mean_absolute_error: 0.4182\n",
      "Epoch 73/100\n",
      "113/113 [==============================] - 1s 5ms/sample - loss: 0.4264 - mean_absolute_error: 0.4191\n",
      "Epoch 74/100\n",
      "113/113 [==============================] - 1s 5ms/sample - loss: 0.3919 - mean_absolute_error: 0.3922\n",
      "Epoch 75/100\n",
      "113/113 [==============================] - 1s 5ms/sample - loss: 0.4170 - mean_absolute_error: 0.4113\n",
      "Epoch 76/100\n",
      "113/113 [==============================] - 1s 5ms/sample - loss: 0.3809 - mean_absolute_error: 0.3831\n",
      "Epoch 77/100\n",
      "113/113 [==============================] - 1s 5ms/sample - loss: 0.4363 - mean_absolute_error: 0.4294\n",
      "Epoch 78/100\n",
      "113/113 [==============================] - 1s 5ms/sample - loss: 0.4204 - mean_absolute_error: 0.4268\n",
      "Epoch 79/100\n",
      "113/113 [==============================] - 1s 5ms/sample - loss: 0.4022 - mean_absolute_error: 0.4122\n",
      "Epoch 80/100\n",
      "113/113 [==============================] - 1s 5ms/sample - loss: 0.4342 - mean_absolute_error: 0.4369\n",
      "Epoch 81/100\n",
      "113/113 [==============================] - 1s 5ms/sample - loss: 0.4303 - mean_absolute_error: 0.4236\n",
      "Epoch 82/100\n",
      "113/113 [==============================] - 1s 5ms/sample - loss: 0.4319 - mean_absolute_error: 0.4333\n",
      "Epoch 83/100\n",
      "113/113 [==============================] - 1s 5ms/sample - loss: 0.4242 - mean_absolute_error: 0.4129\n",
      "Epoch 84/100\n",
      "113/113 [==============================] - 1s 5ms/sample - loss: 0.4071 - mean_absolute_error: 0.3925\n",
      "Epoch 85/100\n",
      "113/113 [==============================] - 1s 5ms/sample - loss: 0.3995 - mean_absolute_error: 0.3996\n",
      "Epoch 86/100\n",
      "113/113 [==============================] - 1s 5ms/sample - loss: 0.4376 - mean_absolute_error: 0.4148\n",
      "Epoch 87/100\n",
      "113/113 [==============================] - 1s 5ms/sample - loss: 0.3808 - mean_absolute_error: 0.3934\n",
      "Epoch 88/100\n",
      "113/113 [==============================] - 1s 5ms/sample - loss: 0.4298 - mean_absolute_error: 0.4341\n",
      "Epoch 89/100\n",
      "113/113 [==============================] - 1s 5ms/sample - loss: 0.4237 - mean_absolute_error: 0.4216\n",
      "Epoch 90/100\n",
      "113/113 [==============================] - 1s 5ms/sample - loss: 0.4023 - mean_absolute_error: 0.4154\n",
      "Epoch 91/100\n",
      "113/113 [==============================] - 1s 5ms/sample - loss: 0.4188 - mean_absolute_error: 0.3922\n",
      "Epoch 92/100\n",
      "113/113 [==============================] - 1s 5ms/sample - loss: 0.4073 - mean_absolute_error: 0.3979\n",
      "Epoch 93/100\n",
      "113/113 [==============================] - 1s 5ms/sample - loss: 0.4313 - mean_absolute_error: 0.3877\n",
      "Epoch 94/100\n",
      "113/113 [==============================] - 1s 5ms/sample - loss: 0.4342 - mean_absolute_error: 0.4259\n",
      "Epoch 95/100\n",
      "113/113 [==============================] - 1s 5ms/sample - loss: 0.4298 - mean_absolute_error: 0.4139\n",
      "Epoch 96/100\n",
      "113/113 [==============================] - 1s 5ms/sample - loss: 0.4020 - mean_absolute_error: 0.3982\n",
      "Epoch 97/100\n",
      "113/113 [==============================] - 1s 5ms/sample - loss: 0.4581 - mean_absolute_error: 0.4193\n",
      "Epoch 98/100\n",
      "113/113 [==============================] - 1s 5ms/sample - loss: 0.4642 - mean_absolute_error: 0.4152\n",
      "Epoch 99/100\n",
      "113/113 [==============================] - 1s 5ms/sample - loss: 0.4048 - mean_absolute_error: 0.3979\n",
      "Epoch 100/100\n",
      "113/113 [==============================] - 1s 5ms/sample - loss: 0.4449 - mean_absolute_error: 0.4237\n",
      "37/37 [==============================] - 1s 14ms/sample - loss: 0.9689 - mean_absolute_error: 0.6121\n",
      "processing fold # 2\n",
      "Epoch 1/100\n",
      "113/113 [==============================] - 1s 12ms/sample - loss: 1.1017 - mean_absolute_error: 0.6875\n",
      "Epoch 2/100\n",
      "113/113 [==============================] - 1s 5ms/sample - loss: 1.0116 - mean_absolute_error: 0.6468\n",
      "Epoch 3/100\n",
      "113/113 [==============================] - 1s 5ms/sample - loss: 0.8954 - mean_absolute_error: 0.5789\n",
      "Epoch 4/100\n",
      "113/113 [==============================] - 1s 5ms/sample - loss: 0.9116 - mean_absolute_error: 0.6219\n",
      "Epoch 5/100\n",
      "113/113 [==============================] - 1s 5ms/sample - loss: 0.8531 - mean_absolute_error: 0.5730\n",
      "Epoch 6/100\n",
      "113/113 [==============================] - 1s 5ms/sample - loss: 0.7825 - mean_absolute_error: 0.5313\n",
      "Epoch 7/100\n",
      "113/113 [==============================] - 1s 5ms/sample - loss: 0.7852 - mean_absolute_error: 0.5450\n",
      "Epoch 8/100\n",
      "113/113 [==============================] - 1s 6ms/sample - loss: 0.7515 - mean_absolute_error: 0.5298\n",
      "Epoch 9/100\n",
      "113/113 [==============================] - 1s 7ms/sample - loss: 0.7516 - mean_absolute_error: 0.5326\n",
      "Epoch 10/100\n",
      "113/113 [==============================] - 1s 8ms/sample - loss: 0.6716 - mean_absolute_error: 0.5041\n",
      "Epoch 11/100\n"
     ]
    },
    {
     "name": "stdout",
     "output_type": "stream",
     "text": [
      "113/113 [==============================] - 1s 7ms/sample - loss: 0.6642 - mean_absolute_error: 0.5100\n",
      "Epoch 12/100\n",
      "113/113 [==============================] - 1s 6ms/sample - loss: 0.6874 - mean_absolute_error: 0.5216\n",
      "Epoch 13/100\n",
      "113/113 [==============================] - 1s 6ms/sample - loss: 0.6019 - mean_absolute_error: 0.4824\n",
      "Epoch 14/100\n",
      "113/113 [==============================] - 1s 5ms/sample - loss: 0.6127 - mean_absolute_error: 0.4982\n",
      "Epoch 15/100\n",
      "113/113 [==============================] - 1s 6ms/sample - loss: 0.5898 - mean_absolute_error: 0.4865\n",
      "Epoch 16/100\n",
      "113/113 [==============================] - 1s 6ms/sample - loss: 0.6342 - mean_absolute_error: 0.4962\n",
      "Epoch 17/100\n",
      "113/113 [==============================] - 1s 6ms/sample - loss: 0.5344 - mean_absolute_error: 0.5076\n",
      "Epoch 18/100\n",
      "113/113 [==============================] - 1s 6ms/sample - loss: 0.4224 - mean_absolute_error: 0.4472\n",
      "Epoch 19/100\n",
      "113/113 [==============================] - 1s 6ms/sample - loss: 0.4038 - mean_absolute_error: 0.4434\n",
      "Epoch 20/100\n",
      "113/113 [==============================] - 1s 7ms/sample - loss: 0.4025 - mean_absolute_error: 0.4109\n",
      "Epoch 21/100\n",
      "113/113 [==============================] - 1s 6ms/sample - loss: 0.5757 - mean_absolute_error: 0.4894\n",
      "Epoch 22/100\n",
      "113/113 [==============================] - 1s 7ms/sample - loss: 0.4647 - mean_absolute_error: 0.4300\n",
      "Epoch 23/100\n",
      "113/113 [==============================] - 1s 5ms/sample - loss: 0.4482 - mean_absolute_error: 0.4446\n",
      "Epoch 24/100\n",
      "113/113 [==============================] - 1s 5ms/sample - loss: 0.3694 - mean_absolute_error: 0.3841\n",
      "Epoch 25/100\n",
      "113/113 [==============================] - 1s 7ms/sample - loss: 0.5381 - mean_absolute_error: 0.4336\n",
      "Epoch 26/100\n",
      "113/113 [==============================] - 1s 6ms/sample - loss: 0.2790 - mean_absolute_error: 0.3890\n",
      "Epoch 27/100\n",
      "113/113 [==============================] - 1s 7ms/sample - loss: 0.2072 - mean_absolute_error: 0.3490\n",
      "Epoch 28/100\n",
      "113/113 [==============================] - 1s 6ms/sample - loss: 0.3333 - mean_absolute_error: 0.3945\n",
      "Epoch 29/100\n",
      "113/113 [==============================] - 1s 6ms/sample - loss: 0.5370 - mean_absolute_error: 0.4586\n",
      "Epoch 30/100\n",
      "113/113 [==============================] - 1s 7ms/sample - loss: 0.2493 - mean_absolute_error: 0.3660\n",
      "Epoch 31/100\n",
      "113/113 [==============================] - 1s 7ms/sample - loss: 0.3698 - mean_absolute_error: 0.3997\n",
      "Epoch 32/100\n",
      "113/113 [==============================] - 1s 7ms/sample - loss: 0.4186 - mean_absolute_error: 0.4056\n",
      "Epoch 33/100\n",
      "113/113 [==============================] - 1s 6ms/sample - loss: 0.5014 - mean_absolute_error: 0.4432\n",
      "Epoch 34/100\n",
      "113/113 [==============================] - 1s 5ms/sample - loss: 0.3858 - mean_absolute_error: 0.3763\n",
      "Epoch 35/100\n",
      "113/113 [==============================] - 1s 5ms/sample - loss: 0.2350 - mean_absolute_error: 0.3422\n",
      "Epoch 36/100\n",
      "113/113 [==============================] - 1s 7ms/sample - loss: 0.6113 - mean_absolute_error: 0.4788\n",
      "Epoch 37/100\n",
      "113/113 [==============================] - 1s 7ms/sample - loss: 0.2496 - mean_absolute_error: 0.3442\n",
      "Epoch 38/100\n",
      "113/113 [==============================] - 1s 6ms/sample - loss: 0.2696 - mean_absolute_error: 0.3335\n",
      "Epoch 39/100\n",
      "113/113 [==============================] - 1s 6ms/sample - loss: 0.4258 - mean_absolute_error: 0.3825\n",
      "Epoch 40/100\n",
      "113/113 [==============================] - 1s 8ms/sample - loss: 0.4341 - mean_absolute_error: 0.4109\n",
      "Epoch 41/100\n",
      "113/113 [==============================] - 1s 7ms/sample - loss: 0.2772 - mean_absolute_error: 0.3299\n",
      "Epoch 42/100\n",
      "113/113 [==============================] - 1s 8ms/sample - loss: 0.2849 - mean_absolute_error: 0.3712\n",
      "Epoch 43/100\n",
      "113/113 [==============================] - 1s 7ms/sample - loss: 0.2246 - mean_absolute_error: 0.3229\n",
      "Epoch 44/100\n",
      "113/113 [==============================] - 1s 8ms/sample - loss: 0.2688 - mean_absolute_error: 0.3398\n",
      "Epoch 45/100\n",
      "113/113 [==============================] - 1s 7ms/sample - loss: 0.5551 - mean_absolute_error: 0.4295\n",
      "Epoch 46/100\n",
      "113/113 [==============================] - 1s 5ms/sample - loss: 0.2846 - mean_absolute_error: 0.3536\n",
      "Epoch 47/100\n",
      "113/113 [==============================] - 1s 6ms/sample - loss: 0.3393 - mean_absolute_error: 0.3548\n",
      "Epoch 48/100\n",
      "113/113 [==============================] - 1s 5ms/sample - loss: 0.4581 - mean_absolute_error: 0.4113\n",
      "Epoch 49/100\n",
      "113/113 [==============================] - 1s 5ms/sample - loss: 0.2430 - mean_absolute_error: 0.3132\n",
      "Epoch 50/100\n",
      "113/113 [==============================] - 1s 7ms/sample - loss: 0.2962 - mean_absolute_error: 0.3601TA: 0s - loss: 0.2385 - mean_absolute_\n",
      "Epoch 51/100\n",
      "113/113 [==============================] - 1s 6ms/sample - loss: 0.3444 - mean_absolute_error: 0.3624\n",
      "Epoch 52/100\n",
      "113/113 [==============================] - 0s 4ms/sample - loss: 0.3036 - mean_absolute_error: 0.3415\n",
      "Epoch 53/100\n",
      "113/113 [==============================] - 1s 5ms/sample - loss: 0.2718 - mean_absolute_error: 0.3348\n",
      "Epoch 54/100\n",
      "113/113 [==============================] - 1s 7ms/sample - loss: 0.2914 - mean_absolute_error: 0.3244\n",
      "Epoch 55/100\n",
      "113/113 [==============================] - 1s 6ms/sample - loss: 0.3432 - mean_absolute_error: 0.3554\n",
      "Epoch 56/100\n",
      "113/113 [==============================] - 0s 4ms/sample - loss: 0.3276 - mean_absolute_error: 0.3844\n",
      "Epoch 57/100\n",
      "113/113 [==============================] - 1s 5ms/sample - loss: 0.2972 - mean_absolute_error: 0.3274\n",
      "Epoch 58/100\n",
      "113/113 [==============================] - 1s 6ms/sample - loss: 0.2285 - mean_absolute_error: 0.3240\n",
      "Epoch 59/100\n",
      "113/113 [==============================] - 1s 7ms/sample - loss: 0.3779 - mean_absolute_error: 0.3631\n",
      "Epoch 60/100\n",
      "113/113 [==============================] - 1s 5ms/sample - loss: 0.3058 - mean_absolute_error: 0.3030\n",
      "Epoch 61/100\n",
      "113/113 [==============================] - 1s 5ms/sample - loss: 0.4646 - mean_absolute_error: 0.3975\n",
      "Epoch 62/100\n",
      "113/113 [==============================] - 1s 6ms/sample - loss: 0.4616 - mean_absolute_error: 0.3973\n",
      "Epoch 63/100\n",
      "113/113 [==============================] - 1s 6ms/sample - loss: 0.3921 - mean_absolute_error: 0.3679\n",
      "Epoch 64/100\n",
      "113/113 [==============================] - 1s 5ms/sample - loss: 0.2826 - mean_absolute_error: 0.3243\n",
      "Epoch 65/100\n",
      "113/113 [==============================] - 1s 5ms/sample - loss: 0.2415 - mean_absolute_error: 0.3278\n",
      "Epoch 66/100\n",
      "113/113 [==============================] - 1s 6ms/sample - loss: 0.2100 - mean_absolute_error: 0.3143\n",
      "Epoch 67/100\n",
      "113/113 [==============================] - 1s 6ms/sample - loss: 0.1779 - mean_absolute_error: 0.3054\n",
      "Epoch 68/100\n",
      "113/113 [==============================] - 1s 7ms/sample - loss: 0.3431 - mean_absolute_error: 0.3456\n",
      "Epoch 69/100\n",
      "113/113 [==============================] - 1s 7ms/sample - loss: 0.2020 - mean_absolute_error: 0.2640\n",
      "Epoch 70/100\n",
      "113/113 [==============================] - 1s 5ms/sample - loss: 0.3119 - mean_absolute_error: 0.3462\n",
      "Epoch 71/100\n",
      "113/113 [==============================] - 1s 5ms/sample - loss: 0.2171 - mean_absolute_error: 0.3036\n",
      "Epoch 72/100\n",
      "113/113 [==============================] - 1s 5ms/sample - loss: 0.4111 - mean_absolute_error: 0.3588\n",
      "Epoch 73/100\n",
      "113/113 [==============================] - 1s 5ms/sample - loss: 0.1835 - mean_absolute_error: 0.2619\n",
      "Epoch 74/100\n",
      "113/113 [==============================] - 1s 5ms/sample - loss: 0.3091 - mean_absolute_error: 0.3194\n",
      "Epoch 75/100\n",
      "113/113 [==============================] - 1s 6ms/sample - loss: 0.2561 - mean_absolute_error: 0.3172\n",
      "Epoch 76/100\n",
      "113/113 [==============================] - 1s 4ms/sample - loss: 0.3261 - mean_absolute_error: 0.3312\n",
      "Epoch 77/100\n",
      "113/113 [==============================] - 1s 5ms/sample - loss: 0.3644 - mean_absolute_error: 0.3833\n",
      "Epoch 78/100\n",
      "113/113 [==============================] - 1s 5ms/sample - loss: 0.3214 - mean_absolute_error: 0.3640\n",
      "Epoch 79/100\n",
      "113/113 [==============================] - 1s 5ms/sample - loss: 0.3895 - mean_absolute_error: 0.3508\n",
      "Epoch 80/100\n",
      "113/113 [==============================] - 0s 4ms/sample - loss: 0.3699 - mean_absolute_error: 0.3570\n",
      "Epoch 81/100\n",
      "113/113 [==============================] - 0s 4ms/sample - loss: 0.1954 - mean_absolute_error: 0.3112\n",
      "Epoch 82/100\n"
     ]
    },
    {
     "name": "stdout",
     "output_type": "stream",
     "text": [
      "113/113 [==============================] - 1s 5ms/sample - loss: 0.2610 - mean_absolute_error: 0.3286\n",
      "Epoch 83/100\n",
      "113/113 [==============================] - 1s 7ms/sample - loss: 0.4416 - mean_absolute_error: 0.3617\n",
      "Epoch 84/100\n",
      "113/113 [==============================] - 1s 6ms/sample - loss: 0.2992 - mean_absolute_error: 0.3034 0s - loss: 0.4990 - mean_absolute_err\n",
      "Epoch 85/100\n",
      "113/113 [==============================] - 1s 5ms/sample - loss: 0.1804 - mean_absolute_error: 0.2879\n",
      "Epoch 86/100\n",
      "113/113 [==============================] - 1s 5ms/sample - loss: 0.2587 - mean_absolute_error: 0.3114\n",
      "Epoch 87/100\n",
      "113/113 [==============================] - 1s 7ms/sample - loss: 0.3503 - mean_absolute_error: 0.3567\n",
      "Epoch 88/100\n",
      "113/113 [==============================] - 1s 6ms/sample - loss: 0.2398 - mean_absolute_error: 0.3101\n",
      "Epoch 89/100\n",
      "113/113 [==============================] - 1s 5ms/sample - loss: 0.4554 - mean_absolute_error: 0.3772\n",
      "Epoch 90/100\n",
      "113/113 [==============================] - 1s 7ms/sample - loss: 0.2109 - mean_absolute_error: 0.3096\n",
      "Epoch 91/100\n",
      "113/113 [==============================] - 1s 9ms/sample - loss: 0.3277 - mean_absolute_error: 0.3423\n",
      "Epoch 92/100\n",
      "113/113 [==============================] - 1s 6ms/sample - loss: 0.2594 - mean_absolute_error: 0.3105\n",
      "Epoch 93/100\n",
      "113/113 [==============================] - ETA: 0s - loss: 0.1315 - mean_absolute_error: 0.241 - 1s 4ms/sample - loss: 0.1294 - mean_absolute_error: 0.2404\n",
      "Epoch 94/100\n",
      "113/113 [==============================] - 1s 5ms/sample - loss: 0.2627 - mean_absolute_error: 0.3194\n",
      "Epoch 95/100\n",
      "113/113 [==============================] - 1s 5ms/sample - loss: 0.2516 - mean_absolute_error: 0.3393\n",
      "Epoch 96/100\n",
      "113/113 [==============================] - 1s 5ms/sample - loss: 0.3607 - mean_absolute_error: 0.3487\n",
      "Epoch 97/100\n",
      "113/113 [==============================] - 1s 5ms/sample - loss: 0.3159 - mean_absolute_error: 0.3503\n",
      "Epoch 98/100\n",
      "113/113 [==============================] - 1s 5ms/sample - loss: 0.2804 - mean_absolute_error: 0.3015\n",
      "Epoch 99/100\n",
      "113/113 [==============================] - 1s 5ms/sample - loss: 0.2568 - mean_absolute_error: 0.3079\n",
      "Epoch 100/100\n",
      "113/113 [==============================] - 1s 5ms/sample - loss: 0.2601 - mean_absolute_error: 0.2986\n",
      "37/37 [==============================] - 0s 12ms/sample - loss: 0.4777 - mean_absolute_error: 0.5713\n",
      "processing fold # 3\n",
      "Epoch 1/100\n",
      "113/113 [==============================] - 1s 12ms/sample - loss: 0.8930 - mean_absolute_error: 0.7145\n",
      "Epoch 2/100\n",
      "113/113 [==============================] - 1s 6ms/sample - loss: 0.8411 - mean_absolute_error: 0.6383\n",
      "Epoch 3/100\n",
      "113/113 [==============================] - 1s 5ms/sample - loss: 0.7924 - mean_absolute_error: 0.6016\n",
      "Epoch 4/100\n",
      "113/113 [==============================] - 1s 6ms/sample - loss: 0.4032 - mean_absolute_error: 0.4728 0s - loss: 0.3449 - mean_absolute_er\n",
      "Epoch 5/100\n",
      "113/113 [==============================] - 1s 5ms/sample - loss: 0.5117 - mean_absolute_error: 0.4835\n",
      "Epoch 6/100\n",
      "113/113 [==============================] - 1s 5ms/sample - loss: 0.6857 - mean_absolute_error: 0.5396\n",
      "Epoch 7/100\n",
      "113/113 [==============================] - 1s 6ms/sample - loss: 0.5538 - mean_absolute_error: 0.4619\n",
      "Epoch 8/100\n",
      "113/113 [==============================] - 1s 7ms/sample - loss: 0.4582 - mean_absolute_error: 0.4739\n",
      "Epoch 9/100\n",
      "113/113 [==============================] - 1s 6ms/sample - loss: 0.6305 - mean_absolute_error: 0.4883\n",
      "Epoch 10/100\n",
      "113/113 [==============================] - 1s 6ms/sample - loss: 0.4838 - mean_absolute_error: 0.4539\n",
      "Epoch 11/100\n",
      "113/113 [==============================] - 1s 6ms/sample - loss: 0.3478 - mean_absolute_error: 0.4097\n",
      "Epoch 12/100\n",
      "113/113 [==============================] - 1s 7ms/sample - loss: 0.4147 - mean_absolute_error: 0.4545\n",
      "Epoch 13/100\n",
      "113/113 [==============================] - 1s 6ms/sample - loss: 0.5882 - mean_absolute_error: 0.5120\n",
      "Epoch 14/100\n",
      "113/113 [==============================] - 1s 6ms/sample - loss: 0.4547 - mean_absolute_error: 0.4426\n",
      "Epoch 15/100\n",
      "113/113 [==============================] - 1s 6ms/sample - loss: 0.5165 - mean_absolute_error: 0.4495\n",
      "Epoch 16/100\n",
      "113/113 [==============================] - 1s 6ms/sample - loss: 0.3060 - mean_absolute_error: 0.3989\n",
      "Epoch 17/100\n",
      "113/113 [==============================] - 1s 7ms/sample - loss: 0.4016 - mean_absolute_error: 0.4283\n",
      "Epoch 18/100\n",
      "113/113 [==============================] - 1s 6ms/sample - loss: 0.4618 - mean_absolute_error: 0.4451\n",
      "Epoch 19/100\n",
      "113/113 [==============================] - 1s 6ms/sample - loss: 0.4844 - mean_absolute_error: 0.4283\n",
      "Epoch 20/100\n",
      "113/113 [==============================] - 1s 6ms/sample - loss: 0.3318 - mean_absolute_error: 0.3802 0s - loss: 0.4892 - mean_absolute_e\n",
      "Epoch 21/100\n",
      "113/113 [==============================] - 1s 6ms/sample - loss: 0.4133 - mean_absolute_error: 0.4396\n",
      "Epoch 22/100\n",
      "113/113 [==============================] - 1s 6ms/sample - loss: 0.2984 - mean_absolute_error: 0.3778\n",
      "Epoch 23/100\n",
      "113/113 [==============================] - 1s 7ms/sample - loss: 0.3623 - mean_absolute_error: 0.4048\n",
      "Epoch 24/100\n",
      "113/113 [==============================] - 1s 6ms/sample - loss: 0.6124 - mean_absolute_error: 0.4377\n",
      "Epoch 25/100\n",
      "113/113 [==============================] - 1s 6ms/sample - loss: 0.2464 - mean_absolute_error: 0.3468\n",
      "Epoch 26/100\n",
      "113/113 [==============================] - 1s 5ms/sample - loss: 0.3321 - mean_absolute_error: 0.3643\n",
      "Epoch 27/100\n",
      "113/113 [==============================] - 1s 7ms/sample - loss: 0.4018 - mean_absolute_error: 0.4129\n",
      "Epoch 28/100\n",
      "113/113 [==============================] - 1s 5ms/sample - loss: 0.3469 - mean_absolute_error: 0.3708\n",
      "Epoch 29/100\n",
      "113/113 [==============================] - 1s 6ms/sample - loss: 0.2891 - mean_absolute_error: 0.3674\n",
      "Epoch 30/100\n",
      "113/113 [==============================] - 1s 6ms/sample - loss: 0.4099 - mean_absolute_error: 0.4083\n",
      "Epoch 31/100\n",
      "113/113 [==============================] - 1s 6ms/sample - loss: 0.4492 - mean_absolute_error: 0.4201\n",
      "Epoch 32/100\n",
      "113/113 [==============================] - 1s 6ms/sample - loss: 0.4471 - mean_absolute_error: 0.3747\n",
      "Epoch 33/100\n",
      "113/113 [==============================] - 1s 6ms/sample - loss: 0.4370 - mean_absolute_error: 0.3981\n",
      "Epoch 34/100\n",
      "113/113 [==============================] - 1s 6ms/sample - loss: 0.2975 - mean_absolute_error: 0.3500\n",
      "Epoch 35/100\n",
      "113/113 [==============================] - 1s 6ms/sample - loss: 0.3185 - mean_absolute_error: 0.3626\n",
      "Epoch 36/100\n",
      "113/113 [==============================] - 1s 6ms/sample - loss: 0.4395 - mean_absolute_error: 0.4271\n",
      "Epoch 37/100\n",
      "113/113 [==============================] - 1s 5ms/sample - loss: 0.2465 - mean_absolute_error: 0.3386\n",
      "Epoch 38/100\n",
      "113/113 [==============================] - 1s 7ms/sample - loss: 0.1777 - mean_absolute_error: 0.2984\n",
      "Epoch 39/100\n",
      "113/113 [==============================] - 1s 6ms/sample - loss: 0.4173 - mean_absolute_error: 0.4074\n",
      "Epoch 40/100\n",
      "113/113 [==============================] - 1s 5ms/sample - loss: 0.3202 - mean_absolute_error: 0.3604\n",
      "Epoch 41/100\n",
      "113/113 [==============================] - 1s 7ms/sample - loss: 0.4542 - mean_absolute_error: 0.4077\n",
      "Epoch 42/100\n",
      "113/113 [==============================] - 1s 6ms/sample - loss: 0.2140 - mean_absolute_error: 0.3131\n",
      "Epoch 43/100\n",
      "113/113 [==============================] - 1s 7ms/sample - loss: 0.2202 - mean_absolute_error: 0.3147\n",
      "Epoch 44/100\n",
      "113/113 [==============================] - 1s 6ms/sample - loss: 0.4233 - mean_absolute_error: 0.4006\n",
      "Epoch 45/100\n",
      "113/113 [==============================] - 1s 5ms/sample - loss: 0.3762 - mean_absolute_error: 0.3768\n",
      "Epoch 46/100\n",
      "113/113 [==============================] - 1s 6ms/sample - loss: 0.2173 - mean_absolute_error: 0.3271\n",
      "Epoch 47/100\n",
      "113/113 [==============================] - 1s 6ms/sample - loss: 0.2710 - mean_absolute_error: 0.3199\n",
      "Epoch 48/100\n",
      "113/113 [==============================] - 1s 6ms/sample - loss: 0.1872 - mean_absolute_error: 0.2872\n",
      "Epoch 49/100\n",
      "113/113 [==============================] - 1s 6ms/sample - loss: 0.2632 - mean_absolute_error: 0.3511\n",
      "Epoch 50/100\n"
     ]
    },
    {
     "name": "stdout",
     "output_type": "stream",
     "text": [
      "113/113 [==============================] - 1s 6ms/sample - loss: 0.4253 - mean_absolute_error: 0.3716\n",
      "Epoch 51/100\n",
      "113/113 [==============================] - 1s 6ms/sample - loss: 0.5006 - mean_absolute_error: 0.4282\n",
      "Epoch 52/100\n",
      "113/113 [==============================] - 1s 5ms/sample - loss: 0.3948 - mean_absolute_error: 0.3770\n",
      "Epoch 53/100\n",
      "113/113 [==============================] - 1s 6ms/sample - loss: 0.2394 - mean_absolute_error: 0.3135 0s - loss: 0.2536 - mean_absolute_erro\n",
      "Epoch 54/100\n",
      "113/113 [==============================] - 1s 5ms/sample - loss: 0.4092 - mean_absolute_error: 0.3929\n",
      "Epoch 55/100\n",
      "113/113 [==============================] - 1s 7ms/sample - loss: 0.3076 - mean_absolute_error: 0.3368\n",
      "Epoch 56/100\n",
      "113/113 [==============================] - 1s 6ms/sample - loss: 0.2696 - mean_absolute_error: 0.3291\n",
      "Epoch 57/100\n",
      "113/113 [==============================] - 1s 5ms/sample - loss: 0.3637 - mean_absolute_error: 0.3792\n",
      "Epoch 58/100\n",
      "113/113 [==============================] - 1s 7ms/sample - loss: 0.2814 - mean_absolute_error: 0.3484\n",
      "Epoch 59/100\n",
      "113/113 [==============================] - 1s 5ms/sample - loss: 0.3089 - mean_absolute_error: 0.3529\n",
      "Epoch 60/100\n",
      "113/113 [==============================] - 1s 6ms/sample - loss: 0.3514 - mean_absolute_error: 0.3932\n",
      "Epoch 61/100\n",
      "113/113 [==============================] - 1s 7ms/sample - loss: 0.3082 - mean_absolute_error: 0.3595\n",
      "Epoch 62/100\n",
      "113/113 [==============================] - 1s 6ms/sample - loss: 0.4033 - mean_absolute_error: 0.3730\n",
      "Epoch 63/100\n",
      "113/113 [==============================] - 1s 7ms/sample - loss: 0.4237 - mean_absolute_error: 0.3521\n",
      "Epoch 64/100\n",
      "113/113 [==============================] - 1s 7ms/sample - loss: 0.1756 - mean_absolute_error: 0.2930\n",
      "Epoch 65/100\n",
      "113/113 [==============================] - 1s 6ms/sample - loss: 0.2619 - mean_absolute_error: 0.3390\n",
      "Epoch 66/100\n",
      "113/113 [==============================] - 1s 6ms/sample - loss: 0.2525 - mean_absolute_error: 0.3328\n",
      "Epoch 67/100\n",
      "113/113 [==============================] - 1s 6ms/sample - loss: 0.2213 - mean_absolute_error: 0.3427\n",
      "Epoch 68/100\n",
      "113/113 [==============================] - 1s 6ms/sample - loss: 0.2308 - mean_absolute_error: 0.3245\n",
      "Epoch 69/100\n",
      "113/113 [==============================] - 0s 4ms/sample - loss: 0.2947 - mean_absolute_error: 0.3415\n",
      "Epoch 70/100\n",
      "113/113 [==============================] - 1s 5ms/sample - loss: 0.1542 - mean_absolute_error: 0.2805\n",
      "Epoch 71/100\n",
      "113/113 [==============================] - 1s 5ms/sample - loss: 0.2422 - mean_absolute_error: 0.3082\n",
      "Epoch 72/100\n",
      "113/113 [==============================] - 1s 6ms/sample - loss: 0.4155 - mean_absolute_error: 0.3684\n",
      "Epoch 73/100\n",
      "113/113 [==============================] - 0s 4ms/sample - loss: 0.4181 - mean_absolute_error: 0.3792\n",
      "Epoch 74/100\n",
      "113/113 [==============================] - 1s 5ms/sample - loss: 0.3916 - mean_absolute_error: 0.3715\n",
      "Epoch 75/100\n",
      "113/113 [==============================] - 1s 5ms/sample - loss: 0.2555 - mean_absolute_error: 0.3117\n",
      "Epoch 76/100\n",
      "113/113 [==============================] - 1s 5ms/sample - loss: 0.2586 - mean_absolute_error: 0.3380\n",
      "Epoch 77/100\n",
      "113/113 [==============================] - 0s 4ms/sample - loss: 0.2513 - mean_absolute_error: 0.3232\n",
      "Epoch 78/100\n",
      "113/113 [==============================] - 1s 5ms/sample - loss: 0.2569 - mean_absolute_error: 0.3078\n",
      "Epoch 79/100\n",
      "113/113 [==============================] - 1s 5ms/sample - loss: 0.1631 - mean_absolute_error: 0.2699\n",
      "Epoch 80/100\n",
      "113/113 [==============================] - 1s 6ms/sample - loss: 0.2141 - mean_absolute_error: 0.2835\n",
      "Epoch 81/100\n",
      "113/113 [==============================] - 1s 5ms/sample - loss: 0.2380 - mean_absolute_error: 0.3214\n",
      "Epoch 82/100\n",
      "113/113 [==============================] - 1s 6ms/sample - loss: 0.3997 - mean_absolute_error: 0.3278\n",
      "Epoch 83/100\n",
      "113/113 [==============================] - 1s 6ms/sample - loss: 0.3085 - mean_absolute_error: 0.3355\n",
      "Epoch 84/100\n",
      "113/113 [==============================] - 1s 6ms/sample - loss: 0.2345 - mean_absolute_error: 0.3063\n",
      "Epoch 85/100\n",
      "113/113 [==============================] - 1s 6ms/sample - loss: 0.3771 - mean_absolute_error: 0.3150\n",
      "Epoch 86/100\n",
      "113/113 [==============================] - 1s 5ms/sample - loss: 0.2973 - mean_absolute_error: 0.3299\n",
      "Epoch 87/100\n",
      "113/113 [==============================] - 1s 5ms/sample - loss: 0.3507 - mean_absolute_error: 0.3538\n",
      "Epoch 88/100\n",
      "113/113 [==============================] - 1s 5ms/sample - loss: 0.2274 - mean_absolute_error: 0.2999\n",
      "Epoch 89/100\n",
      "113/113 [==============================] - 0s 4ms/sample - loss: 0.4072 - mean_absolute_error: 0.3632\n",
      "Epoch 90/100\n",
      "113/113 [==============================] - 1s 5ms/sample - loss: 0.2694 - mean_absolute_error: 0.3191\n",
      "Epoch 91/100\n",
      "113/113 [==============================] - 1s 5ms/sample - loss: 0.2488 - mean_absolute_error: 0.3030\n",
      "Epoch 92/100\n",
      "113/113 [==============================] - 1s 5ms/sample - loss: 0.2119 - mean_absolute_error: 0.2978\n",
      "Epoch 93/100\n",
      "113/113 [==============================] - 1s 6ms/sample - loss: 0.2450 - mean_absolute_error: 0.3132\n",
      "Epoch 94/100\n",
      "113/113 [==============================] - 1s 7ms/sample - loss: 0.3779 - mean_absolute_error: 0.3577\n",
      "Epoch 95/100\n",
      "113/113 [==============================] - 1s 6ms/sample - loss: 0.1671 - mean_absolute_error: 0.2780\n",
      "Epoch 96/100\n",
      "113/113 [==============================] - 1s 5ms/sample - loss: 0.2543 - mean_absolute_error: 0.3062\n",
      "Epoch 97/100\n",
      "113/113 [==============================] - 1s 5ms/sample - loss: 0.3639 - mean_absolute_error: 0.3593\n",
      "Epoch 98/100\n",
      "113/113 [==============================] - 1s 6ms/sample - loss: 0.3147 - mean_absolute_error: 0.3438\n",
      "Epoch 99/100\n",
      "113/113 [==============================] - 1s 5ms/sample - loss: 0.3310 - mean_absolute_error: 0.3386\n",
      "Epoch 100/100\n",
      "113/113 [==============================] - 1s 6ms/sample - loss: 0.2788 - mean_absolute_error: 0.3148\n",
      "37/37 [==============================] - 1s 22ms/sample - loss: 0.1155 - mean_absolute_error: 0.2651\n"
     ]
    }
   ],
   "source": [
    "#k-fold validtion with dropout\n",
    "import numpy as np\n",
    "k =  4\n",
    "num_val_samples = len(train) // k\n",
    "num_epochs = 100\n",
    "all_scores_drop = []\n",
    "for i in range(k):\n",
    "    print('processing fold #', i)\n",
    "    val_data = train[i * num_val_samples: (i + 1) * num_val_samples]\n",
    "    val_targets = train_l[i * num_val_samples: (i + 1) * num_val_samples]\n",
    "    partial_train_data = np.concatenate([train[:i * num_val_samples],train[(i + 1) * num_val_samples:]],  axis=0)\n",
    "  # print(partial_train_data)\n",
    "    partial_train_targets = np.concatenate([train_l[:i * num_val_samples],train_l[(i + 1) * num_val_samples:]],axis=0)\n",
    "    model = build_model_drop('relu')\n",
    "    model.fit(partial_train_data, partial_train_targets,epochs=num_epochs, batch_size=1, verbose=1)\n",
    "    val_mse, val_mae = model.evaluate(val_data, val_targets, verbose=1)\n",
    "    all_scores_drop.append(val_mae)"
   ]
  },
  {
   "cell_type": "markdown",
   "metadata": {
    "id": "hSlCIMtT_Gfd"
   },
   "source": [
    "# Scores\n",
    "## here we will see  MAE mean absolute Error scores of all model which we have saved in the list during each training in above section"
   ]
  },
  {
   "cell_type": "code",
   "execution_count": 62,
   "metadata": {
    "colab": {
     "base_uri": "https://localhost:8080/"
    },
    "id": "We_C7ivQsh8Y",
    "outputId": "27147bd9-2b3a-4976-fa0d-252bdb5e8e4b"
   },
   "outputs": [
    {
     "data": {
      "text/plain": [
       "[0.34280452, 0.29890576, 0.44188422, 0.31670707]"
      ]
     },
     "execution_count": 62,
     "metadata": {},
     "output_type": "execute_result"
    }
   ],
   "source": [
    "all_scores_relu"
   ]
  },
  {
   "cell_type": "code",
   "execution_count": 63,
   "metadata": {
    "colab": {
     "base_uri": "https://localhost:8080/"
    },
    "id": "Y1gBTB5DrDA9",
    "outputId": "c4e8dc8a-6999-4f43-a60e-87aaf5727a83"
   },
   "outputs": [
    {
     "data": {
      "text/plain": [
       "[0.31265816, 0.4143342, 0.56082106, 0.290555]"
      ]
     },
     "execution_count": 63,
     "metadata": {},
     "output_type": "execute_result"
    }
   ],
   "source": [
    "all_scores_tanh"
   ]
  },
  {
   "cell_type": "code",
   "execution_count": 64,
   "metadata": {
    "colab": {
     "base_uri": "https://localhost:8080/"
    },
    "id": "Zf7O0WnN9bVF",
    "outputId": "32c9623c-1723-4757-87c2-6cffb1d55a8d"
   },
   "outputs": [
    {
     "data": {
      "text/plain": [
       "[0.30640987, 0.2600994, 0.5242281, 0.30494794]"
      ]
     },
     "execution_count": 64,
     "metadata": {},
     "output_type": "execute_result"
    }
   ],
   "source": [
    "all_scores_regular"
   ]
  },
  {
   "cell_type": "code",
   "execution_count": 65,
   "metadata": {
    "colab": {
     "base_uri": "https://localhost:8080/"
    },
    "id": "jB8LxbiI0cpx",
    "outputId": "d0768849-4885-4e42-e4b4-b84b9b9f9b6a"
   },
   "outputs": [
    {
     "data": {
      "text/plain": [
       "[0.40571705, 0.6121109, 0.57128084, 0.26508003]"
      ]
     },
     "execution_count": 65,
     "metadata": {},
     "output_type": "execute_result"
    }
   ],
   "source": [
    "all_scores_drop"
   ]
  },
  {
   "cell_type": "markdown",
   "metadata": {
    "id": "wNxMnoqoAYd-"
   },
   "source": [
    "# training on the training data\n",
    "## here we will call each model separately from Models section and train on the training data and evaluate on the test data"
   ]
  },
  {
   "cell_type": "code",
   "execution_count": 66,
   "metadata": {
    "colab": {
     "base_uri": "https://localhost:8080/"
    },
    "id": "VORrpehRb7UR",
    "outputId": "3d7a5162-c462-4fbb-837e-19e7fcdb6c67"
   },
   "outputs": [
    {
     "name": "stdout",
     "output_type": "stream",
     "text": [
      "55/55 [==============================] - 0s 8ms/sample - loss: 0.1177 - mean_absolute_error: 0.2318\n"
     ]
    }
   ],
   "source": [
    "\n",
    "model_tanh = build_model('tanh')\n",
    "model_tanh.fit(train, train_l,epochs= 100, batch_size=1, verbose=0)\n",
    "test_mse_score, test_mae_score = model_tanh.evaluate(test, test_l)"
   ]
  },
  {
   "cell_type": "code",
   "execution_count": 67,
   "metadata": {
    "colab": {
     "base_uri": "https://localhost:8080/"
    },
    "id": "Ttydi9BzUnf5",
    "outputId": "bbbeea4f-7660-4016-a152-a4c566c50370"
   },
   "outputs": [
    {
     "name": "stdout",
     "output_type": "stream",
     "text": [
      "55/55 [==============================] - 1s 12ms/sample - loss: 0.1065 - mean_absolute_error: 0.2219\n"
     ]
    }
   ],
   "source": [
    "model_relu = build_model('relu')\n",
    "model_relu.fit(train, train_l,epochs= 100, batch_size=1, verbose=0)\n",
    "test_mse_score, test_mae_score = model_relu.evaluate(test, test_l)"
   ]
  },
  {
   "cell_type": "code",
   "execution_count": 68,
   "metadata": {
    "colab": {
     "base_uri": "https://localhost:8080/"
    },
    "id": "oZFYcfHftNlY",
    "outputId": "7b3379dd-a3c7-489c-92dc-2f4d6d198f6f"
   },
   "outputs": [
    {
     "name": "stdout",
     "output_type": "stream",
     "text": [
      "55/55 [==============================] - 0s 9ms/sample - loss: 0.1497 - mean_absolute_error: 0.2573\n"
     ]
    }
   ],
   "source": [
    "model_regular = build_model_regular('relu')\n",
    "model_regular.fit(train, train_l,epochs= 100, batch_size=1, verbose=0)\n",
    "test_mse_score, test_mae_score = model_regular.evaluate(test, test_l)"
   ]
  },
  {
   "cell_type": "code",
   "execution_count": 69,
   "metadata": {
    "colab": {
     "base_uri": "https://localhost:8080/"
    },
    "id": "ELSZLSCb0g7c",
    "outputId": "2400eba5-f115-4563-951b-7e57591c3614"
   },
   "outputs": [
    {
     "name": "stdout",
     "output_type": "stream",
     "text": [
      "55/55 [==============================] - 1s 10ms/sample - loss: 0.2306 - mean_absolute_error: 0.2982\n"
     ]
    }
   ],
   "source": [
    "model_drop = build_model_drop('relu')\n",
    "model_drop.fit(train, train_l,epochs= 100, batch_size=1, verbose=0)\n",
    "test_mse_score, test_mae_score = model_drop.evaluate(test, test_l)"
   ]
  },
  {
   "cell_type": "markdown",
   "metadata": {
    "id": "TV42POJyA-Na"
   },
   "source": [
    "# Prediction Section\n",
    "## here we will predict our prices of our test dataset with each model which we have trained in training section\n",
    "## Note that here we will use the reverse process of Normalization to retrieve our values of price in thousand of dollars i.e. x = (y - mean)/ std ==>> we will calculate( y = x * std + mean) and then we will compare it with our target values"
   ]
  },
  {
   "cell_type": "code",
   "execution_count": 70,
   "metadata": {
    "colab": {
     "base_uri": "https://localhost:8080/"
    },
    "id": "_5QU9eNHg5_b",
    "outputId": "31fcfc8a-6ea9-4c0a-9095-079dacb87f4d"
   },
   "outputs": [
    {
     "data": {
      "text/plain": [
       "array([ 3.3651229e-02,  8.9714251e-02,  5.2096826e-01,  4.5628017e-01,\n",
       "        9.5468664e-01,  9.7132069e-01,  3.4615047e+00, -6.4871585e-01,\n",
       "       -8.0458337e-01, -8.3082825e-01, -8.2466751e-01, -7.3028445e-01,\n",
       "       -7.3028445e-01, -5.3930056e-01, -3.5447741e-01, -2.8054813e-01,\n",
       "       -5.8242595e-01, -2.4358350e-01,  2.2644668e+00, -8.6656076e-01,\n",
       "        2.0294924e-01, -7.8523856e-01, -7.0514852e-01, -6.1273694e-01,\n",
       "       -4.5255688e-01,  3.4144092e-02,  4.9004120e-01,  7.9807979e-01,\n",
       "       -2.6973230e-03,  6.0721910e-01, -8.0458337e-01, -5.6419253e-02,\n",
       "        2.3788106e+00,  2.5636337e+00, -4.8385361e-01, -4.0992433e-01,\n",
       "       -7.5110787e-01, -6.7114109e-01, -1.8825977e-01, -7.7673668e-01,\n",
       "       -7.7427238e-01, -7.4223638e-01, -6.3627112e-01, -4.4146749e-01,\n",
       "       -2.0612600e-01,  5.4795247e-01, -2.8633925e-01,  3.0410913e-01,\n",
       "       -6.7114109e-01, -6.4649796e-01, -3.4733336e-02,  4.0576184e-01,\n",
       "        7.1749693e-01,  1.0181426e+00,  1.1395098e+00], dtype=float32)"
      ]
     },
     "execution_count": 70,
     "metadata": {},
     "output_type": "execute_result"
    }
   ],
   "source": [
    "test_l"
   ]
  },
  {
   "cell_type": "code",
   "execution_count": 71,
   "metadata": {
    "id": "mua_UYVJ7YNd"
   },
   "outputs": [],
   "source": [
    "def predict(model, m):\n",
    "    print(f\" the Actual value Price was : {test_l[m]* std_label + mean_label} \" )\n",
    "    return(f\" the predicted Price was : {(model.predict(test[m:m+1].reshape(1,test.shape[1]))) * std_label + mean_label} \")\n"
   ]
  },
  {
   "cell_type": "code",
   "execution_count": 72,
   "metadata": {
    "colab": {
     "base_uri": "https://localhost:8080/",
     "height": 89
    },
    "id": "ofX9VqMVbhBC",
    "outputId": "670abf77-949d-422b-e6e2-4d3527bf1ef4"
   },
   "outputs": [
    {
     "name": "stdout",
     "output_type": "stream",
     "text": [
      " the Actual value Price was : 17449.999801305745 \n"
     ]
    },
    {
     "data": {
      "text/plain": [
       "' the predicted Price was : [[15343.443]] '"
      ]
     },
     "execution_count": 72,
     "metadata": {},
     "output_type": "execute_result"
    }
   ],
   "source": [
    "x_tanh = predict(model_tanh,2)\n",
    "x_tanh"
   ]
  },
  {
   "cell_type": "code",
   "execution_count": 73,
   "metadata": {
    "colab": {
     "base_uri": "https://localhost:8080/",
     "height": 89
    },
    "id": "4Z0UyL_LOImw",
    "outputId": "bf7c9059-ff55-48f0-b0e3-0cab32005c0b"
   },
   "outputs": [
    {
     "name": "stdout",
     "output_type": "stream",
     "text": [
      " the Actual value Price was : 17449.999801305745 \n"
     ]
    },
    {
     "data": {
      "text/plain": [
       "' the predicted Price was : [[15635.346]] '"
      ]
     },
     "execution_count": 73,
     "metadata": {},
     "output_type": "execute_result"
    }
   ],
   "source": [
    "x_relu = predict(model_relu,2)\n",
    "x_relu"
   ]
  },
  {
   "cell_type": "code",
   "execution_count": 74,
   "metadata": {
    "colab": {
     "base_uri": "https://localhost:8080/",
     "height": 89
    },
    "id": "nlQRNOo0tb8J",
    "outputId": "62ce4e74-0d8e-4d13-946f-b6251e6314e7"
   },
   "outputs": [
    {
     "name": "stdout",
     "output_type": "stream",
     "text": [
      " the Actual value Price was : 17449.999801305745 \n"
     ]
    },
    {
     "data": {
      "text/plain": [
       "' the predicted Price was : [[16839.652]] '"
      ]
     },
     "execution_count": 74,
     "metadata": {},
     "output_type": "execute_result"
    }
   ],
   "source": [
    "x_regular = predict(model_regular,2)\n",
    "x_regular"
   ]
  },
  {
   "cell_type": "code",
   "execution_count": 75,
   "metadata": {
    "colab": {
     "base_uri": "https://localhost:8080/",
     "height": 89
    },
    "id": "uW5Y65pP0qET",
    "outputId": "3428f362-cea1-4219-9843-928105cf1fac"
   },
   "outputs": [
    {
     "name": "stdout",
     "output_type": "stream",
     "text": [
      " the Actual value Price was : 17449.999801305745 \n"
     ]
    },
    {
     "data": {
      "text/plain": [
       "' the predicted Price was : [[16313.163]] '"
      ]
     },
     "execution_count": 75,
     "metadata": {},
     "output_type": "execute_result"
    }
   ],
   "source": [
    "x_drop = predict(model_drop,2)\n",
    "x_drop"
   ]
  },
  {
   "cell_type": "code",
   "execution_count": 76,
   "metadata": {
    "id": "pYpye06_xzjc"
   },
   "outputs": [],
   "source": [
    "def plot_fn(mod):\n",
    "    y_true = test_l* std_label + mean_label\n",
    "    y_pred = mod.predict(test) * std_label + mean_label\n",
    "    return y_true , y_pred.flatten()"
   ]
  },
  {
   "cell_type": "code",
   "execution_count": 77,
   "metadata": {
    "id": "leNMnlxfx5nt"
   },
   "outputs": [],
   "source": [
    "import numpy as np\n",
    "import matplotlib.pyplot as plt\n",
    "%matplotlib inline\n",
    "def plotting(mod, label):\n",
    "    y_true, y_pred = plot_fn(mod)\n",
    "    coef = np.polyfit(y_true,y_pred,1)\n",
    "    poly1d_fn = np.poly1d(coef) \n",
    "  # poly1d_fn is now a function which takes in x and returns an estimate for y\n",
    "    plt.figure()\n",
    "    plt.plot(y_true,y_pred, 'yo', y_true, poly1d_fn(y_true), '--k')\n",
    "    plt.title(label)\n",
    "    plt.xlabel('Thousand Dollar True' )\n",
    "    plt.ylabel('Thousand Dollar Predictions' )\n",
    "    plt.xlim(0, 50000)\n",
    "    plt.ylim(0, 50000)"
   ]
  },
  {
   "cell_type": "code",
   "execution_count": 78,
   "metadata": {
    "colab": {
     "base_uri": "https://localhost:8080/",
     "height": 1000
    },
    "id": "3rQG1a79x72V",
    "outputId": "4d95f3da-c02f-49de-a897-21422cc9d507"
   },
   "outputs": [
    {
     "data": {
      "image/png": "[encoded data removed]",
      "text/plain": [
       "<Figure size 432x288 with 1 Axes>"
      ]
     },
     "metadata": {
      "needs_background": "light"
     },
     "output_type": "display_data"
    },
    {
     "data": {
      "image/png": "[encoded data removed]",
      "text/plain": [
       "<Figure size 432x288 with 1 Axes>"
      ]
     },
     "metadata": {
      "needs_background": "light"
     },
     "output_type": "display_data"
    },
    {
     "data": {
      "image/png": "[encoded data removed]",
      "text/plain": [
       "<Figure size 432x288 with 1 Axes>"
      ]
     },
     "metadata": {
      "needs_background": "light"
     },
     "output_type": "display_data"
    },
    {
     "data": {
      "image/png": "[encoded data removed]",
      "text/plain": [
       "<Figure size 432x288 with 1 Axes>"
      ]
     },
     "metadata": {
      "needs_background": "light"
     },
     "output_type": "display_data"
    }
   ],
   "source": [
    "plot_list = []\n",
    "for i,j in enumerate([model_relu, model_tanh, model_regular, model_drop]):\n",
    "    list_name = ['model_relu', 'model_tanh', 'model_regular', 'model_drop']\n",
    "    plot_list.append(plotting(j,list_name[i]))"
   ]
  }
 ],
 "metadata": {
  "colab": {
   "collapsed_sections": [],
   "name": "Car_Price_Prediction_assignment_final.ipynb",
   "provenance": [],
   "toc_visible": true
  },
  "kernelspec": {
   "display_name": "Python 3",
   "language": "python",
   "name": "python3"
  },
  "language_info": {
   "codemirror_mode": {
    "name": "ipython",
    "version": 3
   },
   "file_extension": ".py",
   "mimetype": "text/x-python",
   "name": "python",
   "nbconvert_exporter": "python",
   "pygments_lexer": "ipython3",
   "version": "3.7.6"
  }
 },
 "nbformat": 4,
 "nbformat_minor": 1
}
